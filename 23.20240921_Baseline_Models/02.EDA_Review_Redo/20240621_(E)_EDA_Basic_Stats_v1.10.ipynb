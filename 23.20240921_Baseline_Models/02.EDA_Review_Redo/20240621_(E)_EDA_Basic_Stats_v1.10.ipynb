{
 "cells": [
  {
   "cell_type": "markdown",
   "id": "0a195f7f-443e-4892-837e-0a4e8c211e09",
   "metadata": {},
   "source": [
    "# <font color = tomato>EDA - Basics"
   ]
  },
  {
   "cell_type": "code",
   "execution_count": 2,
   "id": "27cdae59-f7da-48a6-b10b-3f16b5d9b48b",
   "metadata": {},
   "outputs": [],
   "source": [
    "import pandas as pd\n",
    "import os\n",
    "# Set display option to show the full length of the column\n",
    "pd.set_option('display.max_colwidth', None)\n",
    "pd.set_option('display.max_rows', None)\n",
    "pd.set_option('display.max_columns', None)"
   ]
  },
  {
   "cell_type": "code",
   "execution_count": 3,
   "id": "f1f18072-a75b-43d8-8130-ec299b5a870c",
   "metadata": {
    "tags": []
   },
   "outputs": [
    {
     "name": "stdout",
     "output_type": "stream",
     "text": [
      "Base directory set to: /root\n"
     ]
    }
   ],
   "source": [
    "# Determine the base directory based on the effective user ID\n",
    "if os.geteuid() == 0:  # root user\n",
    "    base_dir = '/root'\n",
    "else:\n",
    "    base_dir = '/home/sagemaker-user'\n",
    "\n",
    "# Set the environment variable\n",
    "os.environ['BASE_DIR'] = base_dir\n",
    "\n",
    "# Verify the base directory\n",
    "print(f\"Base directory set to: {base_dir}\")"
   ]
  },
  {
   "cell_type": "markdown",
   "id": "56b52844-b760-41b8-93e8-827dee652a9e",
   "metadata": {},
   "source": [
    "---"
   ]
  },
  {
   "cell_type": "markdown",
   "id": "01c40d9d-2327-409c-9d36-790d873988c5",
   "metadata": {},
   "source": [
    "### Step 1: Load Data and Basic Information"
   ]
  },
  {
   "cell_type": "code",
   "execution_count": 4,
   "id": "a40e82e5-6f52-400e-aeff-1fec4a157548",
   "metadata": {
    "tags": []
   },
   "outputs": [
    {
     "name": "stdout",
     "output_type": "stream",
     "text": [
      "Basic Information:\n",
      "<class 'pandas.core.frame.DataFrame'>\n",
      "RangeIndex: 4747963 entries, 0 to 4747962\n",
      "Data columns (total 6 columns):\n",
      " #   Column      Dtype  \n",
      "---  ------      -----  \n",
      " 0   id          int64  \n",
      " 1   event_type  int64  \n",
      " 2   seq_id      object \n",
      " 3   time        float64\n",
      " 4   label       object \n",
      " 5   eventlabel  object \n",
      "dtypes: float64(1), int64(2), object(3)\n",
      "memory usage: 217.3+ MB\n",
      "None\n",
      "\n",
      "First few lines:\n"
     ]
    },
    {
     "data": {
      "text/html": [
       "<div>\n",
       "<style scoped>\n",
       "    .dataframe tbody tr th:only-of-type {\n",
       "        vertical-align: middle;\n",
       "    }\n",
       "\n",
       "    .dataframe tbody tr th {\n",
       "        vertical-align: top;\n",
       "    }\n",
       "\n",
       "    .dataframe thead th {\n",
       "        text-align: right;\n",
       "    }\n",
       "</style>\n",
       "<table border=\"1\" class=\"dataframe\">\n",
       "  <thead>\n",
       "    <tr style=\"text-align: right;\">\n",
       "      <th></th>\n",
       "      <th>id</th>\n",
       "      <th>event_type</th>\n",
       "      <th>seq_id</th>\n",
       "      <th>time</th>\n",
       "      <th>label</th>\n",
       "      <th>eventlabel</th>\n",
       "    </tr>\n",
       "  </thead>\n",
       "  <tbody>\n",
       "    <tr>\n",
       "      <th>0</th>\n",
       "      <td>1</td>\n",
       "      <td>189</td>\n",
       "      <td>R02-M1-N0-C:J12-U11</td>\n",
       "      <td>1.117813e+09</td>\n",
       "      <td>Anomaly</td>\n",
       "      <td>Normal</td>\n",
       "    </tr>\n",
       "    <tr>\n",
       "      <th>1</th>\n",
       "      <td>2</td>\n",
       "      <td>189</td>\n",
       "      <td>R02-M1-N0-C:J12-U11</td>\n",
       "      <td>1.117813e+09</td>\n",
       "      <td>Anomaly</td>\n",
       "      <td>Normal</td>\n",
       "    </tr>\n",
       "    <tr>\n",
       "      <th>2</th>\n",
       "      <td>3</td>\n",
       "      <td>189</td>\n",
       "      <td>R02-M1-N0-C:J12-U11</td>\n",
       "      <td>1.117813e+09</td>\n",
       "      <td>Anomaly</td>\n",
       "      <td>Normal</td>\n",
       "    </tr>\n",
       "    <tr>\n",
       "      <th>3</th>\n",
       "      <td>4</td>\n",
       "      <td>189</td>\n",
       "      <td>R02-M1-N0-C:J12-U11</td>\n",
       "      <td>1.117813e+09</td>\n",
       "      <td>Anomaly</td>\n",
       "      <td>Normal</td>\n",
       "    </tr>\n",
       "    <tr>\n",
       "      <th>4</th>\n",
       "      <td>5</td>\n",
       "      <td>189</td>\n",
       "      <td>R02-M1-N0-C:J12-U11</td>\n",
       "      <td>1.117813e+09</td>\n",
       "      <td>Anomaly</td>\n",
       "      <td>Normal</td>\n",
       "    </tr>\n",
       "    <tr>\n",
       "      <th>5</th>\n",
       "      <td>6</td>\n",
       "      <td>189</td>\n",
       "      <td>R02-M1-N0-C:J12-U11</td>\n",
       "      <td>1.117813e+09</td>\n",
       "      <td>Anomaly</td>\n",
       "      <td>Normal</td>\n",
       "    </tr>\n",
       "    <tr>\n",
       "      <th>6</th>\n",
       "      <td>7</td>\n",
       "      <td>189</td>\n",
       "      <td>R02-M1-N0-C:J12-U11</td>\n",
       "      <td>1.117813e+09</td>\n",
       "      <td>Anomaly</td>\n",
       "      <td>Normal</td>\n",
       "    </tr>\n",
       "    <tr>\n",
       "      <th>7</th>\n",
       "      <td>8</td>\n",
       "      <td>189</td>\n",
       "      <td>R02-M1-N0-C:J12-U11</td>\n",
       "      <td>1.117813e+09</td>\n",
       "      <td>Anomaly</td>\n",
       "      <td>Normal</td>\n",
       "    </tr>\n",
       "    <tr>\n",
       "      <th>8</th>\n",
       "      <td>9</td>\n",
       "      <td>189</td>\n",
       "      <td>R02-M1-N0-C:J12-U11</td>\n",
       "      <td>1.117813e+09</td>\n",
       "      <td>Anomaly</td>\n",
       "      <td>Normal</td>\n",
       "    </tr>\n",
       "    <tr>\n",
       "      <th>9</th>\n",
       "      <td>10</td>\n",
       "      <td>189</td>\n",
       "      <td>R02-M1-N0-C:J12-U11</td>\n",
       "      <td>1.117813e+09</td>\n",
       "      <td>Anomaly</td>\n",
       "      <td>Normal</td>\n",
       "    </tr>\n",
       "  </tbody>\n",
       "</table>\n",
       "</div>"
      ],
      "text/plain": [
       "   id  event_type               seq_id          time    label eventlabel\n",
       "0   1         189  R02-M1-N0-C:J12-U11  1.117813e+09  Anomaly     Normal\n",
       "1   2         189  R02-M1-N0-C:J12-U11  1.117813e+09  Anomaly     Normal\n",
       "2   3         189  R02-M1-N0-C:J12-U11  1.117813e+09  Anomaly     Normal\n",
       "3   4         189  R02-M1-N0-C:J12-U11  1.117813e+09  Anomaly     Normal\n",
       "4   5         189  R02-M1-N0-C:J12-U11  1.117813e+09  Anomaly     Normal\n",
       "5   6         189  R02-M1-N0-C:J12-U11  1.117813e+09  Anomaly     Normal\n",
       "6   7         189  R02-M1-N0-C:J12-U11  1.117813e+09  Anomaly     Normal\n",
       "7   8         189  R02-M1-N0-C:J12-U11  1.117813e+09  Anomaly     Normal\n",
       "8   9         189  R02-M1-N0-C:J12-U11  1.117813e+09  Anomaly     Normal\n",
       "9  10         189  R02-M1-N0-C:J12-U11  1.117813e+09  Anomaly     Normal"
      ]
     },
     "execution_count": 4,
     "metadata": {},
     "output_type": "execute_result"
    }
   ],
   "source": [
    "import pandas as pd\n",
    "\n",
    "# Define the file path\n",
    "# parsed_file_path = '/home/sagemaker-user/11.Data/01.BGL/03.Parsed_CFDR/parsed.csv'\n",
    "parsed_file_path = '/root/11.Data/01.BGL/03.Parsed_CFDR/parsed.csv'\n",
    "\n",
    "# Load the data into a DataFrame\n",
    "df = pd.read_csv(parsed_file_path, sep=';')\n",
    "\n",
    "# Display basic information about the DataFrame\n",
    "print(\"Basic Information:\")\n",
    "print(df.info())\n",
    "\n",
    "# Display the first few lines of the DataFrame\n",
    "print(\"\\nFirst few lines:\")\n",
    "df.head(10)"
   ]
  },
  {
   "cell_type": "markdown",
   "id": "27fa591a-e0c1-4483-9337-e1ea0a37f4ba",
   "metadata": {},
   "source": [
    "### Step 2: Summary Statistics"
   ]
  },
  {
   "cell_type": "code",
   "execution_count": 5,
   "id": "2e88468d-f027-4317-8f58-6b0739749846",
   "metadata": {},
   "outputs": [
    {
     "name": "stdout",
     "output_type": "stream",
     "text": [
      "\n",
      "Summary Statistics:\n"
     ]
    },
    {
     "data": {
      "text/html": [
       "<div>\n",
       "<style scoped>\n",
       "    .dataframe tbody tr th:only-of-type {\n",
       "        vertical-align: middle;\n",
       "    }\n",
       "\n",
       "    .dataframe tbody tr th {\n",
       "        vertical-align: top;\n",
       "    }\n",
       "\n",
       "    .dataframe thead th {\n",
       "        text-align: right;\n",
       "    }\n",
       "</style>\n",
       "<table border=\"1\" class=\"dataframe\">\n",
       "  <thead>\n",
       "    <tr style=\"text-align: right;\">\n",
       "      <th></th>\n",
       "      <th>id</th>\n",
       "      <th>event_type</th>\n",
       "      <th>seq_id</th>\n",
       "      <th>time</th>\n",
       "      <th>label</th>\n",
       "      <th>eventlabel</th>\n",
       "    </tr>\n",
       "  </thead>\n",
       "  <tbody>\n",
       "    <tr>\n",
       "      <th>count</th>\n",
       "      <td>4.747963e+06</td>\n",
       "      <td>4.747963e+06</td>\n",
       "      <td>4658667</td>\n",
       "      <td>4.747963e+06</td>\n",
       "      <td>4747963</td>\n",
       "      <td>4747963</td>\n",
       "    </tr>\n",
       "    <tr>\n",
       "      <th>unique</th>\n",
       "      <td>NaN</td>\n",
       "      <td>NaN</td>\n",
       "      <td>69251</td>\n",
       "      <td>NaN</td>\n",
       "      <td>2</td>\n",
       "      <td>44</td>\n",
       "    </tr>\n",
       "    <tr>\n",
       "      <th>top</th>\n",
       "      <td>NaN</td>\n",
       "      <td>NaN</td>\n",
       "      <td>R30-M0-N9-C:J16-U01</td>\n",
       "      <td>NaN</td>\n",
       "      <td>Anomaly</td>\n",
       "      <td>Normal</td>\n",
       "    </tr>\n",
       "    <tr>\n",
       "      <th>freq</th>\n",
       "      <td>NaN</td>\n",
       "      <td>NaN</td>\n",
       "      <td>152329</td>\n",
       "      <td>NaN</td>\n",
       "      <td>3287332</td>\n",
       "      <td>4399265</td>\n",
       "    </tr>\n",
       "    <tr>\n",
       "      <th>mean</th>\n",
       "      <td>2.373982e+06</td>\n",
       "      <td>1.271027e+02</td>\n",
       "      <td>NaN</td>\n",
       "      <td>1.123975e+09</td>\n",
       "      <td>NaN</td>\n",
       "      <td>NaN</td>\n",
       "    </tr>\n",
       "    <tr>\n",
       "      <th>std</th>\n",
       "      <td>1.370619e+06</td>\n",
       "      <td>8.594136e+01</td>\n",
       "      <td>NaN</td>\n",
       "      <td>5.226260e+06</td>\n",
       "      <td>NaN</td>\n",
       "      <td>NaN</td>\n",
       "    </tr>\n",
       "    <tr>\n",
       "      <th>min</th>\n",
       "      <td>1.000000e+00</td>\n",
       "      <td>1.000000e+00</td>\n",
       "      <td>NaN</td>\n",
       "      <td>1.117813e+09</td>\n",
       "      <td>NaN</td>\n",
       "      <td>NaN</td>\n",
       "    </tr>\n",
       "    <tr>\n",
       "      <th>25%</th>\n",
       "      <td>1.186992e+06</td>\n",
       "      <td>3.800000e+01</td>\n",
       "      <td>NaN</td>\n",
       "      <td>1.120121e+09</td>\n",
       "      <td>NaN</td>\n",
       "      <td>NaN</td>\n",
       "    </tr>\n",
       "    <tr>\n",
       "      <th>50%</th>\n",
       "      <td>2.373982e+06</td>\n",
       "      <td>1.680000e+02</td>\n",
       "      <td>NaN</td>\n",
       "      <td>1.121574e+09</td>\n",
       "      <td>NaN</td>\n",
       "      <td>NaN</td>\n",
       "    </tr>\n",
       "    <tr>\n",
       "      <th>75%</th>\n",
       "      <td>3.560972e+06</td>\n",
       "      <td>1.680000e+02</td>\n",
       "      <td>NaN</td>\n",
       "      <td>1.128723e+09</td>\n",
       "      <td>NaN</td>\n",
       "      <td>NaN</td>\n",
       "    </tr>\n",
       "    <tr>\n",
       "      <th>max</th>\n",
       "      <td>4.747963e+06</td>\n",
       "      <td>4.010000e+02</td>\n",
       "      <td>NaN</td>\n",
       "      <td>1.136362e+09</td>\n",
       "      <td>NaN</td>\n",
       "      <td>NaN</td>\n",
       "    </tr>\n",
       "  </tbody>\n",
       "</table>\n",
       "</div>"
      ],
      "text/plain": [
       "                  id    event_type               seq_id          time  \\\n",
       "count   4.747963e+06  4.747963e+06              4658667  4.747963e+06   \n",
       "unique           NaN           NaN                69251           NaN   \n",
       "top              NaN           NaN  R30-M0-N9-C:J16-U01           NaN   \n",
       "freq             NaN           NaN               152329           NaN   \n",
       "mean    2.373982e+06  1.271027e+02                  NaN  1.123975e+09   \n",
       "std     1.370619e+06  8.594136e+01                  NaN  5.226260e+06   \n",
       "min     1.000000e+00  1.000000e+00                  NaN  1.117813e+09   \n",
       "25%     1.186992e+06  3.800000e+01                  NaN  1.120121e+09   \n",
       "50%     2.373982e+06  1.680000e+02                  NaN  1.121574e+09   \n",
       "75%     3.560972e+06  1.680000e+02                  NaN  1.128723e+09   \n",
       "max     4.747963e+06  4.010000e+02                  NaN  1.136362e+09   \n",
       "\n",
       "          label eventlabel  \n",
       "count   4747963    4747963  \n",
       "unique        2         44  \n",
       "top     Anomaly     Normal  \n",
       "freq    3287332    4399265  \n",
       "mean        NaN        NaN  \n",
       "std         NaN        NaN  \n",
       "min         NaN        NaN  \n",
       "25%         NaN        NaN  \n",
       "50%         NaN        NaN  \n",
       "75%         NaN        NaN  \n",
       "max         NaN        NaN  "
      ]
     },
     "execution_count": 5,
     "metadata": {},
     "output_type": "execute_result"
    }
   ],
   "source": [
    "# Summary statistics of the DataFrame\n",
    "print(\"\\nSummary Statistics:\")\n",
    "df.describe(include='all')"
   ]
  },
  {
   "cell_type": "markdown",
   "id": "ac736228-79a1-4f63-94b9-935b93c1ff74",
   "metadata": {},
   "source": [
    "### Step 3: Checking for Missing Values"
   ]
  },
  {
   "cell_type": "code",
   "execution_count": 6,
   "id": "02989600-59ea-4aae-824a-e7e7f8e6c5df",
   "metadata": {
    "tags": []
   },
   "outputs": [
    {
     "name": "stdout",
     "output_type": "stream",
     "text": [
      "\n",
      "Missing Values:\n"
     ]
    },
    {
     "data": {
      "text/plain": [
       "id                0\n",
       "event_type        0\n",
       "seq_id        89296\n",
       "time              0\n",
       "label             0\n",
       "eventlabel        0\n",
       "dtype: int64"
      ]
     },
     "execution_count": 6,
     "metadata": {},
     "output_type": "execute_result"
    }
   ],
   "source": [
    "# Checking for missing values\n",
    "print(\"\\nMissing Values:\")\n",
    "df.isnull().sum()"
   ]
  },
  {
   "cell_type": "markdown",
   "id": "34bacff0-e730-41d7-a19f-930b8fb31b0c",
   "metadata": {},
   "source": [
    "### Step 4: Distribution of Event Types"
   ]
  },
  {
   "cell_type": "code",
   "execution_count": 8,
   "id": "5333d0b3-5e23-4437-a81e-3ba81b5974c1",
   "metadata": {
    "tags": []
   },
   "outputs": [],
   "source": [
    "# import matplotlib.pyplot as plt\n",
    "# import seaborn as sns\n",
    "\n",
    "# # Set the pastel palette\n",
    "# sns.set_palette(\"pastel\")\n",
    "\n",
    "# # Distribution of event types\n",
    "# plt.figure(figsize=(12, 6))\n",
    "# sns.countplot(x='event_type', data=df)\n",
    "# plt.title('Distribution of Event Types')\n",
    "# plt.xlabel('Event Type')\n",
    "# plt.ylabel('Count')\n",
    "# plt.xticks(rotation=90)\n",
    "# plt.show()"
   ]
  },
  {
   "cell_type": "markdown",
   "id": "ea1d3abd-b327-49a4-b967-ece352501ec2",
   "metadata": {},
   "source": [
    "#### <font color = orange> 4.1 Top 10 Events Only"
   ]
  },
  {
   "cell_type": "code",
   "execution_count": 8,
   "id": "bbbfe329-6082-4b7d-99e6-48fcfde34cd4",
   "metadata": {
    "tags": []
   },
   "outputs": [
    {
     "name": "stderr",
     "output_type": "stream",
     "text": [
      "/tmp/ipykernel_383/1473736596.py:18: FutureWarning: \n",
      "\n",
      "Passing `palette` without assigning `hue` is deprecated and will be removed in v0.14.0. Assign the `x` variable to `hue` and set `legend=False` for the same effect.\n",
      "\n",
      "  bars = sns.barplot(x=top_event_types.index, y=top_event_types.values, palette=\"pastel\", order=top_event_types.index)\n",
      "/tmp/ipykernel_383/1473736596.py:29: UserWarning: set_ticklabels() should only be used with a fixed number of ticks, i.e. after set_ticks() or using a FixedLocator.\n",
      "  bars.set_xticklabels([f'Seq: {et}' for et in top_event_types.index])\n"
     ]
    },
    {
     "data": {
      "image/png": "[encoded data removed]",
      "text/plain": [
       "<Figure size 1200x600 with 1 Axes>"
      ]
     },
     "metadata": {},
     "output_type": "display_data"
    },
    {
     "data": {
      "text/html": [
       "<style type=\"text/css\">\n",
       "#T_ca44d th {\n",
       "  text-align: left;\n",
       "}\n",
       "#T_ca44d_row0_col0, #T_ca44d_row0_col1, #T_ca44d_row1_col0, #T_ca44d_row1_col1, #T_ca44d_row2_col0, #T_ca44d_row2_col1, #T_ca44d_row3_col0, #T_ca44d_row3_col1, #T_ca44d_row4_col0, #T_ca44d_row4_col1, #T_ca44d_row5_col0, #T_ca44d_row5_col1, #T_ca44d_row6_col0, #T_ca44d_row6_col1, #T_ca44d_row7_col0, #T_ca44d_row7_col1, #T_ca44d_row8_col0, #T_ca44d_row8_col1, #T_ca44d_row9_col0, #T_ca44d_row9_col1 {\n",
       "  text-align: left;\n",
       "}\n",
       "</style>\n",
       "<table id=\"T_ca44d\">\n",
       "  <thead>\n",
       "    <tr>\n",
       "      <th class=\"blank level0\" >&nbsp;</th>\n",
       "      <th id=\"T_ca44d_level0_col0\" class=\"col_heading level0 col0\" >Event Type</th>\n",
       "      <th id=\"T_ca44d_level0_col1\" class=\"col_heading level0 col1\" >Template</th>\n",
       "    </tr>\n",
       "  </thead>\n",
       "  <tbody>\n",
       "    <tr>\n",
       "      <th id=\"T_ca44d_level0_row0\" class=\"row_heading level0 row0\" >0</th>\n",
       "      <td id=\"T_ca44d_row0_col0\" class=\"data row0 col0\" >168</td>\n",
       "      <td id=\"T_ca44d_row0_col1\" class=\"data row0 col1\" >generating <*></td>\n",
       "    </tr>\n",
       "    <tr>\n",
       "      <th id=\"T_ca44d_level0_row1\" class=\"row_heading level0 row1\" >1</th>\n",
       "      <td id=\"T_ca44d_row1_col0\" class=\"data row1 col0\" >173</td>\n",
       "      <td id=\"T_ca44d_row1_col1\" class=\"data row1 col1\" >iar <*> dear <*></td>\n",
       "    </tr>\n",
       "    <tr>\n",
       "      <th id=\"T_ca44d_level0_row2\" class=\"row_heading level0 row2\" >2</th>\n",
       "      <td id=\"T_ca44d_row2_col0\" class=\"data row2 col0\" >6</td>\n",
       "      <td id=\"T_ca44d_row2_col1\" class=\"data row2 col1\" ><*> double-hummer alignment exceptions</td>\n",
       "    </tr>\n",
       "    <tr>\n",
       "      <th id=\"T_ca44d_level0_row3\" class=\"row_heading level0 row3\" >3</th>\n",
       "      <td id=\"T_ca44d_row3_col0\" class=\"data row3 col0\" >9</td>\n",
       "      <td id=\"T_ca44d_row3_col1\" class=\"data row3 col1\" ><*> floating point alignment exceptions</td>\n",
       "    </tr>\n",
       "    <tr>\n",
       "      <th id=\"T_ca44d_level0_row4\" class=\"row_heading level0 row4\" >4</th>\n",
       "      <td id=\"T_ca44d_row4_col0\" class=\"data row4 col0\" >38</td>\n",
       "      <td id=\"T_ca44d_row4_col1\" class=\"data row4 col1\" >CE sym <*> at <*> mask <*></td>\n",
       "    </tr>\n",
       "    <tr>\n",
       "      <th id=\"T_ca44d_level0_row5\" class=\"row_heading level0 row5\" >5</th>\n",
       "      <td id=\"T_ca44d_row5_col0\" class=\"data row5 col0\" >15</td>\n",
       "      <td id=\"T_ca44d_row5_col1\" class=\"data row5 col1\" ><*> TLB error interrupt</td>\n",
       "    </tr>\n",
       "    <tr>\n",
       "      <th id=\"T_ca44d_level0_row6\" class=\"row_heading level0 row6\" >6</th>\n",
       "      <td id=\"T_ca44d_row6_col0\" class=\"data row6 col0\" >22</td>\n",
       "      <td id=\"T_ca44d_row6_col1\" class=\"data row6 col1\" ><*> total interrupts. <*> critical input interrupts. <*> microseconds total spent on critical input interrupts, <*> microseconds max time in a critical input interrupt.</td>\n",
       "    </tr>\n",
       "    <tr>\n",
       "      <th id=\"T_ca44d_level0_row7\" class=\"row_heading level0 row7\" >7</th>\n",
       "      <td id=\"T_ca44d_row7_col0\" class=\"data row7 col0\" >12</td>\n",
       "      <td id=\"T_ca44d_row7_col1\" class=\"data row7 col1\" ><*> microseconds spent in the rbs signal handler during <*> calls. <*> microseconds was the maximum time for a single instance of a correctable ddr.</td>\n",
       "    </tr>\n",
       "    <tr>\n",
       "      <th id=\"T_ca44d_level0_row8\" class=\"row_heading level0 row8\" >8</th>\n",
       "      <td id=\"T_ca44d_row8_col0\" class=\"data row8 col0\" >189</td>\n",
       "      <td id=\"T_ca44d_row8_col1\" class=\"data row8 col1\" >instruction cache parity error corrected</td>\n",
       "    </tr>\n",
       "    <tr>\n",
       "      <th id=\"T_ca44d_level0_row9\" class=\"row_heading level0 row9\" >9</th>\n",
       "      <td id=\"T_ca44d_row9_col0\" class=\"data row9 col0\" >180</td>\n",
       "      <td id=\"T_ca44d_row9_col1\" class=\"data row9 col1\" >idoproxydb hit ASSERT condition: ASSERT expression=<*> Source file=<*> Source line=<*> Function=<*> IdoTransportMgr::SendPacket(IdoUdpMgr<*>, BglCtlPavTrace<*>)</td>\n",
       "    </tr>\n",
       "  </tbody>\n",
       "</table>\n"
      ],
      "text/plain": [
       "<pandas.io.formats.style.Styler at 0x7f8b58023eb0>"
      ]
     },
     "metadata": {},
     "output_type": "display_data"
    }
   ],
   "source": [
    "import matplotlib.pyplot as plt\n",
    "import seaborn as sns\n",
    "import pandas as pd\n",
    "import os\n",
    "\n",
    "# Load the data into a DataFrame\n",
    "parsed_file_path = '/root/11.Data/01.BGL/03.Parsed_CFDR/parsed.csv'\n",
    "df = pd.read_csv(parsed_file_path, sep=';')\n",
    "\n",
    "# Get the top 10 event types\n",
    "top_event_types = df['event_type'].value_counts().head(10).sort_values(ascending=False)\n",
    "\n",
    "# Set the pastel palette\n",
    "sns.set_palette(\"pastel\")\n",
    "\n",
    "# Plot the top 10 event types by count\n",
    "plt.figure(figsize=(12, 6))\n",
    "bars = sns.barplot(x=top_event_types.index, y=top_event_types.values, palette=\"pastel\", order=top_event_types.index)\n",
    "plt.title('Top 10 Event Types by Count')\n",
    "plt.xlabel('Event Type')\n",
    "plt.ylabel('Count')\n",
    "\n",
    "# Add text labels on the bars\n",
    "for bar, count in zip(bars.patches, top_event_types.values):\n",
    "    height = bar.get_height()\n",
    "    bars.text(bar.get_x() + bar.get_width() / 2, height, f'{count:,}', ha='center', va='bottom')\n",
    "\n",
    "# Customize the x-axis labels\n",
    "bars.set_xticklabels([f'Seq: {et}' for et in top_event_types.index])\n",
    "plt.xticks(rotation=90)\n",
    "\n",
    "# Format Y axis with comma formatting\n",
    "bars.get_yaxis().set_major_formatter(plt.FuncFormatter(lambda x, loc: \"{:,}\".format(int(x))))\n",
    "\n",
    "plt.show()\n",
    "\n",
    "# Load the template data\n",
    "base_dir = '/root'\n",
    "# template_file_path = os.path.join(base_dir, '12.Templates/aecit_BGL_templates.csv')\n",
    "template_file_path = os.path.join(base_dir, '08.GIT_Repos_REF/11.Examples_Baseline_AECID/templates/BGL_templates.csv')\n",
    "with open(template_file_path, 'r') as file:\n",
    "    templates = [line.strip() for line in file]\n",
    "\n",
    "# Create a table of the top event types and their corresponding templates\n",
    "template_table = pd.DataFrame({\n",
    "    'Event Type': top_event_types.index,\n",
    "    'Template': [templates[et - 1] for et in top_event_types.index]\n",
    "})\n",
    "\n",
    "# Display the table with text left-aligned\n",
    "import IPython.display as display\n",
    "display.display(template_table.style.set_properties(**{'text-align': 'left'}).set_table_styles([dict(selector='th', props=[('text-align', 'left')])]))"
   ]
  },
  {
   "cell_type": "markdown",
   "id": "e3c4b23d-9411-4222-95a2-f80fc6d273f6",
   "metadata": {},
   "source": [
    "---"
   ]
  },
  {
   "cell_type": "markdown",
   "id": "1d994748-961d-4708-93e1-7125df236a7a",
   "metadata": {},
   "source": [
    "### Step 5: Distribution of Labels"
   ]
  },
  {
   "cell_type": "code",
   "execution_count": 9,
   "id": "398889db-26de-40b2-a1c7-6061f056cb8a",
   "metadata": {
    "tags": []
   },
   "outputs": [
    {
     "data": {
      "image/png": "[encoded data removed]",
      "text/plain": [
       "<Figure size 800x400 with 1 Axes>"
      ]
     },
     "metadata": {},
     "output_type": "display_data"
    }
   ],
   "source": [
    "# Distribution of labels\n",
    "plt.figure(figsize=(8, 4))\n",
    "sns.countplot(x='label', data=df)\n",
    "plt.title('Distribution of Labels')\n",
    "plt.xlabel('Label')\n",
    "plt.ylabel('Count')\n",
    "plt.show()"
   ]
  },
  {
   "cell_type": "markdown",
   "id": "89044ab8-247a-45fb-8f4a-37c35d35ac91",
   "metadata": {},
   "source": [
    "### Step 6: Time Analysis"
   ]
  },
  {
   "cell_type": "code",
   "execution_count": 10,
   "id": "a0621713-949c-4880-a29a-624d6e592923",
   "metadata": {
    "tags": []
   },
   "outputs": [
    {
     "data": {
      "image/png": "[encoded data removed]",
      "text/plain": [
       "<Figure size 1400x700 with 1 Axes>"
      ]
     },
     "metadata": {},
     "output_type": "display_data"
    }
   ],
   "source": [
    "# Convert the time column to datetime\n",
    "df['datetime'] = pd.to_datetime(df['time'], unit='s')\n",
    "\n",
    "# Plot the number of events over time\n",
    "plt.figure(figsize=(14, 7))\n",
    "df.set_index('datetime')['id'].resample('D').count().plot()\n",
    "plt.title('Number of Events Over Time')\n",
    "plt.xlabel('Date')\n",
    "plt.ylabel('Number of Events')\n",
    "plt.show()"
   ]
  },
  {
   "cell_type": "markdown",
   "id": "b62566b4-c18d-46f8-b64d-1f01fa84d58b",
   "metadata": {},
   "source": [
    "### Step 7: Event Types Over Time"
   ]
  },
  {
   "cell_type": "code",
   "execution_count": 12,
   "id": "c9b927b5-7971-48a7-a29e-512f9d0360dc",
   "metadata": {
    "collapsed": true,
    "jupyter": {
     "outputs_hidden": true
    },
    "tags": []
   },
   "outputs": [],
   "source": [
    "# # Plot the number of events for each event type over time\n",
    "# plt.figure(figsize=(14, 7))\n",
    "# sns.lineplot(data=df.set_index('datetime').groupby('event_type').resample('D').size().unstack().fillna(0))\n",
    "# plt.title('Event Types Over Time')\n",
    "# plt.xlabel('Date')\n",
    "# plt.ylabel('Number of Events')\n",
    "# plt.legend(title='Event Type', bbox_to_anchor=(1.05, 1), loc='upper left')\n",
    "# plt.show()"
   ]
  },
  {
   "cell_type": "markdown",
   "id": "37a0015d-6ae9-484e-82d2-c5769da572cf",
   "metadata": {},
   "source": [
    "### Step 8: Correlation Analysis"
   ]
  },
  {
   "cell_type": "code",
   "execution_count": 13,
   "id": "a9b0f5b6-a9c2-4a18-bc23-45b00aed14d2",
   "metadata": {
    "tags": []
   },
   "outputs": [],
   "source": [
    "# # Correlation matrix\n",
    "# correlation_matrix = df.corr()\n",
    "\n",
    "# # Plot the heatmap\n",
    "# plt.figure(figsize=(10, 8))\n",
    "# sns.heatmap(correlation_matrix, annot=True, cmap='pastel', fmt='.2f')\n",
    "# plt.title('Correlation Matrix')\n",
    "# plt.show()"
   ]
  },
  {
   "cell_type": "markdown",
   "id": "a99667fe-4f1b-4a48-9927-e429d68ca432",
   "metadata": {},
   "source": [
    "### Step 9: Label Distribution Across Event Types"
   ]
  },
  {
   "cell_type": "code",
   "execution_count": 14,
   "id": "5034f4f1-8534-4de1-b253-6f631fc0f457",
   "metadata": {
    "tags": []
   },
   "outputs": [
    {
     "data": {
      "image/png": "[encoded data removed]",
      "text/plain": [
       "<Figure size 1400x700 with 1 Axes>"
      ]
     },
     "metadata": {},
     "output_type": "display_data"
    }
   ],
   "source": [
    "# # Label distribution across event types\n",
    "# plt.figure(figsize=(14, 7))\n",
    "# sns.countplot(x='event_type', hue='label', data=df)\n",
    "# plt.title('Label Distribution Across Event Types')\n",
    "# plt.xlabel('Event Type')\n",
    "# plt.ylabel('Count')\n",
    "# plt.xticks(rotation=90)\n",
    "# plt.show()"
   ]
  },
  {
   "cell_type": "code",
   "execution_count": 11,
   "id": "f76c17e3-60b5-4947-850a-f02c94b2981a",
   "metadata": {},
   "outputs": [
    {
     "name": "stderr",
     "output_type": "stream",
     "text": [
      "/tmp/ipykernel_383/2589266272.py:27: UserWarning: set_ticklabels() should only be used with a fixed number of ticks, i.e. after set_ticks() or using a FixedLocator.\n",
      "  bars.set_xticklabels([f'Seq: {et}' for et in top_event_types])\n"
     ]
    },
    {
     "data": {
      "image/png": "[encoded data removed]",
      "text/plain": [
       "<Figure size 1400x700 with 1 Axes>"
      ]
     },
     "metadata": {},
     "output_type": "display_data"
    }
   ],
   "source": [
    "import matplotlib.pyplot as plt\n",
    "import seaborn as sns\n",
    "import pandas as pd\n",
    "import os\n",
    "\n",
    "# Load the data into a DataFrame\n",
    "parsed_file_path = '/root/11.Data/01.BGL/03.Parsed_CFDR/parsed.csv'\n",
    "df = pd.read_csv(parsed_file_path, sep=';')\n",
    "\n",
    "# Get the top 10 event types\n",
    "top_event_types = df['event_type'].value_counts().head(10).sort_values(ascending=False).index\n",
    "\n",
    "# Filter the DataFrame to include only the top 10 event types\n",
    "df_top_10 = df[df['event_type'].isin(top_event_types)]\n",
    "\n",
    "# Set the pastel palette\n",
    "sns.set_palette(\"pastel\")\n",
    "\n",
    "# Plot the label distribution across the top 10 event types\n",
    "plt.figure(figsize=(14, 7))\n",
    "bars = sns.countplot(x='event_type', hue='label', data=df_top_10, palette=\"pastel\", order=top_event_types)\n",
    "plt.title('Label Distribution Across Top 10 Event Types')\n",
    "plt.xlabel('Event Type')\n",
    "plt.ylabel('Count')\n",
    "\n",
    "# Customize the x-axis labels\n",
    "bars.set_xticklabels([f'Seq: {et}' for et in top_event_types])\n",
    "plt.xticks(rotation=90)\n",
    "\n",
    "# Format Y axis with comma formatting\n",
    "bars.get_yaxis().set_major_formatter(plt.FuncFormatter(lambda x, loc: \"{:,}\".format(int(x))))\n",
    "\n",
    "plt.show()"
   ]
  },
  {
   "cell_type": "code",
   "execution_count": 13,
   "id": "07f6afce-b913-4629-84a3-f47786948862",
   "metadata": {},
   "outputs": [
    {
     "name": "stderr",
     "output_type": "stream",
     "text": [
      "/tmp/ipykernel_383/2230431110.py:27: UserWarning: set_ticklabels() should only be used with a fixed number of ticks, i.e. after set_ticks() or using a FixedLocator.\n",
      "  bars.set_xticklabels([f'Seq: {et}' for et in top_event_types])\n"
     ]
    },
    {
     "data": {
      "image/png": "[encoded data removed]",
      "text/plain": [
       "<Figure size 1400x700 with 1 Axes>"
      ]
     },
     "metadata": {},
     "output_type": "display_data"
    },
    {
     "data": {
      "text/html": [
       "<style type=\"text/css\">\n",
       "#T_f8d73 th {\n",
       "  text-align: left;\n",
       "}\n",
       "#T_f8d73_row0_col0, #T_f8d73_row0_col1, #T_f8d73_row1_col0, #T_f8d73_row1_col1, #T_f8d73_row2_col0, #T_f8d73_row2_col1, #T_f8d73_row3_col0, #T_f8d73_row3_col1, #T_f8d73_row4_col0, #T_f8d73_row4_col1, #T_f8d73_row5_col0, #T_f8d73_row5_col1, #T_f8d73_row6_col0, #T_f8d73_row6_col1, #T_f8d73_row7_col0, #T_f8d73_row7_col1, #T_f8d73_row8_col0, #T_f8d73_row8_col1, #T_f8d73_row9_col0, #T_f8d73_row9_col1 {\n",
       "  text-align: left;\n",
       "}\n",
       "</style>\n",
       "<table id=\"T_f8d73\">\n",
       "  <thead>\n",
       "    <tr>\n",
       "      <th class=\"blank level0\" >&nbsp;</th>\n",
       "      <th id=\"T_f8d73_level0_col0\" class=\"col_heading level0 col0\" >Event Type</th>\n",
       "      <th id=\"T_f8d73_level0_col1\" class=\"col_heading level0 col1\" >Template</th>\n",
       "    </tr>\n",
       "  </thead>\n",
       "  <tbody>\n",
       "    <tr>\n",
       "      <th id=\"T_f8d73_level0_row0\" class=\"row_heading level0 row0\" >0</th>\n",
       "      <td id=\"T_f8d73_row0_col0\" class=\"data row0 col0\" >168</td>\n",
       "      <td id=\"T_f8d73_row0_col1\" class=\"data row0 col1\" >generating <*></td>\n",
       "    </tr>\n",
       "    <tr>\n",
       "      <th id=\"T_f8d73_level0_row1\" class=\"row_heading level0 row1\" >1</th>\n",
       "      <td id=\"T_f8d73_row1_col0\" class=\"data row1 col0\" >173</td>\n",
       "      <td id=\"T_f8d73_row1_col1\" class=\"data row1 col1\" >iar <*> dear <*></td>\n",
       "    </tr>\n",
       "    <tr>\n",
       "      <th id=\"T_f8d73_level0_row2\" class=\"row_heading level0 row2\" >2</th>\n",
       "      <td id=\"T_f8d73_row2_col0\" class=\"data row2 col0\" >6</td>\n",
       "      <td id=\"T_f8d73_row2_col1\" class=\"data row2 col1\" ><*> double-hummer alignment exceptions</td>\n",
       "    </tr>\n",
       "    <tr>\n",
       "      <th id=\"T_f8d73_level0_row3\" class=\"row_heading level0 row3\" >3</th>\n",
       "      <td id=\"T_f8d73_row3_col0\" class=\"data row3 col0\" >9</td>\n",
       "      <td id=\"T_f8d73_row3_col1\" class=\"data row3 col1\" ><*> floating point alignment exceptions</td>\n",
       "    </tr>\n",
       "    <tr>\n",
       "      <th id=\"T_f8d73_level0_row4\" class=\"row_heading level0 row4\" >4</th>\n",
       "      <td id=\"T_f8d73_row4_col0\" class=\"data row4 col0\" >38</td>\n",
       "      <td id=\"T_f8d73_row4_col1\" class=\"data row4 col1\" >CE sym <*> at <*> mask <*></td>\n",
       "    </tr>\n",
       "    <tr>\n",
       "      <th id=\"T_f8d73_level0_row5\" class=\"row_heading level0 row5\" >5</th>\n",
       "      <td id=\"T_f8d73_row5_col0\" class=\"data row5 col0\" >15</td>\n",
       "      <td id=\"T_f8d73_row5_col1\" class=\"data row5 col1\" ><*> TLB error interrupt</td>\n",
       "    </tr>\n",
       "    <tr>\n",
       "      <th id=\"T_f8d73_level0_row6\" class=\"row_heading level0 row6\" >6</th>\n",
       "      <td id=\"T_f8d73_row6_col0\" class=\"data row6 col0\" >22</td>\n",
       "      <td id=\"T_f8d73_row6_col1\" class=\"data row6 col1\" ><*> total interrupts. <*> critical input interrupts. <*> microseconds total spent on critical input interrupts, <*> microseconds max time in a critical input interrupt.</td>\n",
       "    </tr>\n",
       "    <tr>\n",
       "      <th id=\"T_f8d73_level0_row7\" class=\"row_heading level0 row7\" >7</th>\n",
       "      <td id=\"T_f8d73_row7_col0\" class=\"data row7 col0\" >12</td>\n",
       "      <td id=\"T_f8d73_row7_col1\" class=\"data row7 col1\" ><*> microseconds spent in the rbs signal handler during <*> calls. <*> microseconds was the maximum time for a single instance of a correctable ddr.</td>\n",
       "    </tr>\n",
       "    <tr>\n",
       "      <th id=\"T_f8d73_level0_row8\" class=\"row_heading level0 row8\" >8</th>\n",
       "      <td id=\"T_f8d73_row8_col0\" class=\"data row8 col0\" >189</td>\n",
       "      <td id=\"T_f8d73_row8_col1\" class=\"data row8 col1\" >instruction cache parity error corrected</td>\n",
       "    </tr>\n",
       "    <tr>\n",
       "      <th id=\"T_f8d73_level0_row9\" class=\"row_heading level0 row9\" >9</th>\n",
       "      <td id=\"T_f8d73_row9_col0\" class=\"data row9 col0\" >180</td>\n",
       "      <td id=\"T_f8d73_row9_col1\" class=\"data row9 col1\" >idoproxydb hit ASSERT condition: ASSERT expression=<*> Source file=<*> Source line=<*> Function=<*> IdoTransportMgr::SendPacket(IdoUdpMgr<*>, BglCtlPavTrace<*>)</td>\n",
       "    </tr>\n",
       "  </tbody>\n",
       "</table>\n"
      ],
      "text/plain": [
       "<pandas.io.formats.style.Styler at 0x7f8b59127e20>"
      ]
     },
     "metadata": {},
     "output_type": "display_data"
    }
   ],
   "source": [
    "import matplotlib.pyplot as plt\n",
    "import seaborn as sns\n",
    "import pandas as pd\n",
    "import os\n",
    "\n",
    "# Load the data into a DataFrame\n",
    "parsed_file_path = '/root/11.Data/01.BGL/03.Parsed_CFDR/parsed.csv'\n",
    "df = pd.read_csv(parsed_file_path, sep=';')\n",
    "\n",
    "# Get the top 10 event types\n",
    "top_event_types = df['event_type'].value_counts().head(10).sort_values(ascending=False).index\n",
    "\n",
    "# Filter the DataFrame to include only the top 10 event types\n",
    "df_top_10 = df[df['event_type'].isin(top_event_types)]\n",
    "\n",
    "# Set the pastel palette\n",
    "sns.set_palette(\"pastel\")\n",
    "\n",
    "# Plot the label distribution across the top 10 event types\n",
    "plt.figure(figsize=(14, 7))\n",
    "bars = sns.countplot(x='event_type', hue='label', data=df_top_10, palette=\"pastel\", order=top_event_types)\n",
    "plt.title('Label Distribution Across Top 10 Event Types')\n",
    "plt.xlabel('Event Type')\n",
    "plt.ylabel('Count')\n",
    "\n",
    "# Customize the x-axis labels\n",
    "bars.set_xticklabels([f'Seq: {et}' for et in top_event_types])\n",
    "plt.xticks(rotation=90)\n",
    "\n",
    "# Format Y axis with comma formatting\n",
    "bars.get_yaxis().set_major_formatter(plt.FuncFormatter(lambda x, loc: \"{:,}\".format(int(x))))\n",
    "\n",
    "plt.show()\n",
    "\n",
    "# Load the template data\n",
    "base_dir = '/root'\n",
    "# template_file_path = os.path.join(base_dir, '12.Templates/aecit_BGL_templates.csv')\n",
    "template_file_path = os.path.join(base_dir, '08.GIT_Repos_REF/11.Examples_Baseline_AECID/templates/BGL_templates.csv')\n",
    "\n",
    "with open(template_file_path, 'r') as file:\n",
    "    templates = [line.strip() for line in file]\n",
    "\n",
    "# Create a table of the top event types and their corresponding templates\n",
    "template_table = pd.DataFrame({\n",
    "    'Event Type': top_event_types,\n",
    "    'Template': [templates[et - 1] for et in top_event_types]\n",
    "})\n",
    "\n",
    "# Display the table with text left-aligned\n",
    "import IPython.display as display\n",
    "display.display(template_table.style.set_properties(**{'text-align': 'left'}).set_table_styles([dict(selector='th', props=[('text-align', 'left')])]))\n"
   ]
  },
  {
   "cell_type": "markdown",
   "id": "9a89a150-dcd0-424e-a35c-177b3d181b22",
   "metadata": {},
   "source": [
    "### Step 10: Sequence ID Analysis"
   ]
  },
  {
   "cell_type": "code",
   "execution_count": 17,
   "id": "ccfb9b47-76eb-4803-8717-d242721c316d",
   "metadata": {
    "tags": []
   },
   "outputs": [],
   "source": [
    "# # Top 10 sequence IDs by event count\n",
    "# top_seq_ids = df['seq_id'].value_counts().head(10)\n",
    "\n",
    "# # Plot the top 10 sequence IDs\n",
    "# plt.figure(figsize=(12, 6))\n",
    "# sns.barplot(x=top_seq_ids.index, y=top_seq_ids.values, palette='pastel')\n",
    "# plt.title('Top 10 Sequence IDs by Event Count')\n",
    "# plt.xlabel('Sequence ID')\n",
    "# plt.ylabel('Count')\n",
    "# plt.xticks(rotation=90)\n",
    "# plt.show()"
   ]
  },
  {
   "cell_type": "code",
   "execution_count": null,
   "id": "7dbdac51-d061-4bd0-a7ba-c36f1056cedd",
   "metadata": {},
   "outputs": [],
   "source": []
  }
 ],
 "metadata": {
  "availableInstances": [
   {
    "_defaultOrder": 0,
    "_isFastLaunch": true,
    "category": "General purpose",
    "gpuNum": 0,
    "hideHardwareSpecs": false,
    "memoryGiB": 4,
    "name": "ml.t3.medium",
    "vcpuNum": 2
   },
   {
    "_defaultOrder": 1,
    "_isFastLaunch": false,
    "category": "General purpose",
    "gpuNum": 0,
    "hideHardwareSpecs": false,
    "memoryGiB": 8,
    "name": "ml.t3.large",
    "vcpuNum": 2
   },
   {
    "_defaultOrder": 2,
    "_isFastLaunch": false,
    "category": "General purpose",
    "gpuNum": 0,
    "hideHardwareSpecs": false,
    "memoryGiB": 16,
    "name": "ml.t3.xlarge",
    "vcpuNum": 4
   },
   {
    "_defaultOrder": 3,
    "_isFastLaunch": false,
    "category": "General purpose",
    "gpuNum": 0,
    "hideHardwareSpecs": false,
    "memoryGiB": 32,
    "name": "ml.t3.2xlarge",
    "vcpuNum": 8
   },
   {
    "_defaultOrder": 4,
    "_isFastLaunch": true,
    "category": "General purpose",
    "gpuNum": 0,
    "hideHardwareSpecs": false,
    "memoryGiB": 8,
    "name": "ml.m5.large",
    "vcpuNum": 2
   },
   {
    "_defaultOrder": 5,
    "_isFastLaunch": false,
    "category": "General purpose",
    "gpuNum": 0,
    "hideHardwareSpecs": false,
    "memoryGiB": 16,
    "name": "ml.m5.xlarge",
    "vcpuNum": 4
   },
   {
    "_defaultOrder": 6,
    "_isFastLaunch": false,
    "category": "General purpose",
    "gpuNum": 0,
    "hideHardwareSpecs": false,
    "memoryGiB": 32,
    "name": "ml.m5.2xlarge",
    "vcpuNum": 8
   },
   {
    "_defaultOrder": 7,
    "_isFastLaunch": false,
    "category": "General purpose",
    "gpuNum": 0,
    "hideHardwareSpecs": false,
    "memoryGiB": 64,
    "name": "ml.m5.4xlarge",
    "vcpuNum": 16
   },
   {
    "_defaultOrder": 8,
    "_isFastLaunch": false,
    "category": "General purpose",
    "gpuNum": 0,
    "hideHardwareSpecs": false,
    "memoryGiB": 128,
    "name": "ml.m5.8xlarge",
    "vcpuNum": 32
   },
   {
    "_defaultOrder": 9,
    "_isFastLaunch": false,
    "category": "General purpose",
    "gpuNum": 0,
    "hideHardwareSpecs": false,
    "memoryGiB": 192,
    "name": "ml.m5.12xlarge",
    "vcpuNum": 48
   },
   {
    "_defaultOrder": 10,
    "_isFastLaunch": false,
    "category": "General purpose",
    "gpuNum": 0,
    "hideHardwareSpecs": false,
    "memoryGiB": 256,
    "name": "ml.m5.16xlarge",
    "vcpuNum": 64
   },
   {
    "_defaultOrder": 11,
    "_isFastLaunch": false,
    "category": "General purpose",
    "gpuNum": 0,
    "hideHardwareSpecs": false,
    "memoryGiB": 384,
    "name": "ml.m5.24xlarge",
    "vcpuNum": 96
   },
   {
    "_defaultOrder": 12,
    "_isFastLaunch": false,
    "category": "General purpose",
    "gpuNum": 0,
    "hideHardwareSpecs": false,
    "memoryGiB": 8,
    "name": "ml.m5d.large",
    "vcpuNum": 2
   },
   {
    "_defaultOrder": 13,
    "_isFastLaunch": false,
    "category": "General purpose",
    "gpuNum": 0,
    "hideHardwareSpecs": false,
    "memoryGiB": 16,
    "name": "ml.m5d.xlarge",
    "vcpuNum": 4
   },
   {
    "_defaultOrder": 14,
    "_isFastLaunch": false,
    "category": "General purpose",
    "gpuNum": 0,
    "hideHardwareSpecs": false,
    "memoryGiB": 32,
    "name": "ml.m5d.2xlarge",
    "vcpuNum": 8
   },
   {
    "_defaultOrder": 15,
    "_isFastLaunch": false,
    "category": "General purpose",
    "gpuNum": 0,
    "hideHardwareSpecs": false,
    "memoryGiB": 64,
    "name": "ml.m5d.4xlarge",
    "vcpuNum": 16
   },
   {
    "_defaultOrder": 16,
    "_isFastLaunch": false,
    "category": "General purpose",
    "gpuNum": 0,
    "hideHardwareSpecs": false,
    "memoryGiB": 128,
    "name": "ml.m5d.8xlarge",
    "vcpuNum": 32
   },
   {
    "_defaultOrder": 17,
    "_isFastLaunch": false,
    "category": "General purpose",
    "gpuNum": 0,
    "hideHardwareSpecs": false,
    "memoryGiB": 192,
    "name": "ml.m5d.12xlarge",
    "vcpuNum": 48
   },
   {
    "_defaultOrder": 18,
    "_isFastLaunch": false,
    "category": "General purpose",
    "gpuNum": 0,
    "hideHardwareSpecs": false,
    "memoryGiB": 256,
    "name": "ml.m5d.16xlarge",
    "vcpuNum": 64
   },
   {
    "_defaultOrder": 19,
    "_isFastLaunch": false,
    "category": "General purpose",
    "gpuNum": 0,
    "hideHardwareSpecs": false,
    "memoryGiB": 384,
    "name": "ml.m5d.24xlarge",
    "vcpuNum": 96
   },
   {
    "_defaultOrder": 20,
    "_isFastLaunch": false,
    "category": "General purpose",
    "gpuNum": 0,
    "hideHardwareSpecs": true,
    "memoryGiB": 0,
    "name": "ml.geospatial.interactive",
    "supportedImageNames": [
     "sagemaker-geospatial-v1-0"
    ],
    "vcpuNum": 0
   },
   {
    "_defaultOrder": 21,
    "_isFastLaunch": true,
    "category": "Compute optimized",
    "gpuNum": 0,
    "hideHardwareSpecs": false,
    "memoryGiB": 4,
    "name": "ml.c5.large",
    "vcpuNum": 2
   },
   {
    "_defaultOrder": 22,
    "_isFastLaunch": false,
    "category": "Compute optimized",
    "gpuNum": 0,
    "hideHardwareSpecs": false,
    "memoryGiB": 8,
    "name": "ml.c5.xlarge",
    "vcpuNum": 4
   },
   {
    "_defaultOrder": 23,
    "_isFastLaunch": false,
    "category": "Compute optimized",
    "gpuNum": 0,
    "hideHardwareSpecs": false,
    "memoryGiB": 16,
    "name": "ml.c5.2xlarge",
    "vcpuNum": 8
   },
   {
    "_defaultOrder": 24,
    "_isFastLaunch": false,
    "category": "Compute optimized",
    "gpuNum": 0,
    "hideHardwareSpecs": false,
    "memoryGiB": 32,
    "name": "ml.c5.4xlarge",
    "vcpuNum": 16
   },
   {
    "_defaultOrder": 25,
    "_isFastLaunch": false,
    "category": "Compute optimized",
    "gpuNum": 0,
    "hideHardwareSpecs": false,
    "memoryGiB": 72,
    "name": "ml.c5.9xlarge",
    "vcpuNum": 36
   },
   {
    "_defaultOrder": 26,
    "_isFastLaunch": false,
    "category": "Compute optimized",
    "gpuNum": 0,
    "hideHardwareSpecs": false,
    "memoryGiB": 96,
    "name": "ml.c5.12xlarge",
    "vcpuNum": 48
   },
   {
    "_defaultOrder": 27,
    "_isFastLaunch": false,
    "category": "Compute optimized",
    "gpuNum": 0,
    "hideHardwareSpecs": false,
    "memoryGiB": 144,
    "name": "ml.c5.18xlarge",
    "vcpuNum": 72
   },
   {
    "_defaultOrder": 28,
    "_isFastLaunch": false,
    "category": "Compute optimized",
    "gpuNum": 0,
    "hideHardwareSpecs": false,
    "memoryGiB": 192,
    "name": "ml.c5.24xlarge",
    "vcpuNum": 96
   },
   {
    "_defaultOrder": 29,
    "_isFastLaunch": true,
    "category": "Accelerated computing",
    "gpuNum": 1,
    "hideHardwareSpecs": false,
    "memoryGiB": 16,
    "name": "ml.g4dn.xlarge",
    "vcpuNum": 4
   },
   {
    "_defaultOrder": 30,
    "_isFastLaunch": false,
    "category": "Accelerated computing",
    "gpuNum": 1,
    "hideHardwareSpecs": false,
    "memoryGiB": 32,
    "name": "ml.g4dn.2xlarge",
    "vcpuNum": 8
   },
   {
    "_defaultOrder": 31,
    "_isFastLaunch": false,
    "category": "Accelerated computing",
    "gpuNum": 1,
    "hideHardwareSpecs": false,
    "memoryGiB": 64,
    "name": "ml.g4dn.4xlarge",
    "vcpuNum": 16
   },
   {
    "_defaultOrder": 32,
    "_isFastLaunch": false,
    "category": "Accelerated computing",
    "gpuNum": 1,
    "hideHardwareSpecs": false,
    "memoryGiB": 128,
    "name": "ml.g4dn.8xlarge",
    "vcpuNum": 32
   },
   {
    "_defaultOrder": 33,
    "_isFastLaunch": false,
    "category": "Accelerated computing",
    "gpuNum": 4,
    "hideHardwareSpecs": false,
    "memoryGiB": 192,
    "name": "ml.g4dn.12xlarge",
    "vcpuNum": 48
   },
   {
    "_defaultOrder": 34,
    "_isFastLaunch": false,
    "category": "Accelerated computing",
    "gpuNum": 1,
    "hideHardwareSpecs": false,
    "memoryGiB": 256,
    "name": "ml.g4dn.16xlarge",
    "vcpuNum": 64
   },
   {
    "_defaultOrder": 35,
    "_isFastLaunch": false,
    "category": "Accelerated computing",
    "gpuNum": 1,
    "hideHardwareSpecs": false,
    "memoryGiB": 61,
    "name": "ml.p3.2xlarge",
    "vcpuNum": 8
   },
   {
    "_defaultOrder": 36,
    "_isFastLaunch": false,
    "category": "Accelerated computing",
    "gpuNum": 4,
    "hideHardwareSpecs": false,
    "memoryGiB": 244,
    "name": "ml.p3.8xlarge",
    "vcpuNum": 32
   },
   {
    "_defaultOrder": 37,
    "_isFastLaunch": false,
    "category": "Accelerated computing",
    "gpuNum": 8,
    "hideHardwareSpecs": false,
    "memoryGiB": 488,
    "name": "ml.p3.16xlarge",
    "vcpuNum": 64
   },
   {
    "_defaultOrder": 38,
    "_isFastLaunch": false,
    "category": "Accelerated computing",
    "gpuNum": 8,
    "hideHardwareSpecs": false,
    "memoryGiB": 768,
    "name": "ml.p3dn.24xlarge",
    "vcpuNum": 96
   },
   {
    "_defaultOrder": 39,
    "_isFastLaunch": false,
    "category": "Memory Optimized",
    "gpuNum": 0,
    "hideHardwareSpecs": false,
    "memoryGiB": 16,
    "name": "ml.r5.large",
    "vcpuNum": 2
   },
   {
    "_defaultOrder": 40,
    "_isFastLaunch": false,
    "category": "Memory Optimized",
    "gpuNum": 0,
    "hideHardwareSpecs": false,
    "memoryGiB": 32,
    "name": "ml.r5.xlarge",
    "vcpuNum": 4
   },
   {
    "_defaultOrder": 41,
    "_isFastLaunch": false,
    "category": "Memory Optimized",
    "gpuNum": 0,
    "hideHardwareSpecs": false,
    "memoryGiB": 64,
    "name": "ml.r5.2xlarge",
    "vcpuNum": 8
   },
   {
    "_defaultOrder": 42,
    "_isFastLaunch": false,
    "category": "Memory Optimized",
    "gpuNum": 0,
    "hideHardwareSpecs": false,
    "memoryGiB": 128,
    "name": "ml.r5.4xlarge",
    "vcpuNum": 16
   },
   {
    "_defaultOrder": 43,
    "_isFastLaunch": false,
    "category": "Memory Optimized",
    "gpuNum": 0,
    "hideHardwareSpecs": false,
    "memoryGiB": 256,
    "name": "ml.r5.8xlarge",
    "vcpuNum": 32
   },
   {
    "_defaultOrder": 44,
    "_isFastLaunch": false,
    "category": "Memory Optimized",
    "gpuNum": 0,
    "hideHardwareSpecs": false,
    "memoryGiB": 384,
    "name": "ml.r5.12xlarge",
    "vcpuNum": 48
   },
   {
    "_defaultOrder": 45,
    "_isFastLaunch": false,
    "category": "Memory Optimized",
    "gpuNum": 0,
    "hideHardwareSpecs": false,
    "memoryGiB": 512,
    "name": "ml.r5.16xlarge",
    "vcpuNum": 64
   },
   {
    "_defaultOrder": 46,
    "_isFastLaunch": false,
    "category": "Memory Optimized",
    "gpuNum": 0,
    "hideHardwareSpecs": false,
    "memoryGiB": 768,
    "name": "ml.r5.24xlarge",
    "vcpuNum": 96
   },
   {
    "_defaultOrder": 47,
    "_isFastLaunch": false,
    "category": "Accelerated computing",
    "gpuNum": 1,
    "hideHardwareSpecs": false,
    "memoryGiB": 16,
    "name": "ml.g5.xlarge",
    "vcpuNum": 4
   },
   {
    "_defaultOrder": 48,
    "_isFastLaunch": false,
    "category": "Accelerated computing",
    "gpuNum": 1,
    "hideHardwareSpecs": false,
    "memoryGiB": 32,
    "name": "ml.g5.2xlarge",
    "vcpuNum": 8
   },
   {
    "_defaultOrder": 49,
    "_isFastLaunch": false,
    "category": "Accelerated computing",
    "gpuNum": 1,
    "hideHardwareSpecs": false,
    "memoryGiB": 64,
    "name": "ml.g5.4xlarge",
    "vcpuNum": 16
   },
   {
    "_defaultOrder": 50,
    "_isFastLaunch": false,
    "category": "Accelerated computing",
    "gpuNum": 1,
    "hideHardwareSpecs": false,
    "memoryGiB": 128,
    "name": "ml.g5.8xlarge",
    "vcpuNum": 32
   },
   {
    "_defaultOrder": 51,
    "_isFastLaunch": false,
    "category": "Accelerated computing",
    "gpuNum": 1,
    "hideHardwareSpecs": false,
    "memoryGiB": 256,
    "name": "ml.g5.16xlarge",
    "vcpuNum": 64
   },
   {
    "_defaultOrder": 52,
    "_isFastLaunch": false,
    "category": "Accelerated computing",
    "gpuNum": 4,
    "hideHardwareSpecs": false,
    "memoryGiB": 192,
    "name": "ml.g5.12xlarge",
    "vcpuNum": 48
   },
   {
    "_defaultOrder": 53,
    "_isFastLaunch": false,
    "category": "Accelerated computing",
    "gpuNum": 4,
    "hideHardwareSpecs": false,
    "memoryGiB": 384,
    "name": "ml.g5.24xlarge",
    "vcpuNum": 96
   },
   {
    "_defaultOrder": 54,
    "_isFastLaunch": false,
    "category": "Accelerated computing",
    "gpuNum": 8,
    "hideHardwareSpecs": false,
    "memoryGiB": 768,
    "name": "ml.g5.48xlarge",
    "vcpuNum": 192
   },
   {
    "_defaultOrder": 55,
    "_isFastLaunch": false,
    "category": "Accelerated computing",
    "gpuNum": 8,
    "hideHardwareSpecs": false,
    "memoryGiB": 1152,
    "name": "ml.p4d.24xlarge",
    "vcpuNum": 96
   },
   {
    "_defaultOrder": 56,
    "_isFastLaunch": false,
    "category": "Accelerated computing",
    "gpuNum": 8,
    "hideHardwareSpecs": false,
    "memoryGiB": 1152,
    "name": "ml.p4de.24xlarge",
    "vcpuNum": 96
   },
   {
    "_defaultOrder": 57,
    "_isFastLaunch": false,
    "category": "Accelerated computing",
    "gpuNum": 0,
    "hideHardwareSpecs": false,
    "memoryGiB": 32,
    "name": "ml.trn1.2xlarge",
    "vcpuNum": 8
   },
   {
    "_defaultOrder": 58,
    "_isFastLaunch": false,
    "category": "Accelerated computing",
    "gpuNum": 0,
    "hideHardwareSpecs": false,
    "memoryGiB": 512,
    "name": "ml.trn1.32xlarge",
    "vcpuNum": 128
   },
   {
    "_defaultOrder": 59,
    "_isFastLaunch": false,
    "category": "Accelerated computing",
    "gpuNum": 0,
    "hideHardwareSpecs": false,
    "memoryGiB": 512,
    "name": "ml.trn1n.32xlarge",
    "vcpuNum": 128
   }
  ],
  "instance_type": "ml.m5.large",
  "kernelspec": {
   "display_name": "Python 3 (Data Science 3.0)",
   "language": "python",
   "name": "python3__SAGEMAKER_INTERNAL__arn:aws:sagemaker:us-east-1:081325390199:image/sagemaker-data-science-310-v1"
  },
  "language_info": {
   "codemirror_mode": {
    "name": "ipython",
    "version": 3
   },
   "file_extension": ".py",
   "mimetype": "text/x-python",
   "name": "python",
   "nbconvert_exporter": "python",
   "pygments_lexer": "ipython3",
   "version": "3.10.6"
  }
 },
 "nbformat": 4,
 "nbformat_minor": 5
}
