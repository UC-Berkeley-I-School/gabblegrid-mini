{
 "cells": [
  {
   "cell_type": "markdown",
   "id": "75278e06-1767-442f-b19d-27489b0e6609",
   "metadata": {},
   "source": [
    "# Importing BGL Dataset to s3\n",
    "\n",
    "> Parquet Files"
   ]
  },
  {
   "cell_type": "markdown",
   "id": "2c03cdf0-247b-4393-92b9-3945384cf0d5",
   "metadata": {},
   "source": [
    "## Test"
   ]
  },
  {
   "cell_type": "markdown",
   "id": "a45d5c3f-35c1-4266-84d6-f25c5181910a",
   "metadata": {},
   "source": [
    "### Copy from S3 to EFS"
   ]
  },
  {
   "cell_type": "code",
   "execution_count": 2,
   "id": "6d377f71-dc62-450e-844a-c069047e5be7",
   "metadata": {
    "tags": []
   },
   "outputs": [
    {
     "name": "stdout",
     "output_type": "stream",
     "text": [
      "Downloaded 11.Data/01.BlueGene/02.Raw_Parquet/part-00000-2f0ccaac-9d99-40b3-a6c0-e95514a07a1e-c000.snappy.parquet to 11.Data/01.BGL/02.Raw_Parquet_CFDR/part-00000-2f0ccaac-9d99-40b3-a6c0-e95514a07a1e-c000.snappy.parquet\n"
     ]
    }
   ],
   "source": [
    "# import os\n",
    "# import boto3\n",
    "\n",
    "# # Set the working directory to root\n",
    "# os.chdir('/root')\n",
    "\n",
    "# # S3 bucket details\n",
    "# s3_bucket = 'w210-capstone'\n",
    "# s3_key = '11.Data/01.BlueGene/02.Raw_Parquet/part-00000-2f0ccaac-9d99-40b3-a6c0-e95514a07a1e-c000.snappy.parquet'\n",
    "\n",
    "# # Local directory and file path in EFS\n",
    "# local_dir = '11.Data/01.BGL/02.Raw_Parquet_CFDR'\n",
    "# local_filename = 'part-00000-2f0ccaac-9d99-40b3-a6c0-e95514a07a1e-c000.snappy.parquet'\n",
    "# local_filepath = os.path.join(local_dir, local_filename)\n",
    "\n",
    "# # Create the local directory if it doesn't exist\n",
    "# os.makedirs(local_dir, exist_ok=True)\n",
    "\n",
    "# # Download the file from S3 and save it locally\n",
    "# s3 = boto3.client('s3')\n",
    "# s3.download_file(s3_bucket, s3_key, local_filepath)\n",
    "\n",
    "# print(f\"Downloaded {s3_key} to {local_filepath}\")"
   ]
  },
  {
   "cell_type": "markdown",
   "id": "266480f2-2c7f-44f2-ab58-d5b5468c5ec3",
   "metadata": {},
   "source": [
    "---"
   ]
  },
  {
   "cell_type": "markdown",
   "id": "1d0c439c-1aba-4b97-aefc-28ca0b9c02f0",
   "metadata": {},
   "source": [
    "### Scan"
   ]
  },
  {
   "cell_type": "code",
   "execution_count": 2,
   "id": "b0d0a352-91e6-470a-a43d-8b0327868145",
   "metadata": {
    "tags": []
   },
   "outputs": [],
   "source": [
    "# !pip install pandas pyarrow"
   ]
  },
  {
   "cell_type": "code",
   "execution_count": 3,
   "id": "cbee5119-8cd6-495c-8812-751619125743",
   "metadata": {
    "tags": []
   },
   "outputs": [
    {
     "name": "stdout",
     "output_type": "stream",
     "text": [
      "  - 1117838570 2005.06.03 R02-M1-N0-C:J12-U11 2005-06-03-15.42.50.363779 R02-M1-N0-C:J12-U11 RAS KERNEL INFO instruction cache parity error corrected\n",
      "0  - 1117838570 2005.06.03 R02-M1-N0-C:J12-U11 20...                                                                                                 \n",
      "1  - 1117838570 2005.06.03 R02-M1-N0-C:J12-U11 20...                                                                                                 \n",
      "2  - 1117838570 2005.06.03 R02-M1-N0-C:J12-U11 20...                                                                                                 \n",
      "3  - 1117838570 2005.06.03 R02-M1-N0-C:J12-U11 20...                                                                                                 \n",
      "4  - 1117838571 2005.06.03 R02-M1-N0-C:J12-U11 20...                                                                                                 \n",
      "5  - 1117838571 2005.06.03 R02-M1-N0-C:J12-U11 20...                                                                                                 \n",
      "6  - 1117838571 2005.06.03 R02-M1-N0-C:J12-U11 20...                                                                                                 \n",
      "7  - 1117838571 2005.06.03 R02-M1-N0-C:J12-U11 20...                                                                                                 \n",
      "8  - 1117838571 2005.06.03 R02-M1-N0-C:J12-U11 20...                                                                                                 \n",
      "9  - 1117838571 2005.06.03 R02-M1-N0-C:J12-U11 20...                                                                                                 \n",
      "CPU times: user 2.68 s, sys: 1.77 s, total: 4.44 s\n",
      "Wall time: 4.74 s\n"
     ]
    }
   ],
   "source": [
    "%%time\n",
    "\n",
    "import pandas as pd\n",
    "import os\n",
    "# # Set the working directory to root\n",
    "os.chdir('/root')\n",
    "\n",
    "# Define the local file path\n",
    "local_filepath = '11.Data/01.BGL/02.Raw_Parquet_CFDR/part-00000-2f0ccaac-9d99-40b3-a6c0-e95514a07a1e-c000.snappy.parquet'\n",
    "\n",
    "# Load the Parquet file into a DataFrame\n",
    "df = pd.read_parquet(local_filepath)\n",
    "\n",
    "# Display the first 10 records\n",
    "print(df.head(10))"
   ]
  },
  {
   "cell_type": "code",
   "execution_count": 4,
   "id": "c5723cf0-641b-42eb-9030-7c4e9bbd0837",
   "metadata": {},
   "outputs": [
    {
     "data": {
      "text/html": [
       "<div>\n",
       "<style scoped>\n",
       "    .dataframe tbody tr th:only-of-type {\n",
       "        vertical-align: middle;\n",
       "    }\n",
       "\n",
       "    .dataframe tbody tr th {\n",
       "        vertical-align: top;\n",
       "    }\n",
       "\n",
       "    .dataframe thead th {\n",
       "        text-align: right;\n",
       "    }\n",
       "</style>\n",
       "<table border=\"1\" class=\"dataframe\">\n",
       "  <thead>\n",
       "    <tr style=\"text-align: right;\">\n",
       "      <th></th>\n",
       "      <th>- 1117838570 2005.06.03 R02-M1-N0-C:J12-U11 2005-06-03-15.42.50.363779 R02-M1-N0-C:J12-U11 RAS KERNEL INFO instruction cache parity error corrected</th>\n",
       "    </tr>\n",
       "  </thead>\n",
       "  <tbody>\n",
       "    <tr>\n",
       "      <th>0</th>\n",
       "      <td>- 1117838570 2005.06.03 R02-M1-N0-C:J12-U11 20...</td>\n",
       "    </tr>\n",
       "    <tr>\n",
       "      <th>1</th>\n",
       "      <td>- 1117838570 2005.06.03 R02-M1-N0-C:J12-U11 20...</td>\n",
       "    </tr>\n",
       "    <tr>\n",
       "      <th>2</th>\n",
       "      <td>- 1117838570 2005.06.03 R02-M1-N0-C:J12-U11 20...</td>\n",
       "    </tr>\n",
       "    <tr>\n",
       "      <th>3</th>\n",
       "      <td>- 1117838570 2005.06.03 R02-M1-N0-C:J12-U11 20...</td>\n",
       "    </tr>\n",
       "    <tr>\n",
       "      <th>4</th>\n",
       "      <td>- 1117838571 2005.06.03 R02-M1-N0-C:J12-U11 20...</td>\n",
       "    </tr>\n",
       "    <tr>\n",
       "      <th>5</th>\n",
       "      <td>- 1117838571 2005.06.03 R02-M1-N0-C:J12-U11 20...</td>\n",
       "    </tr>\n",
       "    <tr>\n",
       "      <th>6</th>\n",
       "      <td>- 1117838571 2005.06.03 R02-M1-N0-C:J12-U11 20...</td>\n",
       "    </tr>\n",
       "    <tr>\n",
       "      <th>7</th>\n",
       "      <td>- 1117838571 2005.06.03 R02-M1-N0-C:J12-U11 20...</td>\n",
       "    </tr>\n",
       "    <tr>\n",
       "      <th>8</th>\n",
       "      <td>- 1117838571 2005.06.03 R02-M1-N0-C:J12-U11 20...</td>\n",
       "    </tr>\n",
       "    <tr>\n",
       "      <th>9</th>\n",
       "      <td>- 1117838571 2005.06.03 R02-M1-N0-C:J12-U11 20...</td>\n",
       "    </tr>\n",
       "  </tbody>\n",
       "</table>\n",
       "</div>"
      ],
      "text/plain": [
       "  - 1117838570 2005.06.03 R02-M1-N0-C:J12-U11 2005-06-03-15.42.50.363779 R02-M1-N0-C:J12-U11 RAS KERNEL INFO instruction cache parity error corrected\n",
       "0  - 1117838570 2005.06.03 R02-M1-N0-C:J12-U11 20...                                                                                                 \n",
       "1  - 1117838570 2005.06.03 R02-M1-N0-C:J12-U11 20...                                                                                                 \n",
       "2  - 1117838570 2005.06.03 R02-M1-N0-C:J12-U11 20...                                                                                                 \n",
       "3  - 1117838570 2005.06.03 R02-M1-N0-C:J12-U11 20...                                                                                                 \n",
       "4  - 1117838571 2005.06.03 R02-M1-N0-C:J12-U11 20...                                                                                                 \n",
       "5  - 1117838571 2005.06.03 R02-M1-N0-C:J12-U11 20...                                                                                                 \n",
       "6  - 1117838571 2005.06.03 R02-M1-N0-C:J12-U11 20...                                                                                                 \n",
       "7  - 1117838571 2005.06.03 R02-M1-N0-C:J12-U11 20...                                                                                                 \n",
       "8  - 1117838571 2005.06.03 R02-M1-N0-C:J12-U11 20...                                                                                                 \n",
       "9  - 1117838571 2005.06.03 R02-M1-N0-C:J12-U11 20...                                                                                                 "
      ]
     },
     "execution_count": 4,
     "metadata": {},
     "output_type": "execute_result"
    }
   ],
   "source": [
    "df.head(10)"
   ]
  },
  {
   "cell_type": "markdown",
   "id": "117cf61e-5851-4f3a-b696-4de785a77413",
   "metadata": {},
   "source": [
    "### <font color = grey> Total Counts"
   ]
  },
  {
   "cell_type": "code",
   "execution_count": 5,
   "id": "88a53b42-db54-4a58-aced-eff75c6053d2",
   "metadata": {
    "tags": []
   },
   "outputs": [
    {
     "name": "stdout",
     "output_type": "stream",
     "text": [
      "Total number of rows: 4747962\n"
     ]
    }
   ],
   "source": [
    "import pandas as pd\n",
    "import os\n",
    "\n",
    "# Set the working directory to root\n",
    "os.chdir('/root')\n",
    "\n",
    "# Define the local file path\n",
    "local_filepath = '11.Data/01.BGL/02.Raw_Parquet_CFDR/part-00000-2f0ccaac-9d99-40b3-a6c0-e95514a07a1e-c000.snappy.parquet'\n",
    "\n",
    "# Load the Parquet file into a DataFrame\n",
    "df = pd.read_parquet(local_filepath)\n",
    "\n",
    "# Count the total number of rows\n",
    "total_rows = len(df)\n",
    "print(f'Total number of rows: {total_rows}')"
   ]
  },
  {
   "cell_type": "markdown",
   "id": "44c2f67c-11ad-4205-bfbf-9fa7dd2d406e",
   "metadata": {},
   "source": [
    "---"
   ]
  },
  {
   "cell_type": "markdown",
   "id": "5619591f-5916-458a-98c1-697cc5332b05",
   "metadata": {},
   "source": [
    "### <font color = grey> Line Position Analysis"
   ]
  },
  {
   "cell_type": "code",
   "execution_count": 6,
   "id": "e4faf55e-a33d-4c60-9287-2af99147c5fc",
   "metadata": {
    "tags": []
   },
   "outputs": [
    {
     "name": "stdout",
     "output_type": "stream",
     "text": [
      "Total number of rows: 4747962\n",
      "Number of rows starting with \"-\": 4399264\n",
      "Number of rows not starting with \"-\": 348698\n"
     ]
    }
   ],
   "source": [
    "import pandas as pd\n",
    "import os\n",
    "\n",
    "# Set the working directory to root\n",
    "os.chdir('/root')\n",
    "\n",
    "# Define the local file path\n",
    "local_filepath = '11.Data/01.BGL/02.Raw_Parquet_CFDR/part-00000-2f0ccaac-9d99-40b3-a6c0-e95514a07a1e-c000.snappy.parquet'\n",
    "\n",
    "# Load the Parquet file into a DataFrame\n",
    "df = pd.read_parquet(local_filepath)\n",
    "\n",
    "# Count the total number of rows\n",
    "total_rows = len(df)\n",
    "print(f'Total number of rows: {total_rows}')\n",
    "\n",
    "# Assuming the column of interest is the first column in the DataFrame\n",
    "column_name = df.columns[0]\n",
    "\n",
    "# Check if the first character of each row is a hyphen\n",
    "df['StartsWithHyphen'] = df[column_name].str.startswith('-')\n",
    "\n",
    "# Count the number of rows starting with a hyphen and not starting with a hyphen\n",
    "lines_starting_with_hyphen = df['StartsWithHyphen'].sum()\n",
    "lines_not_starting_with_hyphen = total_rows - lines_starting_with_hyphen\n",
    "\n",
    "# Print the results\n",
    "print(f'Number of rows starting with \"-\": {lines_starting_with_hyphen}')\n",
    "print(f'Number of rows not starting with \"-\": {lines_not_starting_with_hyphen}')\n"
   ]
  },
  {
   "cell_type": "markdown",
   "id": "63d83f54-2804-4e8b-a477-6c2acdb98d25",
   "metadata": {},
   "source": [
    "### <font color = grey> first 10 rows of exceptions"
   ]
  },
  {
   "cell_type": "code",
   "execution_count": 7,
   "id": "2d0161bc-4ee2-49a9-8ddc-f22a28c350a1",
   "metadata": {},
   "outputs": [
    {
     "name": "stdout",
     "output_type": "stream",
     "text": [
      "Total number of rows: 4747962\n",
      "Number of rows starting with \"-\": 4399264\n",
      "Number of rows not starting with \"-\": 348698\n",
      "\n",
      "First 10 rows that do not start with '-':\n",
      "      - 1117838570 2005.06.03 R02-M1-N0-C:J12-U11 2005-06-03-15.42.50.363779 R02-M1-N0-C:J12-U11 RAS KERNEL INFO instruction cache parity error corrected\n",
      "4902   R_DDR_EXC 1117840321 2005.06.03 R16-M1-N2-C:J1...                                                                                                 \n",
      "14142  R_DDR_EXC 1117846777 2005.06.03 R16-M1-N2-C:J1...                                                                                                 \n",
      "14736  APPREAD 1117869872 2005.06.04 R23-M1-N8-I:J18-...                                                                                                 \n",
      "14737  APPREAD 1117869872 2005.06.04 R04-M1-N4-I:J18-...                                                                                                 \n",
      "14738  APPREAD 1117869872 2005.06.04 R04-M1-N4-I:J18-...                                                                                                 \n",
      "14739  APPREAD 1117869873 2005.06.04 R35-M1-N0-I:J18-...                                                                                                 \n",
      "14740  APPREAD 1117869873 2005.06.04 R35-M1-N0-I:J18-...                                                                                                 \n",
      "14741  APPREAD 1117869873 2005.06.04 R36-M0-N8-I:J18-...                                                                                                 \n",
      "14742  APPREAD 1117869873 2005.06.04 R36-M0-N8-I:J18-...                                                                                                 \n",
      "14743  APPREAD 1117869873 2005.06.04 R36-M0-NC-I:J18-...                                                                                                 \n"
     ]
    }
   ],
   "source": [
    "import pandas as pd\n",
    "import os\n",
    "\n",
    "# Set the working directory to root\n",
    "os.chdir('/root')\n",
    "\n",
    "# Define the local file path\n",
    "local_filepath = '11.Data/01.BGL/02.Raw_Parquet_CFDR/part-00000-2f0ccaac-9d99-40b3-a6c0-e95514a07a1e-c000.snappy.parquet'\n",
    "\n",
    "# Load the Parquet file into a DataFrame\n",
    "df = pd.read_parquet(local_filepath)\n",
    "\n",
    "# Count the total number of rows\n",
    "total_rows = len(df)\n",
    "print(f'Total number of rows: {total_rows}')\n",
    "\n",
    "# Assuming the column of interest is the first column in the DataFrame\n",
    "column_name = df.columns[0]\n",
    "\n",
    "# Check if the first character of each row is a hyphen\n",
    "df['StartsWithHyphen'] = df[column_name].str.startswith('-')\n",
    "\n",
    "# Count the number of rows starting with a hyphen and not starting with a hyphen\n",
    "lines_starting_with_hyphen = df['StartsWithHyphen'].sum()\n",
    "lines_not_starting_with_hyphen = total_rows - lines_starting_with_hyphen\n",
    "\n",
    "# Print the results\n",
    "print(f'Number of rows starting with \"-\": {lines_starting_with_hyphen}')\n",
    "print(f'Number of rows not starting with \"-\": {lines_not_starting_with_hyphen}')\n",
    "\n",
    "# Get the first 10 rows that do not start with a hyphen\n",
    "exceptions = df[~df['StartsWithHyphen']].head(10)\n",
    "\n",
    "# Display the first 10 rows of exceptions\n",
    "print(\"\\nFirst 10 rows that do not start with '-':\")\n",
    "print(exceptions[[column_name]])\n"
   ]
  },
  {
   "cell_type": "code",
   "execution_count": 8,
   "id": "ba379abe-4196-4983-a673-829534c89411",
   "metadata": {},
   "outputs": [
    {
     "data": {
      "text/html": [
       "<div>\n",
       "<style scoped>\n",
       "    .dataframe tbody tr th:only-of-type {\n",
       "        vertical-align: middle;\n",
       "    }\n",
       "\n",
       "    .dataframe tbody tr th {\n",
       "        vertical-align: top;\n",
       "    }\n",
       "\n",
       "    .dataframe thead th {\n",
       "        text-align: right;\n",
       "    }\n",
       "</style>\n",
       "<table border=\"1\" class=\"dataframe\">\n",
       "  <thead>\n",
       "    <tr style=\"text-align: right;\">\n",
       "      <th></th>\n",
       "      <th>- 1117838570 2005.06.03 R02-M1-N0-C:J12-U11 2005-06-03-15.42.50.363779 R02-M1-N0-C:J12-U11 RAS KERNEL INFO instruction cache parity error corrected</th>\n",
       "      <th>StartsWithHyphen</th>\n",
       "    </tr>\n",
       "  </thead>\n",
       "  <tbody>\n",
       "    <tr>\n",
       "      <th>4902</th>\n",
       "      <td>R_DDR_EXC 1117840321 2005.06.03 R16-M1-N2-C:J1...</td>\n",
       "      <td>False</td>\n",
       "    </tr>\n",
       "    <tr>\n",
       "      <th>14142</th>\n",
       "      <td>R_DDR_EXC 1117846777 2005.06.03 R16-M1-N2-C:J1...</td>\n",
       "      <td>False</td>\n",
       "    </tr>\n",
       "    <tr>\n",
       "      <th>14736</th>\n",
       "      <td>APPREAD 1117869872 2005.06.04 R23-M1-N8-I:J18-...</td>\n",
       "      <td>False</td>\n",
       "    </tr>\n",
       "    <tr>\n",
       "      <th>14737</th>\n",
       "      <td>APPREAD 1117869872 2005.06.04 R04-M1-N4-I:J18-...</td>\n",
       "      <td>False</td>\n",
       "    </tr>\n",
       "    <tr>\n",
       "      <th>14738</th>\n",
       "      <td>APPREAD 1117869872 2005.06.04 R04-M1-N4-I:J18-...</td>\n",
       "      <td>False</td>\n",
       "    </tr>\n",
       "    <tr>\n",
       "      <th>14739</th>\n",
       "      <td>APPREAD 1117869873 2005.06.04 R35-M1-N0-I:J18-...</td>\n",
       "      <td>False</td>\n",
       "    </tr>\n",
       "    <tr>\n",
       "      <th>14740</th>\n",
       "      <td>APPREAD 1117869873 2005.06.04 R35-M1-N0-I:J18-...</td>\n",
       "      <td>False</td>\n",
       "    </tr>\n",
       "    <tr>\n",
       "      <th>14741</th>\n",
       "      <td>APPREAD 1117869873 2005.06.04 R36-M0-N8-I:J18-...</td>\n",
       "      <td>False</td>\n",
       "    </tr>\n",
       "    <tr>\n",
       "      <th>14742</th>\n",
       "      <td>APPREAD 1117869873 2005.06.04 R36-M0-N8-I:J18-...</td>\n",
       "      <td>False</td>\n",
       "    </tr>\n",
       "    <tr>\n",
       "      <th>14743</th>\n",
       "      <td>APPREAD 1117869873 2005.06.04 R36-M0-NC-I:J18-...</td>\n",
       "      <td>False</td>\n",
       "    </tr>\n",
       "  </tbody>\n",
       "</table>\n",
       "</div>"
      ],
      "text/plain": [
       "      - 1117838570 2005.06.03 R02-M1-N0-C:J12-U11 2005-06-03-15.42.50.363779 R02-M1-N0-C:J12-U11 RAS KERNEL INFO instruction cache parity error corrected  \\\n",
       "4902   R_DDR_EXC 1117840321 2005.06.03 R16-M1-N2-C:J1...                                                                                                    \n",
       "14142  R_DDR_EXC 1117846777 2005.06.03 R16-M1-N2-C:J1...                                                                                                    \n",
       "14736  APPREAD 1117869872 2005.06.04 R23-M1-N8-I:J18-...                                                                                                    \n",
       "14737  APPREAD 1117869872 2005.06.04 R04-M1-N4-I:J18-...                                                                                                    \n",
       "14738  APPREAD 1117869872 2005.06.04 R04-M1-N4-I:J18-...                                                                                                    \n",
       "14739  APPREAD 1117869873 2005.06.04 R35-M1-N0-I:J18-...                                                                                                    \n",
       "14740  APPREAD 1117869873 2005.06.04 R35-M1-N0-I:J18-...                                                                                                    \n",
       "14741  APPREAD 1117869873 2005.06.04 R36-M0-N8-I:J18-...                                                                                                    \n",
       "14742  APPREAD 1117869873 2005.06.04 R36-M0-N8-I:J18-...                                                                                                    \n",
       "14743  APPREAD 1117869873 2005.06.04 R36-M0-NC-I:J18-...                                                                                                    \n",
       "\n",
       "       StartsWithHyphen  \n",
       "4902              False  \n",
       "14142             False  \n",
       "14736             False  \n",
       "14737             False  \n",
       "14738             False  \n",
       "14739             False  \n",
       "14740             False  \n",
       "14741             False  \n",
       "14742             False  \n",
       "14743             False  "
      ]
     },
     "execution_count": 8,
     "metadata": {},
     "output_type": "execute_result"
    }
   ],
   "source": [
    "exceptions.head(10)"
   ]
  },
  {
   "cell_type": "code",
   "execution_count": null,
   "id": "b59bdd0a-9f18-4584-ac7b-ba4080a51181",
   "metadata": {},
   "outputs": [],
   "source": []
  }
 ],
 "metadata": {
  "availableInstances": [
   {
    "_defaultOrder": 0,
    "_isFastLaunch": true,
    "category": "General purpose",
    "gpuNum": 0,
    "hideHardwareSpecs": false,
    "memoryGiB": 4,
    "name": "ml.t3.medium",
    "vcpuNum": 2
   },
   {
    "_defaultOrder": 1,
    "_isFastLaunch": false,
    "category": "General purpose",
    "gpuNum": 0,
    "hideHardwareSpecs": false,
    "memoryGiB": 8,
    "name": "ml.t3.large",
    "vcpuNum": 2
   },
   {
    "_defaultOrder": 2,
    "_isFastLaunch": false,
    "category": "General purpose",
    "gpuNum": 0,
    "hideHardwareSpecs": false,
    "memoryGiB": 16,
    "name": "ml.t3.xlarge",
    "vcpuNum": 4
   },
   {
    "_defaultOrder": 3,
    "_isFastLaunch": false,
    "category": "General purpose",
    "gpuNum": 0,
    "hideHardwareSpecs": false,
    "memoryGiB": 32,
    "name": "ml.t3.2xlarge",
    "vcpuNum": 8
   },
   {
    "_defaultOrder": 4,
    "_isFastLaunch": true,
    "category": "General purpose",
    "gpuNum": 0,
    "hideHardwareSpecs": false,
    "memoryGiB": 8,
    "name": "ml.m5.large",
    "vcpuNum": 2
   },
   {
    "_defaultOrder": 5,
    "_isFastLaunch": false,
    "category": "General purpose",
    "gpuNum": 0,
    "hideHardwareSpecs": false,
    "memoryGiB": 16,
    "name": "ml.m5.xlarge",
    "vcpuNum": 4
   },
   {
    "_defaultOrder": 6,
    "_isFastLaunch": false,
    "category": "General purpose",
    "gpuNum": 0,
    "hideHardwareSpecs": false,
    "memoryGiB": 32,
    "name": "ml.m5.2xlarge",
    "vcpuNum": 8
   },
   {
    "_defaultOrder": 7,
    "_isFastLaunch": false,
    "category": "General purpose",
    "gpuNum": 0,
    "hideHardwareSpecs": false,
    "memoryGiB": 64,
    "name": "ml.m5.4xlarge",
    "vcpuNum": 16
   },
   {
    "_defaultOrder": 8,
    "_isFastLaunch": false,
    "category": "General purpose",
    "gpuNum": 0,
    "hideHardwareSpecs": false,
    "memoryGiB": 128,
    "name": "ml.m5.8xlarge",
    "vcpuNum": 32
   },
   {
    "_defaultOrder": 9,
    "_isFastLaunch": false,
    "category": "General purpose",
    "gpuNum": 0,
    "hideHardwareSpecs": false,
    "memoryGiB": 192,
    "name": "ml.m5.12xlarge",
    "vcpuNum": 48
   },
   {
    "_defaultOrder": 10,
    "_isFastLaunch": false,
    "category": "General purpose",
    "gpuNum": 0,
    "hideHardwareSpecs": false,
    "memoryGiB": 256,
    "name": "ml.m5.16xlarge",
    "vcpuNum": 64
   },
   {
    "_defaultOrder": 11,
    "_isFastLaunch": false,
    "category": "General purpose",
    "gpuNum": 0,
    "hideHardwareSpecs": false,
    "memoryGiB": 384,
    "name": "ml.m5.24xlarge",
    "vcpuNum": 96
   },
   {
    "_defaultOrder": 12,
    "_isFastLaunch": false,
    "category": "General purpose",
    "gpuNum": 0,
    "hideHardwareSpecs": false,
    "memoryGiB": 8,
    "name": "ml.m5d.large",
    "vcpuNum": 2
   },
   {
    "_defaultOrder": 13,
    "_isFastLaunch": false,
    "category": "General purpose",
    "gpuNum": 0,
    "hideHardwareSpecs": false,
    "memoryGiB": 16,
    "name": "ml.m5d.xlarge",
    "vcpuNum": 4
   },
   {
    "_defaultOrder": 14,
    "_isFastLaunch": false,
    "category": "General purpose",
    "gpuNum": 0,
    "hideHardwareSpecs": false,
    "memoryGiB": 32,
    "name": "ml.m5d.2xlarge",
    "vcpuNum": 8
   },
   {
    "_defaultOrder": 15,
    "_isFastLaunch": false,
    "category": "General purpose",
    "gpuNum": 0,
    "hideHardwareSpecs": false,
    "memoryGiB": 64,
    "name": "ml.m5d.4xlarge",
    "vcpuNum": 16
   },
   {
    "_defaultOrder": 16,
    "_isFastLaunch": false,
    "category": "General purpose",
    "gpuNum": 0,
    "hideHardwareSpecs": false,
    "memoryGiB": 128,
    "name": "ml.m5d.8xlarge",
    "vcpuNum": 32
   },
   {
    "_defaultOrder": 17,
    "_isFastLaunch": false,
    "category": "General purpose",
    "gpuNum": 0,
    "hideHardwareSpecs": false,
    "memoryGiB": 192,
    "name": "ml.m5d.12xlarge",
    "vcpuNum": 48
   },
   {
    "_defaultOrder": 18,
    "_isFastLaunch": false,
    "category": "General purpose",
    "gpuNum": 0,
    "hideHardwareSpecs": false,
    "memoryGiB": 256,
    "name": "ml.m5d.16xlarge",
    "vcpuNum": 64
   },
   {
    "_defaultOrder": 19,
    "_isFastLaunch": false,
    "category": "General purpose",
    "gpuNum": 0,
    "hideHardwareSpecs": false,
    "memoryGiB": 384,
    "name": "ml.m5d.24xlarge",
    "vcpuNum": 96
   },
   {
    "_defaultOrder": 20,
    "_isFastLaunch": false,
    "category": "General purpose",
    "gpuNum": 0,
    "hideHardwareSpecs": true,
    "memoryGiB": 0,
    "name": "ml.geospatial.interactive",
    "supportedImageNames": [
     "sagemaker-geospatial-v1-0"
    ],
    "vcpuNum": 0
   },
   {
    "_defaultOrder": 21,
    "_isFastLaunch": true,
    "category": "Compute optimized",
    "gpuNum": 0,
    "hideHardwareSpecs": false,
    "memoryGiB": 4,
    "name": "ml.c5.large",
    "vcpuNum": 2
   },
   {
    "_defaultOrder": 22,
    "_isFastLaunch": false,
    "category": "Compute optimized",
    "gpuNum": 0,
    "hideHardwareSpecs": false,
    "memoryGiB": 8,
    "name": "ml.c5.xlarge",
    "vcpuNum": 4
   },
   {
    "_defaultOrder": 23,
    "_isFastLaunch": false,
    "category": "Compute optimized",
    "gpuNum": 0,
    "hideHardwareSpecs": false,
    "memoryGiB": 16,
    "name": "ml.c5.2xlarge",
    "vcpuNum": 8
   },
   {
    "_defaultOrder": 24,
    "_isFastLaunch": false,
    "category": "Compute optimized",
    "gpuNum": 0,
    "hideHardwareSpecs": false,
    "memoryGiB": 32,
    "name": "ml.c5.4xlarge",
    "vcpuNum": 16
   },
   {
    "_defaultOrder": 25,
    "_isFastLaunch": false,
    "category": "Compute optimized",
    "gpuNum": 0,
    "hideHardwareSpecs": false,
    "memoryGiB": 72,
    "name": "ml.c5.9xlarge",
    "vcpuNum": 36
   },
   {
    "_defaultOrder": 26,
    "_isFastLaunch": false,
    "category": "Compute optimized",
    "gpuNum": 0,
    "hideHardwareSpecs": false,
    "memoryGiB": 96,
    "name": "ml.c5.12xlarge",
    "vcpuNum": 48
   },
   {
    "_defaultOrder": 27,
    "_isFastLaunch": false,
    "category": "Compute optimized",
    "gpuNum": 0,
    "hideHardwareSpecs": false,
    "memoryGiB": 144,
    "name": "ml.c5.18xlarge",
    "vcpuNum": 72
   },
   {
    "_defaultOrder": 28,
    "_isFastLaunch": false,
    "category": "Compute optimized",
    "gpuNum": 0,
    "hideHardwareSpecs": false,
    "memoryGiB": 192,
    "name": "ml.c5.24xlarge",
    "vcpuNum": 96
   },
   {
    "_defaultOrder": 29,
    "_isFastLaunch": true,
    "category": "Accelerated computing",
    "gpuNum": 1,
    "hideHardwareSpecs": false,
    "memoryGiB": 16,
    "name": "ml.g4dn.xlarge",
    "vcpuNum": 4
   },
   {
    "_defaultOrder": 30,
    "_isFastLaunch": false,
    "category": "Accelerated computing",
    "gpuNum": 1,
    "hideHardwareSpecs": false,
    "memoryGiB": 32,
    "name": "ml.g4dn.2xlarge",
    "vcpuNum": 8
   },
   {
    "_defaultOrder": 31,
    "_isFastLaunch": false,
    "category": "Accelerated computing",
    "gpuNum": 1,
    "hideHardwareSpecs": false,
    "memoryGiB": 64,
    "name": "ml.g4dn.4xlarge",
    "vcpuNum": 16
   },
   {
    "_defaultOrder": 32,
    "_isFastLaunch": false,
    "category": "Accelerated computing",
    "gpuNum": 1,
    "hideHardwareSpecs": false,
    "memoryGiB": 128,
    "name": "ml.g4dn.8xlarge",
    "vcpuNum": 32
   },
   {
    "_defaultOrder": 33,
    "_isFastLaunch": false,
    "category": "Accelerated computing",
    "gpuNum": 4,
    "hideHardwareSpecs": false,
    "memoryGiB": 192,
    "name": "ml.g4dn.12xlarge",
    "vcpuNum": 48
   },
   {
    "_defaultOrder": 34,
    "_isFastLaunch": false,
    "category": "Accelerated computing",
    "gpuNum": 1,
    "hideHardwareSpecs": false,
    "memoryGiB": 256,
    "name": "ml.g4dn.16xlarge",
    "vcpuNum": 64
   },
   {
    "_defaultOrder": 35,
    "_isFastLaunch": false,
    "category": "Accelerated computing",
    "gpuNum": 1,
    "hideHardwareSpecs": false,
    "memoryGiB": 61,
    "name": "ml.p3.2xlarge",
    "vcpuNum": 8
   },
   {
    "_defaultOrder": 36,
    "_isFastLaunch": false,
    "category": "Accelerated computing",
    "gpuNum": 4,
    "hideHardwareSpecs": false,
    "memoryGiB": 244,
    "name": "ml.p3.8xlarge",
    "vcpuNum": 32
   },
   {
    "_defaultOrder": 37,
    "_isFastLaunch": false,
    "category": "Accelerated computing",
    "gpuNum": 8,
    "hideHardwareSpecs": false,
    "memoryGiB": 488,
    "name": "ml.p3.16xlarge",
    "vcpuNum": 64
   },
   {
    "_defaultOrder": 38,
    "_isFastLaunch": false,
    "category": "Accelerated computing",
    "gpuNum": 8,
    "hideHardwareSpecs": false,
    "memoryGiB": 768,
    "name": "ml.p3dn.24xlarge",
    "vcpuNum": 96
   },
   {
    "_defaultOrder": 39,
    "_isFastLaunch": false,
    "category": "Memory Optimized",
    "gpuNum": 0,
    "hideHardwareSpecs": false,
    "memoryGiB": 16,
    "name": "ml.r5.large",
    "vcpuNum": 2
   },
   {
    "_defaultOrder": 40,
    "_isFastLaunch": false,
    "category": "Memory Optimized",
    "gpuNum": 0,
    "hideHardwareSpecs": false,
    "memoryGiB": 32,
    "name": "ml.r5.xlarge",
    "vcpuNum": 4
   },
   {
    "_defaultOrder": 41,
    "_isFastLaunch": false,
    "category": "Memory Optimized",
    "gpuNum": 0,
    "hideHardwareSpecs": false,
    "memoryGiB": 64,
    "name": "ml.r5.2xlarge",
    "vcpuNum": 8
   },
   {
    "_defaultOrder": 42,
    "_isFastLaunch": false,
    "category": "Memory Optimized",
    "gpuNum": 0,
    "hideHardwareSpecs": false,
    "memoryGiB": 128,
    "name": "ml.r5.4xlarge",
    "vcpuNum": 16
   },
   {
    "_defaultOrder": 43,
    "_isFastLaunch": false,
    "category": "Memory Optimized",
    "gpuNum": 0,
    "hideHardwareSpecs": false,
    "memoryGiB": 256,
    "name": "ml.r5.8xlarge",
    "vcpuNum": 32
   },
   {
    "_defaultOrder": 44,
    "_isFastLaunch": false,
    "category": "Memory Optimized",
    "gpuNum": 0,
    "hideHardwareSpecs": false,
    "memoryGiB": 384,
    "name": "ml.r5.12xlarge",
    "vcpuNum": 48
   },
   {
    "_defaultOrder": 45,
    "_isFastLaunch": false,
    "category": "Memory Optimized",
    "gpuNum": 0,
    "hideHardwareSpecs": false,
    "memoryGiB": 512,
    "name": "ml.r5.16xlarge",
    "vcpuNum": 64
   },
   {
    "_defaultOrder": 46,
    "_isFastLaunch": false,
    "category": "Memory Optimized",
    "gpuNum": 0,
    "hideHardwareSpecs": false,
    "memoryGiB": 768,
    "name": "ml.r5.24xlarge",
    "vcpuNum": 96
   },
   {
    "_defaultOrder": 47,
    "_isFastLaunch": false,
    "category": "Accelerated computing",
    "gpuNum": 1,
    "hideHardwareSpecs": false,
    "memoryGiB": 16,
    "name": "ml.g5.xlarge",
    "vcpuNum": 4
   },
   {
    "_defaultOrder": 48,
    "_isFastLaunch": false,
    "category": "Accelerated computing",
    "gpuNum": 1,
    "hideHardwareSpecs": false,
    "memoryGiB": 32,
    "name": "ml.g5.2xlarge",
    "vcpuNum": 8
   },
   {
    "_defaultOrder": 49,
    "_isFastLaunch": false,
    "category": "Accelerated computing",
    "gpuNum": 1,
    "hideHardwareSpecs": false,
    "memoryGiB": 64,
    "name": "ml.g5.4xlarge",
    "vcpuNum": 16
   },
   {
    "_defaultOrder": 50,
    "_isFastLaunch": false,
    "category": "Accelerated computing",
    "gpuNum": 1,
    "hideHardwareSpecs": false,
    "memoryGiB": 128,
    "name": "ml.g5.8xlarge",
    "vcpuNum": 32
   },
   {
    "_defaultOrder": 51,
    "_isFastLaunch": false,
    "category": "Accelerated computing",
    "gpuNum": 1,
    "hideHardwareSpecs": false,
    "memoryGiB": 256,
    "name": "ml.g5.16xlarge",
    "vcpuNum": 64
   },
   {
    "_defaultOrder": 52,
    "_isFastLaunch": false,
    "category": "Accelerated computing",
    "gpuNum": 4,
    "hideHardwareSpecs": false,
    "memoryGiB": 192,
    "name": "ml.g5.12xlarge",
    "vcpuNum": 48
   },
   {
    "_defaultOrder": 53,
    "_isFastLaunch": false,
    "category": "Accelerated computing",
    "gpuNum": 4,
    "hideHardwareSpecs": false,
    "memoryGiB": 384,
    "name": "ml.g5.24xlarge",
    "vcpuNum": 96
   },
   {
    "_defaultOrder": 54,
    "_isFastLaunch": false,
    "category": "Accelerated computing",
    "gpuNum": 8,
    "hideHardwareSpecs": false,
    "memoryGiB": 768,
    "name": "ml.g5.48xlarge",
    "vcpuNum": 192
   },
   {
    "_defaultOrder": 55,
    "_isFastLaunch": false,
    "category": "Accelerated computing",
    "gpuNum": 8,
    "hideHardwareSpecs": false,
    "memoryGiB": 1152,
    "name": "ml.p4d.24xlarge",
    "vcpuNum": 96
   },
   {
    "_defaultOrder": 56,
    "_isFastLaunch": false,
    "category": "Accelerated computing",
    "gpuNum": 8,
    "hideHardwareSpecs": false,
    "memoryGiB": 1152,
    "name": "ml.p4de.24xlarge",
    "vcpuNum": 96
   },
   {
    "_defaultOrder": 57,
    "_isFastLaunch": false,
    "category": "Accelerated computing",
    "gpuNum": 0,
    "hideHardwareSpecs": false,
    "memoryGiB": 32,
    "name": "ml.trn1.2xlarge",
    "vcpuNum": 8
   },
   {
    "_defaultOrder": 58,
    "_isFastLaunch": false,
    "category": "Accelerated computing",
    "gpuNum": 0,
    "hideHardwareSpecs": false,
    "memoryGiB": 512,
    "name": "ml.trn1.32xlarge",
    "vcpuNum": 128
   },
   {
    "_defaultOrder": 59,
    "_isFastLaunch": false,
    "category": "Accelerated computing",
    "gpuNum": 0,
    "hideHardwareSpecs": false,
    "memoryGiB": 512,
    "name": "ml.trn1n.32xlarge",
    "vcpuNum": 128
   }
  ],
  "instance_type": "ml.m5.large",
  "kernelspec": {
   "display_name": "Python 3 (Data Science 3.0)",
   "language": "python",
   "name": "python3__SAGEMAKER_INTERNAL__arn:aws:sagemaker:us-east-1:081325390199:image/sagemaker-data-science-310-v1"
  },
  "language_info": {
   "codemirror_mode": {
    "name": "ipython",
    "version": 3
   },
   "file_extension": ".py",
   "mimetype": "text/x-python",
   "name": "python",
   "nbconvert_exporter": "python",
   "pygments_lexer": "ipython3",
   "version": "3.10.6"
  }
 },
 "nbformat": 4,
 "nbformat_minor": 5
}
