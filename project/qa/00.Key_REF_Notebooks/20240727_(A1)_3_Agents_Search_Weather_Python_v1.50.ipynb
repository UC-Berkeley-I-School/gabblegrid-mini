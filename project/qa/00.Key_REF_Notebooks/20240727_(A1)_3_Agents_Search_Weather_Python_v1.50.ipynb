{
 "cells": [
  {
   "cell_type": "markdown",
   "id": "8a51bff5-1831-4d52-9541-87eb4106a038",
   "metadata": {},
   "source": [
    "# Testing the addition to 3 new agents and functions\n",
    "\n",
    "### Web Search (bing), Python and Weather Data"
   ]
  },
  {
   "cell_type": "markdown",
   "id": "c84b674b-b4e8-407f-b035-31beb145bb42",
   "metadata": {},
   "source": [
    "**ADMIN**"
   ]
  },
  {
   "cell_type": "code",
   "execution_count": 1,
   "id": "3d13e15a-2c64-4fbe-a5e1-9f4724d2d333",
   "metadata": {},
   "outputs": [],
   "source": [
    "import autogen\n",
    "from typing import Literal\n",
    "import os\n",
    "\n",
    "from pydantic import BaseModel, Field\n",
    "from typing_extensions import Annotated\n",
    "import requests\n",
    "import autogen\n",
    "from autogen.cache import Cache\n",
    "\n",
    "config_list = [{\n",
    "    'model': 'gpt-4o',\n",
    "    'api_key': 'sk-proj-iQtcgUJOOf4n53Bs6uyqT3BlbkFJnEIqUeEwXjbjVMcDVqiz'\n",
    "}]\n",
    "\n",
    "llm_config={\n",
    "    # \"request_timeout\": 600,\n",
    "    # \"seed\": 42,\n",
    "    \"config_list\": config_list,\n",
    "    \"temperature\": 0\n",
    "}\n",
    "os.environ['BING_API_KEY'] = '7e534482ac5f46d3a2a979072b19e591'\n",
    "bing_api_key = os.environ[\"BING_API_KEY\"]\n"
   ]
  },
  {
   "cell_type": "markdown",
   "id": "83bcb02a-38b1-4a37-8fef-d6471b62c1d0",
   "metadata": {},
   "source": [
    "**DEFINE AGENTS**"
   ]
  },
  {
   "cell_type": "code",
   "execution_count": 2,
   "id": "47fd2279-3e6d-4006-8f5b-4dd61413e5fb",
   "metadata": {},
   "outputs": [],
   "source": [
    "# create a UserProxyAgent instance named \"user_proxy\"\n",
    "user_proxy = autogen.UserProxyAgent(\n",
    "    name=\"user_proxy\",\n",
    "    is_termination_msg=lambda x: x.get(\"content\", \"\") and x.get(\"content\", \"\").rstrip().endswith(\"TERMINATE\"),\n",
    "    human_input_mode=\"NEVER\",\n",
    "    code_execution_config={\n",
    "        \"work_dir\": \"group\",\n",
    "        \"use_docker\": False,},\n",
    "    max_consecutive_auto_reply=10,\n",
    "    system_message=\"\"\"Reply TERMINATE if the task been solved at full satisfaction. \n",
    "    Otherwise, reply CONTINUE or the reason why the task is not solved yet. \"\"\",\n",
    "\n",
    ")"
   ]
  },
  {
   "cell_type": "code",
   "execution_count": 3,
   "id": "9a8ae675-895d-4a00-bb11-4affb34fca5b",
   "metadata": {},
   "outputs": [],
   "source": [
    "current_weather_data_retriever = autogen.AssistantAgent(\n",
    "    name=\"chatbot\",\n",
    "    # system_message=\"For weather forecasting tasks, only use the functions you have been provided with. Reply TERMINATE when the task is done.\",\n",
    "    system_message = \"\"\"You are the agent specializing in answering all weather related queries.\n",
    "    When part of a group, please direct all such queries to yourself\n",
    "    Please only use the functions you have been provided with. Reply TERMINATE when the task is done.\"\"\",\n",
    "    llm_config=llm_config\n",
    "    \n",
    ")"
   ]
  },
  {
   "cell_type": "code",
   "execution_count": 4,
   "id": "449f2df7-70b1-427f-b9e9-0588502bbcaf",
   "metadata": {},
   "outputs": [],
   "source": [
    "engineer = autogen.AssistantAgent(\n",
    "    name=\"engineer\",\n",
    "    system_message=\"\"\"\n",
    "\n",
    "    For coding tasks, only use the functions you have been provided with. \n",
    "    Reply TERMINATE when the task is done.\n",
    "    \n",
    "    \"\"\",\n",
    "    llm_config=llm_config,\n",
    ")"
   ]
  },
  {
   "cell_type": "markdown",
   "id": "323a24b2-3c82-4e74-a7b3-9837016797d2",
   "metadata": {},
   "source": [
    "___\n",
    "**DEFINE TOOLS & ASSIGN TO AGENTS**"
   ]
  },
  {
   "cell_type": "code",
   "execution_count": 5,
   "id": "7db46a1b-cf9a-4294-94a1-3e8604d34265",
   "metadata": {},
   "outputs": [],
   "source": [
    "import os\n",
    "import requests\n",
    "\n",
    "@user_proxy.register_for_execution()\n",
    "@current_weather_data_retriever.register_for_llm(description=\"function answering all queries related to the weather\")\n",
    "def get_temperature_data(zipcode: str) -> dict:\n",
    "    api_key = \"864a9bb0b562e1c87e01b38880d5bee7\"\n",
    "    geocoding_url = \"http://api.openweathermap.org/geo/1.0/zip\"\n",
    "    one_call_url = \"https://api.openweathermap.org/data/3.0/onecall\"\n",
    "    \n",
    "    # Step 1: Convert zipcode to geographic coordinates\n",
    "    geocoding_params = {\"zip\": zipcode, \"appid\": api_key}\n",
    "    geo_response = requests.get(geocoding_url, params=geocoding_params)\n",
    "    if geo_response.status_code != 200:\n",
    "        return {\"error\": \"Failed to fetch geographic coordinates.\"}\n",
    "    \n",
    "    geo_data = geo_response.json()\n",
    "    lat, lon = geo_data.get(\"lat\"), geo_data.get(\"lon\")\n",
    "    \n",
    "    # Step 2: Fetch weather data using One Call API\n",
    "    one_call_params = {\n",
    "        \"lat\": lat,\n",
    "        \"lon\": lon,\n",
    "        \"exclude\": \"minutely,hourly,alerts\",  # Exclude unnecessary data\n",
    "        \"appid\": api_key,\n",
    "        \"units\": \"metric\"  # Metric units; change to \"imperial\" if preferred\n",
    "    }\n",
    "    weather_response = requests.get(one_call_url, params=one_call_params)\n",
    "    if weather_response.status_code != 200:\n",
    "        return {\"error\": \"Failed to fetch weather data.\"}\n",
    "    \n",
    "    weather_data = weather_response.json()\n",
    "    current = weather_data.get(\"current\", {})\n",
    "    daily = weather_data.get(\"daily\", [])\n",
    "\n",
    "    # Extracting key data\n",
    "    current_temp = current.get(\"temp\")\n",
    "    humidity = current.get(\"humidity\")\n",
    "    wind_speed = current.get(\"wind_speed\")\n",
    "    weather_description = current.get(\"weather\", [{}])[0].get(\"description\")\n",
    "    \n",
    "    daily_temps = [day.get(\"temp\", {}).get(\"day\") for day in daily]\n",
    "    average_temp = sum(daily_temps) / len(daily_temps) if daily_temps else None\n",
    "\n",
    "    daily_humidity = [day.get(\"humidity\") for day in daily]\n",
    "    average_humidity = sum(daily_humidity) / len(daily_humidity) if daily_humidity else None\n",
    "\n",
    "    daily_wind_speed = [day.get(\"wind_speed\") for day in daily]\n",
    "    average_wind_speed = sum(daily_wind_speed) / len(daily_wind_speed) if daily_wind_speed else None\n",
    "\n",
    "    return {\n",
    "        \"current_temperature\": current_temp,\n",
    "        \"average_temperature\": average_temp,\n",
    "        \"current_humidity\": humidity,\n",
    "        \"average_humidity\": average_humidity,\n",
    "        \"current_wind_speed\": wind_speed,\n",
    "        \"average_wind_speed\": average_wind_speed,\n",
    "        \"weather_description\": weather_description\n",
    "    }"
   ]
  },
  {
   "cell_type": "code",
   "execution_count": 6,
   "id": "e7603534-bbac-444d-adca-3f697ed2c233",
   "metadata": {},
   "outputs": [],
   "source": [
    "# one way of registering functions is to use the register_for_llm and register_for_execution decorators\n",
    "@user_proxy.register_for_execution()\n",
    "@engineer.register_for_llm(description=\"run cell in ipython and return the execution result.\")\n",
    "def exec_python(cell: Annotated[str, \"Valid Python cell to execute.\"]) -> str:\n",
    "    ipython = get_ipython()\n",
    "    result = ipython.run_cell(cell)\n",
    "    log = str(result.result)\n",
    "    if result.error_before_exec is not None:\n",
    "        log += f\"\\n{result.error_before_exec}\"\n",
    "    if result.error_in_exec is not None:\n",
    "        log += f\"\\n{result.error_in_exec}\"\n",
    "    return log"
   ]
  },
  {
   "cell_type": "code",
   "execution_count": 7,
   "id": "3ec1e9e6-be8a-49bb-9483-75b5d5bf4c1c",
   "metadata": {},
   "outputs": [],
   "source": [
    "from autogen.agentchat.contrib.web_surfer import WebSurferAgent  # noqa: E402\n",
    "\n",
    "web_surfer = WebSurferAgent(\n",
    "    \"web_surfer\",\n",
    "    llm_config=llm_config,\n",
    "    summarizer_llm_config=llm_config,\n",
    "    browser_config={\"viewport_size\": 4096, \"bing_api_key\": bing_api_key},\n",
    ")"
   ]
  },
  {
   "cell_type": "markdown",
   "id": "f0e291e6-a7fa-4784-9214-2d1376d353d5",
   "metadata": {},
   "source": [
    "---"
   ]
  },
  {
   "cell_type": "code",
   "execution_count": 8,
   "id": "8664498e-f032-460a-b332-71da6e7e1957",
   "metadata": {},
   "outputs": [
    {
     "data": {
      "text/plain": [
       "[{'type': 'function',\n",
       "  'function': {'description': 'function answering all queries related to the weather',\n",
       "   'name': 'get_temperature_data',\n",
       "   'parameters': {'type': 'object',\n",
       "    'properties': {'zipcode': {'type': 'string', 'description': 'zipcode'}},\n",
       "    'required': ['zipcode']}}}]"
      ]
     },
     "execution_count": 8,
     "metadata": {},
     "output_type": "execute_result"
    }
   ],
   "source": [
    "current_weather_data_retriever.llm_config[\"tools\"]"
   ]
  },
  {
   "cell_type": "code",
   "execution_count": 9,
   "id": "1785fdfd-bd7a-443d-b490-1e7987a73cd1",
   "metadata": {},
   "outputs": [
    {
     "data": {
      "text/plain": [
       "[{'type': 'function',\n",
       "  'function': {'description': 'run cell in ipython and return the execution result.',\n",
       "   'name': 'exec_python',\n",
       "   'parameters': {'type': 'object',\n",
       "    'properties': {'cell': {'type': 'string',\n",
       "      'description': 'Valid Python cell to execute.'}},\n",
       "    'required': ['cell']}}}]"
      ]
     },
     "execution_count": 9,
     "metadata": {},
     "output_type": "execute_result"
    }
   ],
   "source": [
    "engineer.llm_config[\"tools\"]"
   ]
  },
  {
   "cell_type": "markdown",
   "id": "67868510-5cb3-4bcb-9384-659b2aa8b5f9",
   "metadata": {},
   "source": [
    "**TEST AGENTS & FUNCTIONS**"
   ]
  },
  {
   "cell_type": "code",
   "execution_count": 10,
   "id": "06d4baa5-21ba-4d32-a0ba-a47526aa374b",
   "metadata": {},
   "outputs": [
    {
     "name": "stdout",
     "output_type": "stream",
     "text": [
      "{'current_temperature': 23.16, 'average_temperature': 35.06875, 'current_humidity': 32, 'average_humidity': 15.125, 'current_wind_speed': 1.92, 'average_wind_speed': 4.6925, 'weather_description': 'clear sky'}\n"
     ]
    }
   ],
   "source": [
    "# Example usage\n",
    "zipcode = \"95321\"  # San Francisco, Zip Code 94131\n",
    "weather_data = get_temperature_data(zipcode)\n",
    "print(weather_data)"
   ]
  },
  {
   "cell_type": "markdown",
   "id": "6acd0466-01e0-4b7b-b5b3-d6be83c7607c",
   "metadata": {},
   "source": [
    "---\n",
    "## Run Python & Web Search"
   ]
  },
  {
   "cell_type": "markdown",
   "id": "f282b242-774a-4b1e-8ff2-4e9258002a81",
   "metadata": {},
   "source": [
    "---"
   ]
  },
  {
   "cell_type": "code",
   "execution_count": 11,
   "id": "5fe645aa-22d7-4aa7-a7a4-c808af484646",
   "metadata": {},
   "outputs": [],
   "source": [
    "task = \"Can you get the current weather information for San Francisco, Zip Code 94550?, \\\n",
    "        and plot the returned values in a table using the python tool available to you\\\n",
    "        please answer this question only using the approrpriate tool when required\\\n",
    "        for example, please use the weather related tool for all weather related queries\\\n",
    "        please use the search tool only if specifically asked to search the web for answer\""
   ]
  },
  {
   "cell_type": "code",
   "execution_count": 12,
   "id": "8b673afe-0cd7-4bd7-8e93-0a589d0cb28c",
   "metadata": {},
   "outputs": [],
   "source": [
    "groupchat = autogen.GroupChat(agents=[user_proxy, current_weather_data_retriever, engineer, web_surfer], \\\n",
    "                              messages=[], max_round=5)\n",
    "\n",
    "manager = autogen.GroupChatManager(groupchat=groupchat, llm_config=llm_config)"
   ]
  },
  {
   "cell_type": "code",
   "execution_count": 13,
   "id": "d61c409f-8611-418f-812f-ad3f4a266365",
   "metadata": {},
   "outputs": [
    {
     "name": "stdout",
     "output_type": "stream",
     "text": [
      "\u001b[33muser_proxy\u001b[0m (to chat_manager):\n",
      "\n",
      "Can you get the current weather information for San Francisco, Zip Code 94550?,         and plot the returned values in a table using the python tool available to you        please answer this question only using the approrpriate tool when required        for example, please use the weather related tool for all weather related queries        please use the search tool only if specifically asked to search the web for answer\n",
      "\n",
      "--------------------------------------------------------------------------------\n",
      "\u001b[32m\n",
      "Next speaker: chatbot\n",
      "\u001b[0m\n",
      "\u001b[33mchatbot\u001b[0m (to chat_manager):\n",
      "\n",
      "\u001b[32m***** Suggested tool call (call_p8uU2hK13Pa0iU8CuwHphfqT): get_temperature_data *****\u001b[0m\n",
      "Arguments: \n",
      "{\"zipcode\": \"94550\"}\n",
      "\u001b[32m*************************************************************************************\u001b[0m\n",
      "\n",
      "--------------------------------------------------------------------------------\n",
      "\u001b[32m\n",
      "Next speaker: user_proxy\n",
      "\u001b[0m\n",
      "\u001b[35m\n",
      ">>>>>>>> EXECUTING FUNCTION get_temperature_data...\u001b[0m\n",
      "\u001b[33muser_proxy\u001b[0m (to chat_manager):\n",
      "\n",
      "\u001b[33muser_proxy\u001b[0m (to chat_manager):\n",
      "\n",
      "\u001b[32m***** Response from calling tool (call_p8uU2hK13Pa0iU8CuwHphfqT) *****\u001b[0m\n",
      "{\"current_temperature\": 14.1, \"average_temperature\": 29.0825, \"current_humidity\": 80, \"average_humidity\": 30.0, \"current_wind_speed\": 2.68, \"average_wind_speed\": 6.98375, \"weather_description\": \"clear sky\"}\n",
      "\u001b[32m**********************************************************************\u001b[0m\n",
      "\n",
      "--------------------------------------------------------------------------------\n",
      "\u001b[32m\n",
      "Next speaker: engineer\n",
      "\u001b[0m\n",
      "\u001b[33mengineer\u001b[0m (to chat_manager):\n",
      "\n",
      "\u001b[32m***** Suggested tool call (call_f6TnUYTmccQ1lSklS8BfrSbh): exec_python *****\u001b[0m\n",
      "Arguments: \n",
      "{\"cell\":\"import pandas as pd\\n\\ndata = {\\n    'Metric': ['Current Temperature (°C)', 'Average Temperature (°C)', 'Current Humidity (%)', 'Average Humidity (%)', 'Current Wind Speed (m/s)', 'Average Wind Speed (m/s)', 'Weather Description'],\\n    'Value': [14.1, 29.0825, 80, 30.0, 2.68, 6.98375, 'clear sky']\\n}\\n\\ndf = pd.DataFrame(data)\\ndf\"}\n",
      "\u001b[32m****************************************************************************\u001b[0m\n",
      "\n",
      "--------------------------------------------------------------------------------\n",
      "\u001b[32m\n",
      "Next speaker: user_proxy\n",
      "\u001b[0m\n",
      "\u001b[35m\n",
      ">>>>>>>> EXECUTING FUNCTION exec_python...\u001b[0m\n"
     ]
    },
    {
     "data": {
      "text/html": [
       "<div>\n",
       "<style scoped>\n",
       "    .dataframe tbody tr th:only-of-type {\n",
       "        vertical-align: middle;\n",
       "    }\n",
       "\n",
       "    .dataframe tbody tr th {\n",
       "        vertical-align: top;\n",
       "    }\n",
       "\n",
       "    .dataframe thead th {\n",
       "        text-align: right;\n",
       "    }\n",
       "</style>\n",
       "<table border=\"1\" class=\"dataframe\">\n",
       "  <thead>\n",
       "    <tr style=\"text-align: right;\">\n",
       "      <th></th>\n",
       "      <th>Metric</th>\n",
       "      <th>Value</th>\n",
       "    </tr>\n",
       "  </thead>\n",
       "  <tbody>\n",
       "    <tr>\n",
       "      <th>0</th>\n",
       "      <td>Current Temperature (°C)</td>\n",
       "      <td>14.1</td>\n",
       "    </tr>\n",
       "    <tr>\n",
       "      <th>1</th>\n",
       "      <td>Average Temperature (°C)</td>\n",
       "      <td>29.0825</td>\n",
       "    </tr>\n",
       "    <tr>\n",
       "      <th>2</th>\n",
       "      <td>Current Humidity (%)</td>\n",
       "      <td>80</td>\n",
       "    </tr>\n",
       "    <tr>\n",
       "      <th>3</th>\n",
       "      <td>Average Humidity (%)</td>\n",
       "      <td>30.0</td>\n",
       "    </tr>\n",
       "    <tr>\n",
       "      <th>4</th>\n",
       "      <td>Current Wind Speed (m/s)</td>\n",
       "      <td>2.68</td>\n",
       "    </tr>\n",
       "    <tr>\n",
       "      <th>5</th>\n",
       "      <td>Average Wind Speed (m/s)</td>\n",
       "      <td>6.98375</td>\n",
       "    </tr>\n",
       "    <tr>\n",
       "      <th>6</th>\n",
       "      <td>Weather Description</td>\n",
       "      <td>clear sky</td>\n",
       "    </tr>\n",
       "  </tbody>\n",
       "</table>\n",
       "</div>"
      ],
      "text/plain": [
       "                     Metric      Value\n",
       "0  Current Temperature (°C)       14.1\n",
       "1  Average Temperature (°C)    29.0825\n",
       "2      Current Humidity (%)         80\n",
       "3      Average Humidity (%)       30.0\n",
       "4  Current Wind Speed (m/s)       2.68\n",
       "5  Average Wind Speed (m/s)    6.98375\n",
       "6       Weather Description  clear sky"
      ]
     },
     "execution_count": 13,
     "metadata": {},
     "output_type": "execute_result"
    },
    {
     "name": "stdout",
     "output_type": "stream",
     "text": [
      "\u001b[33muser_proxy\u001b[0m (to chat_manager):\n",
      "\n",
      "\u001b[33muser_proxy\u001b[0m (to chat_manager):\n",
      "\n",
      "\u001b[32m***** Response from calling tool (call_f6TnUYTmccQ1lSklS8BfrSbh) *****\u001b[0m\n",
      "                     Metric      Value\n",
      "0  Current Temperature (°C)       14.1\n",
      "1  Average Temperature (°C)    29.0825\n",
      "2      Current Humidity (%)         80\n",
      "3      Average Humidity (%)       30.0\n",
      "4  Current Wind Speed (m/s)       2.68\n",
      "5  Average Wind Speed (m/s)    6.98375\n",
      "6       Weather Description  clear sky\n",
      "\u001b[32m**********************************************************************\u001b[0m\n",
      "\n",
      "--------------------------------------------------------------------------------\n"
     ]
    }
   ],
   "source": [
    "with Cache.disk() as cache:\n",
    "    # start the conversation\n",
    "    res = user_proxy.initiate_chat(\n",
    "        manager, message=task, summary_method=\"reflection_with_llm\", cache=cache, llm_config=llm_config\n",
    "    )"
   ]
  },
  {
   "cell_type": "code",
   "execution_count": null,
   "id": "8a7d90c3-60ee-4423-9828-7763134e8d26",
   "metadata": {},
   "outputs": [],
   "source": []
  }
 ],
 "metadata": {
  "kernelspec": {
   "display_name": "20240718_Autogen_Streamlit",
   "language": "python",
   "name": "20240718_autogen_streamlit"
  },
  "language_info": {
   "codemirror_mode": {
    "name": "ipython",
    "version": 3
   },
   "file_extension": ".py",
   "mimetype": "text/x-python",
   "name": "python",
   "nbconvert_exporter": "python",
   "pygments_lexer": "ipython3",
   "version": "3.10.14"
  }
 },
 "nbformat": 4,
 "nbformat_minor": 5
}
