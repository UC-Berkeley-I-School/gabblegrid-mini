{
 "cells": [
  {
   "cell_type": "code",
   "execution_count": 1,
   "id": "9f396a75-dca2-497d-a956-50f5370be3ca",
   "metadata": {},
   "outputs": [
    {
     "data": {
      "text/plain": [
       "['Run',\n",
       " 'Max Events',\n",
       " 'Input Length',\n",
       " 'Hidden Size',\n",
       " 'Dropout',\n",
       " 'Num Layers',\n",
       " 'Gap',\n",
       " 'Prediction Period',\n",
       " 'Num Epochs',\n",
       " 'Precision',\n",
       " 'Recall',\n",
       " 'Accuracy',\n",
       " 'F1',\n",
       " 'TN',\n",
       " 'FP',\n",
       " 'FN',\n",
       " 'TP']"
      ]
     },
     "execution_count": 1,
     "metadata": {},
     "output_type": "execute_result"
    }
   ],
   "source": [
    "import pandas as pd\n",
    "\n",
    "csv_path = \"/home/ubuntu/efs-w210-capstone-ebs/00.GabbleGrid/01.Local_Model_Files/00.Tracker/20240713_Transformers_NonOverlapping_180.csv\"\n",
    "df = pd.read_csv(csv_path)\n",
    "columns = df.columns.tolist()\n",
    "columns"
   ]
  },
  {
   "cell_type": "code",
   "execution_count": null,
   "id": "736d8033-0f8c-48ad-9760-b03e44b9af31",
   "metadata": {},
   "outputs": [],
   "source": []
  }
 ],
 "metadata": {
  "kernelspec": {
   "display_name": "20240718_Autogen_Streamlit",
   "language": "python",
   "name": "20240718_autogen_streamlit"
  },
  "language_info": {
   "codemirror_mode": {
    "name": "ipython",
    "version": 3
   },
   "file_extension": ".py",
   "mimetype": "text/x-python",
   "name": "python",
   "nbconvert_exporter": "python",
   "pygments_lexer": "ipython3",
   "version": "3.10.14"
  }
 },
 "nbformat": 4,
 "nbformat_minor": 5
}
