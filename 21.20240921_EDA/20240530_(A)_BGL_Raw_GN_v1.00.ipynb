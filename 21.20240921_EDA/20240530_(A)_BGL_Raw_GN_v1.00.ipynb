{
 "cells": [
  {
   "cell_type": "markdown",
   "id": "75278e06-1767-442f-b19d-27489b0e6609",
   "metadata": {},
   "source": [
    "# Importing BGL Dataset to s3\n",
    "\n",
    "> Alternative: Check out importing to EFS"
   ]
  },
  {
   "cell_type": "markdown",
   "id": "d26de90b-cff7-4d84-8bbe-2f76a5df8c3c",
   "metadata": {},
   "source": [
    "> Note: I have already downloaded this file to S3 ---> But that was with the earlier Notebook Instance application of SageMaker\n",
    ">\n",
    "> I am now teseting this download again --> fyi only"
   ]
  },
  {
   "cell_type": "code",
   "execution_count": 10,
   "id": "2a93b2ae-37e3-449b-817e-5c254715ebd8",
   "metadata": {},
   "outputs": [
    {
     "name": "stdout",
     "output_type": "stream",
     "text": [
      "environ({'REGION_NAME': 'us-east-1', 'HOSTNAME': 'sagemaker-data-scien-ml-m5-2xlarge-58ec53cbfb4afb44281d61bdec8c', 'SAGEMAKER_SPACE_TYPE_LOWERCASE': '', 'HOME': '/root', 'AWS_CONTAINER_CREDENTIALS_RELATIVE_URI': '/_sagemaker-instance-credentials/b817998ff9dfad5b4d5053dc6478e169d5c7fd476140ab9d7be1908a6a96f3cb', 'PYTHONNOUSERSITE': '0', 'AWS_DEFAULT_REGION': 'us-east-1', 'SAGEMAKER_SPACE_NAME': 'w210-capstone-shared', 'PATH': '/opt/conda/bin:/usr/local/sbin:/usr/local/bin:/usr/sbin:/usr/bin:/sbin:/bin:/opt/amazon/bin:/tmp/miniconda3/condabin:/tmp/anaconda3/condabin:/tmp/miniconda2/condabin:/tmp/anaconda2/condabin:/tmp/mambaforge/condabin', 'AWS_ACCOUNT_ID': '110894606152', 'DEBIAN_FRONTEND': 'noninteractive', 'SHELL': '/bin/bash', 'AWS_REGION': 'us-east-1', 'AWS_INTERNAL_IMAGE_OWNER': 'Studio', 'SAGEMAKER_APP_TYPE': 'KernelGateway', 'CONDA_DIR': '/opt/.sagemakerinternal/conda', 'PWD': '/root', 'AWS_SAGEMAKER_PYTHONNOUSERSITE': '0', 'SAGEMAKER_LOG_FILE': '/var/log/studio/kernel_gateway.log', 'SAGEMAKER_JOB_CONDA_ENV': 'base', 'SAGEMAKER_INTERNAL_IMAGE_URI': '081325390199.dkr.ecr.us-east-1.amazonaws.com/sagemaker-data-science-310@sha256:5241121f7771b6862a8e0653292f2d3ff46ad09dd8341875ac7a167072858616', 'JUPYTER_PATH': '/opt/conda/share/jupyter/', 'LC_CTYPE': 'C.UTF-8', 'KERNEL_LAUNCH_TIMEOUT': '40', 'KERNEL_WORKING_PATH': '10.EDA', 'KERNEL_GATEWAY': '1', 'JPY_PARENT_PID': '8', 'PYDEVD_USE_FRAME_EVAL': 'NO', 'TERM': 'xterm-color', 'CLICOLOR': '1', 'FORCE_COLOR': '1', 'CLICOLOR_FORCE': '1', 'PAGER': 'cat', 'GIT_PAGER': 'cat', 'MPLBACKEND': 'module://matplotlib_inline.backend_inline', 'BASE_DIR': '/home/sagemaker-user'})\n"
     ]
    }
   ],
   "source": [
    "import os\n",
    "print(os.environ)"
   ]
  },
  {
   "cell_type": "code",
   "execution_count": 13,
   "id": "74deda78-80ed-4757-9d0f-35d951b03ec7",
   "metadata": {},
   "outputs": [
    {
     "name": "stdout",
     "output_type": "stream",
     "text": [
      "None\n",
      "0\n"
     ]
    }
   ],
   "source": [
    "import os\n",
    "print(os.getenv('USER'))  # Should print the current user\n",
    "print(os.geteuid())       # Should print the user ID, 0 for root\n"
   ]
  },
  {
   "cell_type": "code",
   "execution_count": 14,
   "id": "f2a5f1f6-2136-40e9-a65b-914bdf31cbb8",
   "metadata": {},
   "outputs": [
    {
     "name": "stdout",
     "output_type": "stream",
     "text": [
      "Base directory set to: /root/11.Data/01.BGL/01.Raw_CFDR\n"
     ]
    }
   ],
   "source": [
    "import os\n",
    "\n",
    "# Determine the base directory based on the effective user ID\n",
    "if os.geteuid() == 0:  # root user\n",
    "    base_dir = '/root/11.Data/01.BGL/01.Raw_CFDR'\n",
    "else:\n",
    "    base_dir = '/home/sagemaker-user/11.Data/01.BGL/01.Raw_CFDR'\n",
    "\n",
    "# Set the environment variable\n",
    "os.environ['BASE_DIR'] = base_dir\n",
    "\n",
    "# Verify the base directory\n",
    "print(f\"Base directory set to: {base_dir}\")\n"
   ]
  },
  {
   "cell_type": "code",
   "execution_count": 12,
   "id": "c4c61e1c-4dcd-4bb0-937d-1a16e0e1bad0",
   "metadata": {},
   "outputs": [
    {
     "name": "stdout",
     "output_type": "stream",
     "text": [
      "Current working directory: /root/10.EDA\n",
      "Base directory: /home/sagemaker-user\n",
      "File path: /home/sagemaker-user/11.Data/01.BGL/01.Raw_CFDR/bgl2.gz\n",
      "File exists: False\n"
     ]
    }
   ],
   "source": [
    "import os\n",
    "\n",
    "# Verify the current working directory\n",
    "print(\"Current working directory:\", os.getcwd())\n",
    "\n",
    "# Get the base directory from the environment variable\n",
    "base_dir = os.getenv('BASE_DIR')\n",
    "print(\"Base directory:\", base_dir)\n",
    "\n",
    "# Construct and verify the file path\n",
    "file_path = os.path.join(base_dir, '11.Data/01.BGL/01.Raw_CFDR/bgl2.gz')\n",
    "print(\"File path:\", file_path)\n",
    "\n",
    "# Check if the file exists\n",
    "print(\"File exists:\", os.path.exists(file_path))\n"
   ]
  },
  {
   "cell_type": "code",
   "execution_count": 15,
   "id": "2d5ceee8-9151-4f09-a74e-170cbeddbfca",
   "metadata": {},
   "outputs": [
    {
     "name": "stdout",
     "output_type": "stream",
     "text": [
      "Current working directory: /root/10.EDA\n",
      "Base directory: /root/11.Data/01.BGL/01.Raw_CFDR\n",
      "File path: /root/11.Data/01.BGL/01.Raw_CFDR/bgl2.gz\n",
      "File exists: True\n"
     ]
    }
   ],
   "source": [
    "import os\n",
    "\n",
    "# Verify the current working directory\n",
    "print(\"Current working directory:\", os.getcwd())\n",
    "\n",
    "# Get the base directory from the environment variable\n",
    "base_dir = os.getenv('BASE_DIR')\n",
    "print(\"Base directory:\", base_dir)\n",
    "\n",
    "# Construct and verify the file path\n",
    "file_path = os.path.join(base_dir, 'bgl2.gz')\n",
    "print(\"File path:\", file_path)\n",
    "\n",
    "# Check if the file exists\n",
    "print(\"File exists:\", os.path.exists(file_path))\n"
   ]
  },
  {
   "cell_type": "markdown",
   "id": "a45d5c3f-35c1-4266-84d6-f25c5181910a",
   "metadata": {},
   "source": [
    "### Import to S3"
   ]
  },
  {
   "cell_type": "code",
   "execution_count": 2,
   "id": "6d377f71-dc62-450e-844a-c069047e5be7",
   "metadata": {
    "tags": []
   },
   "outputs": [],
   "source": [
    "# import boto3\n",
    "# import requests\n",
    "# import os\n",
    "\n",
    "# # Define the URL and local file path\n",
    "# url = 'http://0b4af6cdc2f0c5998459-c0245c5c937c5dedcca3f1764ecc9b2f.r43.cf2.rackcdn.com/hpc4/bgl2.gz'\n",
    "# local_filename = 'bgl2.gz'\n",
    "\n",
    "# # S3 bucket details\n",
    "# s3_bucket = 'w210-capstone'\n",
    "# s3_key = '11.Data/20240524_BlueGene_Raw_HPC/Temp_DNU/bgl2.gz'\n",
    "\n",
    "# ######### Location of Actual File ########\n",
    "# # 11.Data/20240524_BlueGene_Raw_HPC/bgl2.gz\n",
    "\n",
    "# # Download the file from `url` and save it locally\n",
    "# with requests.get(url, stream=True) as r:\n",
    "#     r.raise_for_status()\n",
    "#     with open(local_filename, 'wb') as f:\n",
    "#         for chunk in r.iter_content(chunk_size=8192):\n",
    "#             if chunk:  # filter out keep-alive new chunks\n",
    "#                 f.write(chunk)\n",
    "\n",
    "# print(f\"Downloaded {local_filename} successfully.\")\n",
    "\n",
    "# # Upload the file to the specified S3 location\n",
    "# s3 = boto3.client('s3')\n",
    "# try:\n",
    "#     s3.upload_file(local_filename, s3_bucket, s3_key)\n",
    "#     print(f\"Uploaded {local_filename} to s3://{s3_bucket}/{s3_key} successfully.\")\n",
    "# except Exception as e:\n",
    "#     print(f\"An error occurred while uploading to S3: {e}\")\n",
    "\n",
    "# # Clean up the local file\n",
    "# os.remove(local_filename)\n",
    "# print(f\"Cleaned up local file {local_filename}.\")\n"
   ]
  },
  {
   "cell_type": "markdown",
   "id": "1d0c439c-1aba-4b97-aefc-28ca0b9c02f0",
   "metadata": {},
   "source": [
    "### Download Directory to local EFS Folder"
   ]
  },
  {
   "cell_type": "code",
   "execution_count": 3,
   "id": "b0d0a352-91e6-470a-a43d-8b0327868145",
   "metadata": {
    "tags": []
   },
   "outputs": [],
   "source": [
    "# import os\n",
    "# import requests\n",
    "\n",
    "# # Change to the root directory\n",
    "# os.chdir('/root')\n",
    "\n",
    "# # Define the URL and the local file path\n",
    "# url = 'http://0b4af6cdc2f0c5998459-c0245c5c937c5dedcca3f1764ecc9b2f.r43.cf2.rackcdn.com/hpc4/bgl2.gz'\n",
    "# # local_dir = '/home/sagemaker-user/11.Data/01.BGL/01.Raw_CFDR'\n",
    "# local_dir = '11.Data/01.BGL/01.Raw_CFDR'\n",
    "\n",
    "# local_filename = 'bgl2.gz'\n",
    "# local_filepath = os.path.join(local_dir, local_filename)\n",
    "\n",
    "# # Create the directory if it doesn't exist\n",
    "# os.makedirs(local_dir, exist_ok=True)\n",
    "\n",
    "# # Download the file from `url` and save it locally under `local_filepath`\n",
    "# with requests.get(url, stream=True) as r:\n",
    "#     r.raise_for_status()\n",
    "#     with open(local_filepath, 'wb') as f:\n",
    "#         for chunk in r.iter_content(chunk_size=8192):\n",
    "#             f.write(chunk)\n",
    "\n",
    "# print(f\"Downloaded {local_filepath}\")\n"
   ]
  },
  {
   "cell_type": "markdown",
   "id": "266480f2-2c7f-44f2-ab58-d5b5468c5ec3",
   "metadata": {},
   "source": [
    "---"
   ]
  },
  {
   "cell_type": "code",
   "execution_count": 5,
   "id": "27471300-876c-48f3-9206-c03f63d59333",
   "metadata": {},
   "outputs": [
    {
     "name": "stdout",
     "output_type": "stream",
     "text": [
      "- 1117838570 2005.06.03 R02-M1-N0-C:J12-U11 2005-06-03-15.42.50.363779 R02-M1-N0-C:J12-U11 RAS KERNEL INFO instruction cache parity error corrected\n",
      "- 1117838570 2005.06.03 R02-M1-N0-C:J12-U11 2005-06-03-15.42.50.527847 R02-M1-N0-C:J12-U11 RAS KERNEL INFO instruction cache parity error corrected\n",
      "- 1117838570 2005.06.03 R02-M1-N0-C:J12-U11 2005-06-03-15.42.50.675872 R02-M1-N0-C:J12-U11 RAS KERNEL INFO instruction cache parity error corrected\n",
      "- 1117838570 2005.06.03 R02-M1-N0-C:J12-U11 2005-06-03-15.42.50.823719 R02-M1-N0-C:J12-U11 RAS KERNEL INFO instruction cache parity error corrected\n",
      "- 1117838570 2005.06.03 R02-M1-N0-C:J12-U11 2005-06-03-15.42.50.982731 R02-M1-N0-C:J12-U11 RAS KERNEL INFO instruction cache parity error corrected\n",
      "- 1117838571 2005.06.03 R02-M1-N0-C:J12-U11 2005-06-03-15.42.51.131467 R02-M1-N0-C:J12-U11 RAS KERNEL INFO instruction cache parity error corrected\n",
      "- 1117838571 2005.06.03 R02-M1-N0-C:J12-U11 2005-06-03-15.42.51.293532 R02-M1-N0-C:J12-U11 RAS KERNEL INFO instruction cache parity error corrected\n",
      "- 1117838571 2005.06.03 R02-M1-N0-C:J12-U11 2005-06-03-15.42.51.428563 R02-M1-N0-C:J12-U11 RAS KERNEL INFO instruction cache parity error corrected\n",
      "- 1117838571 2005.06.03 R02-M1-N0-C:J12-U11 2005-06-03-15.42.51.601412 R02-M1-N0-C:J12-U11 RAS KERNEL INFO instruction cache parity error corrected\n",
      "- 1117838571 2005.06.03 R02-M1-N0-C:J12-U11 2005-06-03-15.42.51.749199 R02-M1-N0-C:J12-U11 RAS KERNEL INFO instruction cache parity error corrected\n"
     ]
    }
   ],
   "source": [
    "import os\n",
    "import gzip\n",
    "import pandas as pd\n",
    "import matplotlib.pyplot as plt\n",
    "\n",
    "# Get the base directory from the environment variable\n",
    "# base_dir = os.getenv('BASE_DIR', '/home/sagemaker-user')  # Default to /home/sagemaker-user if not set\n",
    "\n",
    "# Define the file path\n",
    "# file_path = os.path.join(base_dir, '11.Data/01.BGL/01.Raw_CFDR/bgl2.gz')\n",
    "file_path = '/root/11.Data/01.BGL/01.Raw_CFDR/bgl2.gz'\n",
    "\n",
    "# Load and read the data\n",
    "with gzip.open(file_path, 'rt') as f:\n",
    "    # Read the file into a DataFrame\n",
    "    lines = f.readlines()\n",
    "\n",
    "# Print the first few lines to understand the structure\n",
    "for line in lines[:10]:\n",
    "    print(line.strip())"
   ]
  },
  {
   "cell_type": "markdown",
   "id": "117cf61e-5851-4f3a-b696-4de785a77413",
   "metadata": {},
   "source": [
    "### <font color = grey> Total Counts"
   ]
  },
  {
   "cell_type": "code",
   "execution_count": 7,
   "id": "88a53b42-db54-4a58-aced-eff75c6053d2",
   "metadata": {
    "tags": []
   },
   "outputs": [
    {
     "name": "stdout",
     "output_type": "stream",
     "text": [
      "Total number of rows: 4747963\n"
     ]
    }
   ],
   "source": [
    "import gzip\n",
    "\n",
    "# Define the file path\n",
    "# file_path = '/home/sagemaker-user/11.Data/01.BGL/01.Raw_CFDR/bgl2.gz'\n",
    "file_path = '/root/11.Data/01.BGL/01.Raw_CFDR/bgl2.gz'\n",
    "\n",
    "# Count the number of lines\n",
    "line_count = 0\n",
    "with gzip.open(file_path, 'rt') as f:\n",
    "    for line in f:\n",
    "        line_count += 1\n",
    "\n",
    "print(f'Total number of rows: {line_count}')"
   ]
  },
  {
   "cell_type": "markdown",
   "id": "44c2f67c-11ad-4205-bfbf-9fa7dd2d406e",
   "metadata": {},
   "source": [
    "---"
   ]
  },
  {
   "cell_type": "markdown",
   "id": "5619591f-5916-458a-98c1-697cc5332b05",
   "metadata": {},
   "source": [
    "### <font color = grey> Line Position Analysis"
   ]
  },
  {
   "cell_type": "code",
   "execution_count": 8,
   "id": "a35cc8d6-391e-47cc-b135-21def5f63ccb",
   "metadata": {
    "tags": []
   },
   "outputs": [
    {
     "name": "stdout",
     "output_type": "stream",
     "text": [
      "Total number of rows: 4747963\n",
      "Number of rows starting with \"-\": 4399265\n",
      "Number of rows not starting with \"-\": 348698\n"
     ]
    }
   ],
   "source": [
    "import gzip\n",
    "\n",
    "# Define the file path\n",
    "# file_path = '/home/sagemaker-user/11.Data/01.BGL/01.Raw_CFDR/bgl2.gz'\n",
    "file_path = '/root/11.Data/01.BGL/01.Raw_CFDR/bgl2.gz'\n",
    "\n",
    "# Initialize counters\n",
    "total_lines = 0\n",
    "lines_starting_with_hyphen = 0\n",
    "lines_not_starting_with_hyphen = 0\n",
    "\n",
    "# Count the number of lines and categorize them\n",
    "with gzip.open(file_path, 'rt') as f:\n",
    "    for line in f:\n",
    "        total_lines += 1\n",
    "        if line.startswith('-'):\n",
    "            lines_starting_with_hyphen += 1\n",
    "        else:\n",
    "            lines_not_starting_with_hyphen += 1\n",
    "\n",
    "# Print the results\n",
    "print(f'Total number of rows: {total_lines}')\n",
    "print(f'Number of rows starting with \"-\": {lines_starting_with_hyphen}')\n",
    "print(f'Number of rows not starting with \"-\": {lines_not_starting_with_hyphen}')"
   ]
  },
  {
   "cell_type": "markdown",
   "id": "63d83f54-2804-4e8b-a477-6c2acdb98d25",
   "metadata": {},
   "source": [
    "### <font color = grey> first 10 rows of exceptions"
   ]
  },
  {
   "cell_type": "code",
   "execution_count": 9,
   "id": "e4faf55e-a33d-4c60-9287-2af99147c5fc",
   "metadata": {
    "tags": []
   },
   "outputs": [
    {
     "name": "stdout",
     "output_type": "stream",
     "text": [
      "Total number of rows: 4747963\n",
      "Number of rows starting with \"-\": 4399265\n",
      "Number of rows not starting with \"-\": 348698\n",
      "\n",
      "First 10 lines that do not start with '-':\n",
      "1: R_DDR_EXC 1117840321 2005.06.03 R16-M1-N2-C:J17-U01 2005-06-03-16.12.01.215908 R16-M1-N2-C:J17-U01 RAS KERNEL INFO ddr: excessive soft failures, consider replacing the card\n",
      "2: R_DDR_EXC 1117846777 2005.06.03 R16-M1-N2-C:J17-U01 2005-06-03-17.59.37.564438 R16-M1-N2-C:J17-U01 RAS KERNEL INFO ddr: excessive soft failures, consider replacing the card\n",
      "3: APPREAD 1117869872 2005.06.04 R23-M1-N8-I:J18-U11 2005-06-04-00.24.32.398284 R23-M1-N8-I:J18-U11 RAS APP FATAL ciod: failed to read message prefix on control stream (CioStream socket to 172.16.96.116:33399\n",
      "4: APPREAD 1117869872 2005.06.04 R04-M1-N4-I:J18-U11 2005-06-04-00.24.32.432192 R04-M1-N4-I:J18-U11 RAS APP FATAL ciod: failed to read message prefix on control stream (CioStream socket to 172.16.96.116:33569\n",
      "5: APPREAD 1117869872 2005.06.04 R04-M1-N4-I:J18-U01 2005-06-04-00.24.32.481570 R04-M1-N4-I:J18-U01 RAS APP FATAL ciod: failed to read message prefix on control stream (CioStream socket to 172.16.96.116:33570\n",
      "6: APPREAD 1117869873 2005.06.04 R35-M1-N0-I:J18-U11 2005-06-04-00.24.33.168659 R35-M1-N0-I:J18-U11 RAS APP FATAL ciod: failed to read message prefix on control stream (CioStream socket to 172.16.96.116:33459\n",
      "7: APPREAD 1117869873 2005.06.04 R35-M1-N0-I:J18-U01 2005-06-04-00.24.33.203068 R35-M1-N0-I:J18-U01 RAS APP FATAL ciod: failed to read message prefix on control stream (CioStream socket to 172.16.96.116:33460\n",
      "8: APPREAD 1117869873 2005.06.04 R36-M0-N8-I:J18-U11 2005-06-04-00.24.33.236793 R36-M0-N8-I:J18-U11 RAS APP FATAL ciod: failed to read message prefix on control stream (CioStream socket to 172.16.96.116:33231\n",
      "9: APPREAD 1117869873 2005.06.04 R36-M0-N8-I:J18-U01 2005-06-04-00.24.33.270584 R36-M0-N8-I:J18-U01 RAS APP FATAL ciod: failed to read message prefix on control stream (CioStream socket to 172.16.96.116:33232\n",
      "10: APPREAD 1117869873 2005.06.04 R36-M0-NC-I:J18-U11 2005-06-04-00.24.33.304903 R36-M0-NC-I:J18-U11 RAS APP FATAL ciod: failed to read message prefix on control stream (CioStream socket to 172.16.96.116:33229\n"
     ]
    }
   ],
   "source": [
    "import gzip\n",
    "\n",
    "# Define the file path\n",
    "# file_path = '/home/sagemaker-user/11.Data/01.BGL/01.Raw_CFDR/bgl2.gz'\n",
    "file_path = '/root/11.Data/01.BGL/01.Raw_CFDR/bgl2.gz'\n",
    "\n",
    "# Initialize counters and storage for exception lines\n",
    "total_lines = 0\n",
    "lines_starting_with_hyphen = 0\n",
    "lines_not_starting_with_hyphen = 0\n",
    "exception_lines = []\n",
    "\n",
    "# Count the number of lines and categorize them\n",
    "with gzip.open(file_path, 'rt') as f:\n",
    "    for line in f:\n",
    "        total_lines += 1\n",
    "        if line.startswith('-'):\n",
    "            lines_starting_with_hyphen += 1\n",
    "        else:\n",
    "            lines_not_starting_with_hyphen += 1\n",
    "            if len(exception_lines) < 10:\n",
    "                exception_lines.append(line.strip())\n",
    "\n",
    "# Print the results\n",
    "print(f'Total number of rows: {total_lines}')\n",
    "print(f'Number of rows starting with \"-\": {lines_starting_with_hyphen}')\n",
    "print(f'Number of rows not starting with \"-\": {lines_not_starting_with_hyphen}')\n",
    "\n",
    "# Print the first 10 exception lines\n",
    "print(\"\\nFirst 10 lines that do not start with '-':\")\n",
    "for i, exception_line in enumerate(exception_lines, 1):\n",
    "    print(f\"{i}: {exception_line}\")\n"
   ]
  },
  {
   "cell_type": "code",
   "execution_count": null,
   "id": "2d0161bc-4ee2-49a9-8ddc-f22a28c350a1",
   "metadata": {},
   "outputs": [],
   "source": []
  }
 ],
 "metadata": {
  "availableInstances": [
   {
    "_defaultOrder": 0,
    "_isFastLaunch": true,
    "category": "General purpose",
    "gpuNum": 0,
    "hideHardwareSpecs": false,
    "memoryGiB": 4,
    "name": "ml.t3.medium",
    "vcpuNum": 2
   },
   {
    "_defaultOrder": 1,
    "_isFastLaunch": false,
    "category": "General purpose",
    "gpuNum": 0,
    "hideHardwareSpecs": false,
    "memoryGiB": 8,
    "name": "ml.t3.large",
    "vcpuNum": 2
   },
   {
    "_defaultOrder": 2,
    "_isFastLaunch": false,
    "category": "General purpose",
    "gpuNum": 0,
    "hideHardwareSpecs": false,
    "memoryGiB": 16,
    "name": "ml.t3.xlarge",
    "vcpuNum": 4
   },
   {
    "_defaultOrder": 3,
    "_isFastLaunch": false,
    "category": "General purpose",
    "gpuNum": 0,
    "hideHardwareSpecs": false,
    "memoryGiB": 32,
    "name": "ml.t3.2xlarge",
    "vcpuNum": 8
   },
   {
    "_defaultOrder": 4,
    "_isFastLaunch": true,
    "category": "General purpose",
    "gpuNum": 0,
    "hideHardwareSpecs": false,
    "memoryGiB": 8,
    "name": "ml.m5.large",
    "vcpuNum": 2
   },
   {
    "_defaultOrder": 5,
    "_isFastLaunch": false,
    "category": "General purpose",
    "gpuNum": 0,
    "hideHardwareSpecs": false,
    "memoryGiB": 16,
    "name": "ml.m5.xlarge",
    "vcpuNum": 4
   },
   {
    "_defaultOrder": 6,
    "_isFastLaunch": false,
    "category": "General purpose",
    "gpuNum": 0,
    "hideHardwareSpecs": false,
    "memoryGiB": 32,
    "name": "ml.m5.2xlarge",
    "vcpuNum": 8
   },
   {
    "_defaultOrder": 7,
    "_isFastLaunch": false,
    "category": "General purpose",
    "gpuNum": 0,
    "hideHardwareSpecs": false,
    "memoryGiB": 64,
    "name": "ml.m5.4xlarge",
    "vcpuNum": 16
   },
   {
    "_defaultOrder": 8,
    "_isFastLaunch": false,
    "category": "General purpose",
    "gpuNum": 0,
    "hideHardwareSpecs": false,
    "memoryGiB": 128,
    "name": "ml.m5.8xlarge",
    "vcpuNum": 32
   },
   {
    "_defaultOrder": 9,
    "_isFastLaunch": false,
    "category": "General purpose",
    "gpuNum": 0,
    "hideHardwareSpecs": false,
    "memoryGiB": 192,
    "name": "ml.m5.12xlarge",
    "vcpuNum": 48
   },
   {
    "_defaultOrder": 10,
    "_isFastLaunch": false,
    "category": "General purpose",
    "gpuNum": 0,
    "hideHardwareSpecs": false,
    "memoryGiB": 256,
    "name": "ml.m5.16xlarge",
    "vcpuNum": 64
   },
   {
    "_defaultOrder": 11,
    "_isFastLaunch": false,
    "category": "General purpose",
    "gpuNum": 0,
    "hideHardwareSpecs": false,
    "memoryGiB": 384,
    "name": "ml.m5.24xlarge",
    "vcpuNum": 96
   },
   {
    "_defaultOrder": 12,
    "_isFastLaunch": false,
    "category": "General purpose",
    "gpuNum": 0,
    "hideHardwareSpecs": false,
    "memoryGiB": 8,
    "name": "ml.m5d.large",
    "vcpuNum": 2
   },
   {
    "_defaultOrder": 13,
    "_isFastLaunch": false,
    "category": "General purpose",
    "gpuNum": 0,
    "hideHardwareSpecs": false,
    "memoryGiB": 16,
    "name": "ml.m5d.xlarge",
    "vcpuNum": 4
   },
   {
    "_defaultOrder": 14,
    "_isFastLaunch": false,
    "category": "General purpose",
    "gpuNum": 0,
    "hideHardwareSpecs": false,
    "memoryGiB": 32,
    "name": "ml.m5d.2xlarge",
    "vcpuNum": 8
   },
   {
    "_defaultOrder": 15,
    "_isFastLaunch": false,
    "category": "General purpose",
    "gpuNum": 0,
    "hideHardwareSpecs": false,
    "memoryGiB": 64,
    "name": "ml.m5d.4xlarge",
    "vcpuNum": 16
   },
   {
    "_defaultOrder": 16,
    "_isFastLaunch": false,
    "category": "General purpose",
    "gpuNum": 0,
    "hideHardwareSpecs": false,
    "memoryGiB": 128,
    "name": "ml.m5d.8xlarge",
    "vcpuNum": 32
   },
   {
    "_defaultOrder": 17,
    "_isFastLaunch": false,
    "category": "General purpose",
    "gpuNum": 0,
    "hideHardwareSpecs": false,
    "memoryGiB": 192,
    "name": "ml.m5d.12xlarge",
    "vcpuNum": 48
   },
   {
    "_defaultOrder": 18,
    "_isFastLaunch": false,
    "category": "General purpose",
    "gpuNum": 0,
    "hideHardwareSpecs": false,
    "memoryGiB": 256,
    "name": "ml.m5d.16xlarge",
    "vcpuNum": 64
   },
   {
    "_defaultOrder": 19,
    "_isFastLaunch": false,
    "category": "General purpose",
    "gpuNum": 0,
    "hideHardwareSpecs": false,
    "memoryGiB": 384,
    "name": "ml.m5d.24xlarge",
    "vcpuNum": 96
   },
   {
    "_defaultOrder": 20,
    "_isFastLaunch": false,
    "category": "General purpose",
    "gpuNum": 0,
    "hideHardwareSpecs": true,
    "memoryGiB": 0,
    "name": "ml.geospatial.interactive",
    "supportedImageNames": [
     "sagemaker-geospatial-v1-0"
    ],
    "vcpuNum": 0
   },
   {
    "_defaultOrder": 21,
    "_isFastLaunch": true,
    "category": "Compute optimized",
    "gpuNum": 0,
    "hideHardwareSpecs": false,
    "memoryGiB": 4,
    "name": "ml.c5.large",
    "vcpuNum": 2
   },
   {
    "_defaultOrder": 22,
    "_isFastLaunch": false,
    "category": "Compute optimized",
    "gpuNum": 0,
    "hideHardwareSpecs": false,
    "memoryGiB": 8,
    "name": "ml.c5.xlarge",
    "vcpuNum": 4
   },
   {
    "_defaultOrder": 23,
    "_isFastLaunch": false,
    "category": "Compute optimized",
    "gpuNum": 0,
    "hideHardwareSpecs": false,
    "memoryGiB": 16,
    "name": "ml.c5.2xlarge",
    "vcpuNum": 8
   },
   {
    "_defaultOrder": 24,
    "_isFastLaunch": false,
    "category": "Compute optimized",
    "gpuNum": 0,
    "hideHardwareSpecs": false,
    "memoryGiB": 32,
    "name": "ml.c5.4xlarge",
    "vcpuNum": 16
   },
   {
    "_defaultOrder": 25,
    "_isFastLaunch": false,
    "category": "Compute optimized",
    "gpuNum": 0,
    "hideHardwareSpecs": false,
    "memoryGiB": 72,
    "name": "ml.c5.9xlarge",
    "vcpuNum": 36
   },
   {
    "_defaultOrder": 26,
    "_isFastLaunch": false,
    "category": "Compute optimized",
    "gpuNum": 0,
    "hideHardwareSpecs": false,
    "memoryGiB": 96,
    "name": "ml.c5.12xlarge",
    "vcpuNum": 48
   },
   {
    "_defaultOrder": 27,
    "_isFastLaunch": false,
    "category": "Compute optimized",
    "gpuNum": 0,
    "hideHardwareSpecs": false,
    "memoryGiB": 144,
    "name": "ml.c5.18xlarge",
    "vcpuNum": 72
   },
   {
    "_defaultOrder": 28,
    "_isFastLaunch": false,
    "category": "Compute optimized",
    "gpuNum": 0,
    "hideHardwareSpecs": false,
    "memoryGiB": 192,
    "name": "ml.c5.24xlarge",
    "vcpuNum": 96
   },
   {
    "_defaultOrder": 29,
    "_isFastLaunch": true,
    "category": "Accelerated computing",
    "gpuNum": 1,
    "hideHardwareSpecs": false,
    "memoryGiB": 16,
    "name": "ml.g4dn.xlarge",
    "vcpuNum": 4
   },
   {
    "_defaultOrder": 30,
    "_isFastLaunch": false,
    "category": "Accelerated computing",
    "gpuNum": 1,
    "hideHardwareSpecs": false,
    "memoryGiB": 32,
    "name": "ml.g4dn.2xlarge",
    "vcpuNum": 8
   },
   {
    "_defaultOrder": 31,
    "_isFastLaunch": false,
    "category": "Accelerated computing",
    "gpuNum": 1,
    "hideHardwareSpecs": false,
    "memoryGiB": 64,
    "name": "ml.g4dn.4xlarge",
    "vcpuNum": 16
   },
   {
    "_defaultOrder": 32,
    "_isFastLaunch": false,
    "category": "Accelerated computing",
    "gpuNum": 1,
    "hideHardwareSpecs": false,
    "memoryGiB": 128,
    "name": "ml.g4dn.8xlarge",
    "vcpuNum": 32
   },
   {
    "_defaultOrder": 33,
    "_isFastLaunch": false,
    "category": "Accelerated computing",
    "gpuNum": 4,
    "hideHardwareSpecs": false,
    "memoryGiB": 192,
    "name": "ml.g4dn.12xlarge",
    "vcpuNum": 48
   },
   {
    "_defaultOrder": 34,
    "_isFastLaunch": false,
    "category": "Accelerated computing",
    "gpuNum": 1,
    "hideHardwareSpecs": false,
    "memoryGiB": 256,
    "name": "ml.g4dn.16xlarge",
    "vcpuNum": 64
   },
   {
    "_defaultOrder": 35,
    "_isFastLaunch": false,
    "category": "Accelerated computing",
    "gpuNum": 1,
    "hideHardwareSpecs": false,
    "memoryGiB": 61,
    "name": "ml.p3.2xlarge",
    "vcpuNum": 8
   },
   {
    "_defaultOrder": 36,
    "_isFastLaunch": false,
    "category": "Accelerated computing",
    "gpuNum": 4,
    "hideHardwareSpecs": false,
    "memoryGiB": 244,
    "name": "ml.p3.8xlarge",
    "vcpuNum": 32
   },
   {
    "_defaultOrder": 37,
    "_isFastLaunch": false,
    "category": "Accelerated computing",
    "gpuNum": 8,
    "hideHardwareSpecs": false,
    "memoryGiB": 488,
    "name": "ml.p3.16xlarge",
    "vcpuNum": 64
   },
   {
    "_defaultOrder": 38,
    "_isFastLaunch": false,
    "category": "Accelerated computing",
    "gpuNum": 8,
    "hideHardwareSpecs": false,
    "memoryGiB": 768,
    "name": "ml.p3dn.24xlarge",
    "vcpuNum": 96
   },
   {
    "_defaultOrder": 39,
    "_isFastLaunch": false,
    "category": "Memory Optimized",
    "gpuNum": 0,
    "hideHardwareSpecs": false,
    "memoryGiB": 16,
    "name": "ml.r5.large",
    "vcpuNum": 2
   },
   {
    "_defaultOrder": 40,
    "_isFastLaunch": false,
    "category": "Memory Optimized",
    "gpuNum": 0,
    "hideHardwareSpecs": false,
    "memoryGiB": 32,
    "name": "ml.r5.xlarge",
    "vcpuNum": 4
   },
   {
    "_defaultOrder": 41,
    "_isFastLaunch": false,
    "category": "Memory Optimized",
    "gpuNum": 0,
    "hideHardwareSpecs": false,
    "memoryGiB": 64,
    "name": "ml.r5.2xlarge",
    "vcpuNum": 8
   },
   {
    "_defaultOrder": 42,
    "_isFastLaunch": false,
    "category": "Memory Optimized",
    "gpuNum": 0,
    "hideHardwareSpecs": false,
    "memoryGiB": 128,
    "name": "ml.r5.4xlarge",
    "vcpuNum": 16
   },
   {
    "_defaultOrder": 43,
    "_isFastLaunch": false,
    "category": "Memory Optimized",
    "gpuNum": 0,
    "hideHardwareSpecs": false,
    "memoryGiB": 256,
    "name": "ml.r5.8xlarge",
    "vcpuNum": 32
   },
   {
    "_defaultOrder": 44,
    "_isFastLaunch": false,
    "category": "Memory Optimized",
    "gpuNum": 0,
    "hideHardwareSpecs": false,
    "memoryGiB": 384,
    "name": "ml.r5.12xlarge",
    "vcpuNum": 48
   },
   {
    "_defaultOrder": 45,
    "_isFastLaunch": false,
    "category": "Memory Optimized",
    "gpuNum": 0,
    "hideHardwareSpecs": false,
    "memoryGiB": 512,
    "name": "ml.r5.16xlarge",
    "vcpuNum": 64
   },
   {
    "_defaultOrder": 46,
    "_isFastLaunch": false,
    "category": "Memory Optimized",
    "gpuNum": 0,
    "hideHardwareSpecs": false,
    "memoryGiB": 768,
    "name": "ml.r5.24xlarge",
    "vcpuNum": 96
   },
   {
    "_defaultOrder": 47,
    "_isFastLaunch": false,
    "category": "Accelerated computing",
    "gpuNum": 1,
    "hideHardwareSpecs": false,
    "memoryGiB": 16,
    "name": "ml.g5.xlarge",
    "vcpuNum": 4
   },
   {
    "_defaultOrder": 48,
    "_isFastLaunch": false,
    "category": "Accelerated computing",
    "gpuNum": 1,
    "hideHardwareSpecs": false,
    "memoryGiB": 32,
    "name": "ml.g5.2xlarge",
    "vcpuNum": 8
   },
   {
    "_defaultOrder": 49,
    "_isFastLaunch": false,
    "category": "Accelerated computing",
    "gpuNum": 1,
    "hideHardwareSpecs": false,
    "memoryGiB": 64,
    "name": "ml.g5.4xlarge",
    "vcpuNum": 16
   },
   {
    "_defaultOrder": 50,
    "_isFastLaunch": false,
    "category": "Accelerated computing",
    "gpuNum": 1,
    "hideHardwareSpecs": false,
    "memoryGiB": 128,
    "name": "ml.g5.8xlarge",
    "vcpuNum": 32
   },
   {
    "_defaultOrder": 51,
    "_isFastLaunch": false,
    "category": "Accelerated computing",
    "gpuNum": 1,
    "hideHardwareSpecs": false,
    "memoryGiB": 256,
    "name": "ml.g5.16xlarge",
    "vcpuNum": 64
   },
   {
    "_defaultOrder": 52,
    "_isFastLaunch": false,
    "category": "Accelerated computing",
    "gpuNum": 4,
    "hideHardwareSpecs": false,
    "memoryGiB": 192,
    "name": "ml.g5.12xlarge",
    "vcpuNum": 48
   },
   {
    "_defaultOrder": 53,
    "_isFastLaunch": false,
    "category": "Accelerated computing",
    "gpuNum": 4,
    "hideHardwareSpecs": false,
    "memoryGiB": 384,
    "name": "ml.g5.24xlarge",
    "vcpuNum": 96
   },
   {
    "_defaultOrder": 54,
    "_isFastLaunch": false,
    "category": "Accelerated computing",
    "gpuNum": 8,
    "hideHardwareSpecs": false,
    "memoryGiB": 768,
    "name": "ml.g5.48xlarge",
    "vcpuNum": 192
   },
   {
    "_defaultOrder": 55,
    "_isFastLaunch": false,
    "category": "Accelerated computing",
    "gpuNum": 8,
    "hideHardwareSpecs": false,
    "memoryGiB": 1152,
    "name": "ml.p4d.24xlarge",
    "vcpuNum": 96
   },
   {
    "_defaultOrder": 56,
    "_isFastLaunch": false,
    "category": "Accelerated computing",
    "gpuNum": 8,
    "hideHardwareSpecs": false,
    "memoryGiB": 1152,
    "name": "ml.p4de.24xlarge",
    "vcpuNum": 96
   },
   {
    "_defaultOrder": 57,
    "_isFastLaunch": false,
    "category": "Accelerated computing",
    "gpuNum": 0,
    "hideHardwareSpecs": false,
    "memoryGiB": 32,
    "name": "ml.trn1.2xlarge",
    "vcpuNum": 8
   },
   {
    "_defaultOrder": 58,
    "_isFastLaunch": false,
    "category": "Accelerated computing",
    "gpuNum": 0,
    "hideHardwareSpecs": false,
    "memoryGiB": 512,
    "name": "ml.trn1.32xlarge",
    "vcpuNum": 128
   },
   {
    "_defaultOrder": 59,
    "_isFastLaunch": false,
    "category": "Accelerated computing",
    "gpuNum": 0,
    "hideHardwareSpecs": false,
    "memoryGiB": 512,
    "name": "ml.trn1n.32xlarge",
    "vcpuNum": 128
   }
  ],
  "instance_type": "ml.m5.2xlarge",
  "kernelspec": {
   "display_name": "Python 3 (Data Science 3.0)",
   "language": "python",
   "name": "python3__SAGEMAKER_INTERNAL__arn:aws:sagemaker:us-east-1:081325390199:image/sagemaker-data-science-310-v1"
  },
  "language_info": {
   "codemirror_mode": {
    "name": "ipython",
    "version": 3
   },
   "file_extension": ".py",
   "mimetype": "text/x-python",
   "name": "python",
   "nbconvert_exporter": "python",
   "pygments_lexer": "ipython3",
   "version": "3.10.6"
  }
 },
 "nbformat": 4,
 "nbformat_minor": 5
}
