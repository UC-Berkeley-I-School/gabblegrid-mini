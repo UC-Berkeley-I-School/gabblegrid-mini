{
 "cells": [
  {
   "cell_type": "markdown",
   "id": "266dfcb2-2762-4a45-9297-89bfe1a5467d",
   "metadata": {},
   "source": [
    "# Hide API Keys before pushing to GitHub"
   ]
  },
  {
   "cell_type": "code",
   "execution_count": 1,
   "id": "e22938cc-304e-46d3-9fde-a7f972c2f1e3",
   "metadata": {},
   "outputs": [],
   "source": [
    "import os\n",
    "import json\n",
    "import re\n",
    "\n",
    "def replace_api_keys_in_notebooks(directory, keys):\n",
    "    # Recursively find all .ipynb files in the directory\n",
    "    for root, _, files in os.walk(directory):\n",
    "        for file in files:\n",
    "            if file.endswith('.ipynb'):\n",
    "                file_path = os.path.join(root, file)\n",
    "                with open(file_path, 'r', encoding='utf-8') as f:\n",
    "                    notebook_content = json.load(f)\n",
    "\n",
    "                # Replace API key values\n",
    "                for cell in notebook_content['cells']:\n",
    "                    if cell['cell_type'] == 'code':\n",
    "                        new_source = []\n",
    "                        for line in cell['source']:\n",
    "                            for key in keys:\n",
    "                                if key in line:\n",
    "                                    line = replace_key_value(line, key)\n",
    "                            new_source.append(line)\n",
    "                        cell['source'] = new_source\n",
    "\n",
    "                # Save the updated notebook\n",
    "                with open(file_path, 'w', encoding='utf-8') as f:\n",
    "                    json.dump(notebook_content, f, indent=2)\n",
    "\n",
    "def replace_key_value(line, key):\n",
    "    # Define patterns to find and replace the API keys\n",
    "    patterns = [\n",
    "        re.compile(rf'({key}\\s*=\\s*[\\'\"])(.*?)([\\'\"])'),  # Matches key=\"value\" or key='value'\n",
    "        re.compile(rf'([\\'\"]{key}[\\'\"]\\s*:\\s*[\\'\"])(.*?)([\\'\"])'),  # Matches 'key': 'value' or \"key\": \"value\"\n",
    "        re.compile(rf'(\\b{key}\\b\\s*=\\s*)(.*?)(\\s|$|#)'),  # Matches key=value\n",
    "        re.compile(rf'(os\\.environ\\[\"{key}\"\\]\\s*=\\s*[\\'\"])(.*?)([\\'\"])'),  # Matches os.environ[\"key\"] = \"value\"\n",
    "        re.compile(rf'(os\\.environ\\[\"{key}\"\\s*=\\s*[\\'\"])(.*?)([\\'\"])'),  # Matches os.environ[\"key=\"value\"\n",
    "    ]\n",
    "    \n",
    "    def replacer(match):\n",
    "        full_match = match.group(0)\n",
    "        value = match.group(2)\n",
    "        return full_match.replace(value, '*' * len(value))\n",
    "    \n",
    "    for pattern in patterns:\n",
    "        line = pattern.sub(replacer, line)\n",
    "    \n",
    "    return line\n",
    "\n",
    "# Directory containing the notebooks\n",
    "directory = '/home/ubuntu/efs-w210-capstone-ebs/05.GitHub_Project_Repo_GabbleGrid/06.Inference_and_Deployment'\n",
    "\n",
    "# List of API keys to replace\n",
    "keys = [\n",
    "    'OPENAI_API_KEY',\n",
    "    'SERPAPI_API_KEY',\n",
    "    'api_key',\n",
    "    'BING_API_KEY',\n",
    "    'bing_api_key'\n",
    "]"
   ]
  },
  {
   "cell_type": "code",
   "execution_count": 2,
   "id": "b5bd1599-f670-428a-87da-92fc37b29118",
   "metadata": {},
   "outputs": [],
   "source": [
    "replace_api_keys_in_notebooks(directory, keys)"
   ]
  },
  {
   "cell_type": "code",
   "execution_count": null,
   "id": "d074059e-4a61-4ffb-a22f-ab709ddac95d",
   "metadata": {},
   "outputs": [],
   "source": []
  }
 ],
 "metadata": {
  "kernelspec": {
   "display_name": "20240716_Autogen_Full",
   "language": "python",
   "name": "20240716_autogen_full"
  },
  "language_info": {
   "codemirror_mode": {
    "name": "ipython",
    "version": 3
   },
   "file_extension": ".py",
   "mimetype": "text/x-python",
   "name": "python",
   "nbconvert_exporter": "python",
   "pygments_lexer": "ipython3",
   "version": "3.10.14"
  }
 },
 "nbformat": 4,
 "nbformat_minor": 5
}
