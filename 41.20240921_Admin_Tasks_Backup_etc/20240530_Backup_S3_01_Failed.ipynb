{
 "cells": [
  {
   "cell_type": "markdown",
   "id": "a15f28a5-5fbb-4492-babf-4617bc31a0d0",
   "metadata": {},
   "source": [
    "# Admin Tasks"
   ]
  },
  {
   "cell_type": "markdown",
   "id": "3536c3a6-4bf4-4e96-85dc-a9713d1a0e3c",
   "metadata": {},
   "source": [
    "#### Backup from EFS to S3"
   ]
  },
  {
   "cell_type": "code",
   "execution_count": 6,
   "id": "32db0912-2cc5-4046-895a-07268873785c",
   "metadata": {},
   "outputs": [
    {
     "name": "stdout",
     "output_type": "stream",
     "text": [
      "Backup completed.\n"
     ]
    }
   ],
   "source": [
    "import boto3\n",
    "import os\n",
    "from datetime import datetime\n",
    "\n",
    "# Define the source directory and the destination S3 bucket and prefix\n",
    "source_directory = \"/home/sagemaker-user\"  # Adjust this path if your EFS mount point is different\n",
    "s3_bucket = \"w210-capstone\"\n",
    "s3_prefix = \"01.Backups\"\n",
    "\n",
    "# Create a folder name with the current date and time\n",
    "timestamp = datetime.now().strftime('%Y%m%d_%H%M%S')\n",
    "s3_backup_folder = f\"{s3_prefix}/{timestamp}\"\n",
    "\n",
    "# Create an S3 resource\n",
    "s3 = boto3.resource('s3')\n",
    "\n",
    "# Function to upload a file to S3\n",
    "def upload_file_to_s3(file_path, bucket, s3_path):\n",
    "    try:\n",
    "        s3.Bucket(bucket).upload_file(file_path, s3_path)\n",
    "        print(f\"Uploaded {file_path} to s3://{bucket}/{s3_path}\")\n",
    "    except Exception as e:\n",
    "        print(f\"Failed to upload {file_path} to s3://{bucket}/{s3_path}: {str(e)}\")\n",
    "\n",
    "# Walk through all files and directories in the source directory\n",
    "for root, dirs, files in os.walk(source_directory):\n",
    "    for file in files:\n",
    "        # Construct the full local path\n",
    "        local_path = os.path.join(root, file)\n",
    "        \n",
    "        # Construct the full S3 path\n",
    "        relative_path = os.path.relpath(local_path, source_directory)\n",
    "        s3_path = os.path.join(s3_backup_folder, relative_path)\n",
    "        \n",
    "        # Upload the file\n",
    "        upload_file_to_s3(local_path, s3_bucket, s3_path)\n",
    "\n",
    "print(\"Backup completed.\")\n"
   ]
  },
  {
   "cell_type": "code",
   "execution_count": 7,
   "id": "04fa3542-d586-46d1-9a6d-b2f8af0bda7c",
   "metadata": {},
   "outputs": [
    {
     "name": "stdout",
     "output_type": "stream",
     "text": [
      "Backup completed.\n"
     ]
    }
   ],
   "source": [
    "import boto3\n",
    "import os\n",
    "from datetime import datetime\n",
    "\n",
    "# Define the source directory and the destination S3 bucket and prefix\n",
    "source_directory = \"/home/sagemaker-user\"  # Adjust this path if your EFS mount point is different\n",
    "s3_bucket = \"w210-capstone\"\n",
    "s3_prefix = \"01.Backups\"\n",
    "\n",
    "# Create a folder name with the current date and time\n",
    "timestamp = datetime.now().strftime('%Y%m%d_%H%M%S')\n",
    "s3_backup_folder = f\"{s3_prefix}/{timestamp}\"\n",
    "\n",
    "# Create an S3 client\n",
    "s3_client = boto3.client('s3')\n",
    "\n",
    "# Function to upload a file to S3\n",
    "def upload_file_to_s3(file_path, bucket, s3_path):\n",
    "    try:\n",
    "        s3_client.upload_file(file_path, bucket, s3_path)\n",
    "        print(f\"Uploaded {file_path} to s3://{bucket}/{s3_path}\")\n",
    "    except Exception as e:\n",
    "        print(f\"Failed to upload {file_path} to s3://{bucket}/{s3_path}: {str(e)}\")\n",
    "\n",
    "# Walk through all files and directories in the source directory\n",
    "for root, dirs, files in os.walk(source_directory):\n",
    "    for file in files:\n",
    "        # Construct the full local path\n",
    "        local_path = os.path.join(root, file)\n",
    "        \n",
    "        # Construct the full S3 path\n",
    "        relative_path = os.path.relpath(local_path, source_directory)\n",
    "        s3_path = os.path.join(s3_backup_folder, relative_path)\n",
    "        \n",
    "        # Upload the file\n",
    "        upload_file_to_s3(local_path, s3_bucket, s3_path)\n",
    "\n",
    "print(\"Backup completed.\")\n"
   ]
  },
  {
   "cell_type": "code",
   "execution_count": 8,
   "id": "c00eea2b-2507-41b7-92ad-1ae481f1d3b4",
   "metadata": {},
   "outputs": [
    {
     "name": "stdout",
     "output_type": "stream",
     "text": [
      "Failed to upload /home/sagemaker-user/10.EDA/20240529_(B)_BGL_Parquet_Raw_GN_v1.00.ipynb to s3://w210-capstone/01.Backups/20240529_(B)_BGL_Parquet_Raw_GN_v1.00.ipynb: [Errno 2] No such file or directory: '/home/sagemaker-user/10.EDA/20240529_(B)_BGL_Parquet_Raw_GN_v1.00.ipynb'\n"
     ]
    }
   ],
   "source": [
    "import boto3\n",
    "import os\n",
    "\n",
    "# Define the source file path and the destination S3 bucket and key\n",
    "source_file_path = \"/home/sagemaker-user/10.EDA/20240529_(B)_BGL_Parquet_Raw_GN_v1.00.ipynb\"\n",
    "s3_bucket = \"w210-capstone\"\n",
    "s3_key = \"01.Backups/20240529_(B)_BGL_Parquet_Raw_GN_v1.00.ipynb\"\n",
    "\n",
    "# Create an S3 client\n",
    "s3_client = boto3.client('s3')\n",
    "\n",
    "# Function to upload a file to S3\n",
    "def upload_file_to_s3(file_path, bucket, s3_path):\n",
    "    try:\n",
    "        s3_client.upload_file(file_path, bucket, s3_path)\n",
    "        print(f\"Uploaded {file_path} to s3://{bucket}/{s3_path}\")\n",
    "    except Exception as e:\n",
    "        print(f\"Failed to upload {file_path} to s3://{bucket}/{s3_path}: {str(e)}\")\n",
    "\n",
    "# Upload the single file\n",
    "upload_file_to_s3(source_file_path, s3_bucket, s3_key)\n"
   ]
  },
  {
   "cell_type": "code",
   "execution_count": 12,
   "id": "564f781b-d599-4e33-beb8-97acb15eeabf",
   "metadata": {},
   "outputs": [
    {
     "name": "stdout",
     "output_type": "stream",
     "text": [
      "Absolute path of the file to upload: /root/31.Admin_Tasks_Backup_etc/10.EDA/20240529_(B)_BGL_Parquet_Raw_GN_v1.00.ipynb\n",
      "Failed to upload /root/31.Admin_Tasks_Backup_etc/10.EDA/20240529_(B)_BGL_Parquet_Raw_GN_v1.00.ipynb to s3://w210-capstone/01.Backups/20240529_(B)_BGL_Parquet_Raw_GN_v1.00.ipynb: [Errno 2] No such file or directory: '/root/31.Admin_Tasks_Backup_etc/10.EDA/20240529_(B)_BGL_Parquet_Raw_GN_v1.00.ipynb'\n"
     ]
    }
   ],
   "source": [
    "import boto3\n",
    "import os\n",
    "\n",
    "# Define the source file path and the destination S3 bucket and key\n",
    "relative_file_path = \"10.EDA/20240529_(B)_BGL_Parquet_Raw_GN_v1.00.ipynb\"\n",
    "source_file_path = os.path.abspath(relative_file_path)\n",
    "s3_bucket = \"w210-capstone\"\n",
    "s3_key = \"01.Backups/20240529_(B)_BGL_Parquet_Raw_GN_v1.00.ipynb\"\n",
    "\n",
    "print(f\"Absolute path of the file to upload: {source_file_path}\")\n",
    "\n",
    "# Create an S3 client\n",
    "s3_client = boto3.client('s3')\n",
    "\n",
    "# Function to upload a file to S3\n",
    "def upload_file_to_s3(file_path, bucket, s3_path):\n",
    "    try:\n",
    "        s3_client.upload_file(file_path, bucket, s3_path)\n",
    "        print(f\"Uploaded {file_path} to s3://{bucket}/{s3_path}\")\n",
    "    except Exception as e:\n",
    "        print(f\"Failed to upload {file_path} to s3://{bucket}/{s3_path}: {str(e)}\")\n",
    "\n",
    "# Upload the single file\n",
    "upload_file_to_s3(source_file_path, s3_bucket, s3_key)\n"
   ]
  },
  {
   "cell_type": "code",
   "execution_count": 15,
   "id": "e593e4b5-179b-49df-b586-26d1638d9923",
   "metadata": {},
   "outputs": [
    {
     "name": "stdout",
     "output_type": "stream",
     "text": [
      "Current working directory: /root/31.Admin_Tasks_Backup_etc\n",
      "File exists: False\n",
      "File not found: /home/sagemaker-user/10.EDA/20240529_(B)_BGL_Parquet_Raw_GN_v1.00.ipynb\n"
     ]
    }
   ],
   "source": [
    "import boto3\n",
    "import os\n",
    "\n",
    "# Define the source file path and the destination S3 bucket and key\n",
    "source_file_path = r\"/home/sagemaker-user/10.EDA/20240529_(B)_BGL_Parquet_Raw_GN_v1.00.ipynb\"\n",
    "s3_bucket = \"w210-capstone\"\n",
    "s3_key = \"01.Backups/20240529_(B)_BGL_Parquet_Raw_GN_v1.00.ipynb\"\n",
    "\n",
    "# Confirm the current working directory\n",
    "current_directory = os.getcwd()\n",
    "print(f\"Current working directory: {current_directory}\")\n",
    "\n",
    "# Confirm the file exists at the specified path\n",
    "file_exists = os.path.exists(source_file_path)\n",
    "print(f\"File exists: {file_exists}\")\n",
    "\n",
    "# Create an S3 client\n",
    "s3_client = boto3.client('s3')\n",
    "\n",
    "# Function to upload a file to S3\n",
    "def upload_file_to_s3(file_path, bucket, s3_path):\n",
    "    try:\n",
    "        s3_client.upload_file(file_path, bucket, s3_path)\n",
    "        print(f\"Uploaded {file_path} to s3://{bucket}/{s3_path}\")\n",
    "    except Exception as e:\n",
    "        print(f\"Failed to upload {file_path} to s3://{bucket}/{s3_path}: {str(e)}\")\n",
    "\n",
    "# Only attempt to upload if the file exists\n",
    "if file_exists:\n",
    "    upload_file_to_s3(source_file_path, s3_bucket, s3_key)\n",
    "else:\n",
    "    print(f\"File not found: {source_file_path}\")\n"
   ]
  },
  {
   "cell_type": "code",
   "execution_count": 17,
   "id": "fc193324-5551-484a-b5eb-cece0596c462",
   "metadata": {},
   "outputs": [
    {
     "name": "stdout",
     "output_type": "stream",
     "text": [
      "Current working directory: /root/31.Admin_Tasks_Backup_etc\n",
      "File exists: False\n",
      "Attempting to upload: /home/sagemaker-user/11.Data/01.BGL/01.Raw_CFDR/bgl2.gz\n",
      "File not found: /home/sagemaker-user/11.Data/01.BGL/01.Raw_CFDR/bgl2.gz\n"
     ]
    }
   ],
   "source": [
    "import boto3\n",
    "import os\n",
    "\n",
    "# Define the source file path and the destination S3 bucket and key\n",
    "source_file_path = \"/home/sagemaker-user/11.Data/01.BGL/01.Raw_CFDR/bgl2.gz\"\n",
    "s3_bucket = \"w210-capstone\"\n",
    "s3_key = \"01.Backups/bgl2.gz\"\n",
    "\n",
    "# Confirm the current working directory\n",
    "current_directory = os.getcwd()\n",
    "print(f\"Current working directory: {current_directory}\")\n",
    "\n",
    "# Check if the file exists at the specified path\n",
    "file_exists = os.path.exists(source_file_path)\n",
    "print(f\"File exists: {file_exists}\")\n",
    "print(f\"Attempting to upload: {source_file_path}\")\n",
    "\n",
    "# Create an S3 client\n",
    "s3_client = boto3.client('s3')\n",
    "\n",
    "# Function to upload a file to S3\n",
    "def upload_file_to_s3(file_path, bucket, s3_path):\n",
    "    try:\n",
    "        s3_client.upload_file(file_path, bucket, s3_path)\n",
    "        print(f\"Uploaded {file_path} to s3://{bucket}/{s3_path}\")\n",
    "    except Exception as e:\n",
    "        print(f\"Failed to upload {file_path} to s3://{bucket}/{s3_path}: {str(e)}\")\n",
    "\n",
    "# Only attempt to upload if the file exists\n",
    "if file_exists:\n",
    "    upload_file_to_s3(source_file_path, s3_bucket, s3_key)\n",
    "else:\n",
    "    print(f\"File not found: {source_file_path}\")\n"
   ]
  },
  {
   "cell_type": "code",
   "execution_count": null,
   "id": "175d035f-e1de-4389-a4cf-3bf4ca719843",
   "metadata": {},
   "outputs": [],
   "source": []
  }
 ],
 "metadata": {
  "availableInstances": [
   {
    "_defaultOrder": 0,
    "_isFastLaunch": true,
    "category": "General purpose",
    "gpuNum": 0,
    "hideHardwareSpecs": false,
    "memoryGiB": 4,
    "name": "ml.t3.medium",
    "vcpuNum": 2
   },
   {
    "_defaultOrder": 1,
    "_isFastLaunch": false,
    "category": "General purpose",
    "gpuNum": 0,
    "hideHardwareSpecs": false,
    "memoryGiB": 8,
    "name": "ml.t3.large",
    "vcpuNum": 2
   },
   {
    "_defaultOrder": 2,
    "_isFastLaunch": false,
    "category": "General purpose",
    "gpuNum": 0,
    "hideHardwareSpecs": false,
    "memoryGiB": 16,
    "name": "ml.t3.xlarge",
    "vcpuNum": 4
   },
   {
    "_defaultOrder": 3,
    "_isFastLaunch": false,
    "category": "General purpose",
    "gpuNum": 0,
    "hideHardwareSpecs": false,
    "memoryGiB": 32,
    "name": "ml.t3.2xlarge",
    "vcpuNum": 8
   },
   {
    "_defaultOrder": 4,
    "_isFastLaunch": true,
    "category": "General purpose",
    "gpuNum": 0,
    "hideHardwareSpecs": false,
    "memoryGiB": 8,
    "name": "ml.m5.large",
    "vcpuNum": 2
   },
   {
    "_defaultOrder": 5,
    "_isFastLaunch": false,
    "category": "General purpose",
    "gpuNum": 0,
    "hideHardwareSpecs": false,
    "memoryGiB": 16,
    "name": "ml.m5.xlarge",
    "vcpuNum": 4
   },
   {
    "_defaultOrder": 6,
    "_isFastLaunch": false,
    "category": "General purpose",
    "gpuNum": 0,
    "hideHardwareSpecs": false,
    "memoryGiB": 32,
    "name": "ml.m5.2xlarge",
    "vcpuNum": 8
   },
   {
    "_defaultOrder": 7,
    "_isFastLaunch": false,
    "category": "General purpose",
    "gpuNum": 0,
    "hideHardwareSpecs": false,
    "memoryGiB": 64,
    "name": "ml.m5.4xlarge",
    "vcpuNum": 16
   },
   {
    "_defaultOrder": 8,
    "_isFastLaunch": false,
    "category": "General purpose",
    "gpuNum": 0,
    "hideHardwareSpecs": false,
    "memoryGiB": 128,
    "name": "ml.m5.8xlarge",
    "vcpuNum": 32
   },
   {
    "_defaultOrder": 9,
    "_isFastLaunch": false,
    "category": "General purpose",
    "gpuNum": 0,
    "hideHardwareSpecs": false,
    "memoryGiB": 192,
    "name": "ml.m5.12xlarge",
    "vcpuNum": 48
   },
   {
    "_defaultOrder": 10,
    "_isFastLaunch": false,
    "category": "General purpose",
    "gpuNum": 0,
    "hideHardwareSpecs": false,
    "memoryGiB": 256,
    "name": "ml.m5.16xlarge",
    "vcpuNum": 64
   },
   {
    "_defaultOrder": 11,
    "_isFastLaunch": false,
    "category": "General purpose",
    "gpuNum": 0,
    "hideHardwareSpecs": false,
    "memoryGiB": 384,
    "name": "ml.m5.24xlarge",
    "vcpuNum": 96
   },
   {
    "_defaultOrder": 12,
    "_isFastLaunch": false,
    "category": "General purpose",
    "gpuNum": 0,
    "hideHardwareSpecs": false,
    "memoryGiB": 8,
    "name": "ml.m5d.large",
    "vcpuNum": 2
   },
   {
    "_defaultOrder": 13,
    "_isFastLaunch": false,
    "category": "General purpose",
    "gpuNum": 0,
    "hideHardwareSpecs": false,
    "memoryGiB": 16,
    "name": "ml.m5d.xlarge",
    "vcpuNum": 4
   },
   {
    "_defaultOrder": 14,
    "_isFastLaunch": false,
    "category": "General purpose",
    "gpuNum": 0,
    "hideHardwareSpecs": false,
    "memoryGiB": 32,
    "name": "ml.m5d.2xlarge",
    "vcpuNum": 8
   },
   {
    "_defaultOrder": 15,
    "_isFastLaunch": false,
    "category": "General purpose",
    "gpuNum": 0,
    "hideHardwareSpecs": false,
    "memoryGiB": 64,
    "name": "ml.m5d.4xlarge",
    "vcpuNum": 16
   },
   {
    "_defaultOrder": 16,
    "_isFastLaunch": false,
    "category": "General purpose",
    "gpuNum": 0,
    "hideHardwareSpecs": false,
    "memoryGiB": 128,
    "name": "ml.m5d.8xlarge",
    "vcpuNum": 32
   },
   {
    "_defaultOrder": 17,
    "_isFastLaunch": false,
    "category": "General purpose",
    "gpuNum": 0,
    "hideHardwareSpecs": false,
    "memoryGiB": 192,
    "name": "ml.m5d.12xlarge",
    "vcpuNum": 48
   },
   {
    "_defaultOrder": 18,
    "_isFastLaunch": false,
    "category": "General purpose",
    "gpuNum": 0,
    "hideHardwareSpecs": false,
    "memoryGiB": 256,
    "name": "ml.m5d.16xlarge",
    "vcpuNum": 64
   },
   {
    "_defaultOrder": 19,
    "_isFastLaunch": false,
    "category": "General purpose",
    "gpuNum": 0,
    "hideHardwareSpecs": false,
    "memoryGiB": 384,
    "name": "ml.m5d.24xlarge",
    "vcpuNum": 96
   },
   {
    "_defaultOrder": 20,
    "_isFastLaunch": false,
    "category": "General purpose",
    "gpuNum": 0,
    "hideHardwareSpecs": true,
    "memoryGiB": 0,
    "name": "ml.geospatial.interactive",
    "supportedImageNames": [
     "sagemaker-geospatial-v1-0"
    ],
    "vcpuNum": 0
   },
   {
    "_defaultOrder": 21,
    "_isFastLaunch": true,
    "category": "Compute optimized",
    "gpuNum": 0,
    "hideHardwareSpecs": false,
    "memoryGiB": 4,
    "name": "ml.c5.large",
    "vcpuNum": 2
   },
   {
    "_defaultOrder": 22,
    "_isFastLaunch": false,
    "category": "Compute optimized",
    "gpuNum": 0,
    "hideHardwareSpecs": false,
    "memoryGiB": 8,
    "name": "ml.c5.xlarge",
    "vcpuNum": 4
   },
   {
    "_defaultOrder": 23,
    "_isFastLaunch": false,
    "category": "Compute optimized",
    "gpuNum": 0,
    "hideHardwareSpecs": false,
    "memoryGiB": 16,
    "name": "ml.c5.2xlarge",
    "vcpuNum": 8
   },
   {
    "_defaultOrder": 24,
    "_isFastLaunch": false,
    "category": "Compute optimized",
    "gpuNum": 0,
    "hideHardwareSpecs": false,
    "memoryGiB": 32,
    "name": "ml.c5.4xlarge",
    "vcpuNum": 16
   },
   {
    "_defaultOrder": 25,
    "_isFastLaunch": false,
    "category": "Compute optimized",
    "gpuNum": 0,
    "hideHardwareSpecs": false,
    "memoryGiB": 72,
    "name": "ml.c5.9xlarge",
    "vcpuNum": 36
   },
   {
    "_defaultOrder": 26,
    "_isFastLaunch": false,
    "category": "Compute optimized",
    "gpuNum": 0,
    "hideHardwareSpecs": false,
    "memoryGiB": 96,
    "name": "ml.c5.12xlarge",
    "vcpuNum": 48
   },
   {
    "_defaultOrder": 27,
    "_isFastLaunch": false,
    "category": "Compute optimized",
    "gpuNum": 0,
    "hideHardwareSpecs": false,
    "memoryGiB": 144,
    "name": "ml.c5.18xlarge",
    "vcpuNum": 72
   },
   {
    "_defaultOrder": 28,
    "_isFastLaunch": false,
    "category": "Compute optimized",
    "gpuNum": 0,
    "hideHardwareSpecs": false,
    "memoryGiB": 192,
    "name": "ml.c5.24xlarge",
    "vcpuNum": 96
   },
   {
    "_defaultOrder": 29,
    "_isFastLaunch": true,
    "category": "Accelerated computing",
    "gpuNum": 1,
    "hideHardwareSpecs": false,
    "memoryGiB": 16,
    "name": "ml.g4dn.xlarge",
    "vcpuNum": 4
   },
   {
    "_defaultOrder": 30,
    "_isFastLaunch": false,
    "category": "Accelerated computing",
    "gpuNum": 1,
    "hideHardwareSpecs": false,
    "memoryGiB": 32,
    "name": "ml.g4dn.2xlarge",
    "vcpuNum": 8
   },
   {
    "_defaultOrder": 31,
    "_isFastLaunch": false,
    "category": "Accelerated computing",
    "gpuNum": 1,
    "hideHardwareSpecs": false,
    "memoryGiB": 64,
    "name": "ml.g4dn.4xlarge",
    "vcpuNum": 16
   },
   {
    "_defaultOrder": 32,
    "_isFastLaunch": false,
    "category": "Accelerated computing",
    "gpuNum": 1,
    "hideHardwareSpecs": false,
    "memoryGiB": 128,
    "name": "ml.g4dn.8xlarge",
    "vcpuNum": 32
   },
   {
    "_defaultOrder": 33,
    "_isFastLaunch": false,
    "category": "Accelerated computing",
    "gpuNum": 4,
    "hideHardwareSpecs": false,
    "memoryGiB": 192,
    "name": "ml.g4dn.12xlarge",
    "vcpuNum": 48
   },
   {
    "_defaultOrder": 34,
    "_isFastLaunch": false,
    "category": "Accelerated computing",
    "gpuNum": 1,
    "hideHardwareSpecs": false,
    "memoryGiB": 256,
    "name": "ml.g4dn.16xlarge",
    "vcpuNum": 64
   },
   {
    "_defaultOrder": 35,
    "_isFastLaunch": false,
    "category": "Accelerated computing",
    "gpuNum": 1,
    "hideHardwareSpecs": false,
    "memoryGiB": 61,
    "name": "ml.p3.2xlarge",
    "vcpuNum": 8
   },
   {
    "_defaultOrder": 36,
    "_isFastLaunch": false,
    "category": "Accelerated computing",
    "gpuNum": 4,
    "hideHardwareSpecs": false,
    "memoryGiB": 244,
    "name": "ml.p3.8xlarge",
    "vcpuNum": 32
   },
   {
    "_defaultOrder": 37,
    "_isFastLaunch": false,
    "category": "Accelerated computing",
    "gpuNum": 8,
    "hideHardwareSpecs": false,
    "memoryGiB": 488,
    "name": "ml.p3.16xlarge",
    "vcpuNum": 64
   },
   {
    "_defaultOrder": 38,
    "_isFastLaunch": false,
    "category": "Accelerated computing",
    "gpuNum": 8,
    "hideHardwareSpecs": false,
    "memoryGiB": 768,
    "name": "ml.p3dn.24xlarge",
    "vcpuNum": 96
   },
   {
    "_defaultOrder": 39,
    "_isFastLaunch": false,
    "category": "Memory Optimized",
    "gpuNum": 0,
    "hideHardwareSpecs": false,
    "memoryGiB": 16,
    "name": "ml.r5.large",
    "vcpuNum": 2
   },
   {
    "_defaultOrder": 40,
    "_isFastLaunch": false,
    "category": "Memory Optimized",
    "gpuNum": 0,
    "hideHardwareSpecs": false,
    "memoryGiB": 32,
    "name": "ml.r5.xlarge",
    "vcpuNum": 4
   },
   {
    "_defaultOrder": 41,
    "_isFastLaunch": false,
    "category": "Memory Optimized",
    "gpuNum": 0,
    "hideHardwareSpecs": false,
    "memoryGiB": 64,
    "name": "ml.r5.2xlarge",
    "vcpuNum": 8
   },
   {
    "_defaultOrder": 42,
    "_isFastLaunch": false,
    "category": "Memory Optimized",
    "gpuNum": 0,
    "hideHardwareSpecs": false,
    "memoryGiB": 128,
    "name": "ml.r5.4xlarge",
    "vcpuNum": 16
   },
   {
    "_defaultOrder": 43,
    "_isFastLaunch": false,
    "category": "Memory Optimized",
    "gpuNum": 0,
    "hideHardwareSpecs": false,
    "memoryGiB": 256,
    "name": "ml.r5.8xlarge",
    "vcpuNum": 32
   },
   {
    "_defaultOrder": 44,
    "_isFastLaunch": false,
    "category": "Memory Optimized",
    "gpuNum": 0,
    "hideHardwareSpecs": false,
    "memoryGiB": 384,
    "name": "ml.r5.12xlarge",
    "vcpuNum": 48
   },
   {
    "_defaultOrder": 45,
    "_isFastLaunch": false,
    "category": "Memory Optimized",
    "gpuNum": 0,
    "hideHardwareSpecs": false,
    "memoryGiB": 512,
    "name": "ml.r5.16xlarge",
    "vcpuNum": 64
   },
   {
    "_defaultOrder": 46,
    "_isFastLaunch": false,
    "category": "Memory Optimized",
    "gpuNum": 0,
    "hideHardwareSpecs": false,
    "memoryGiB": 768,
    "name": "ml.r5.24xlarge",
    "vcpuNum": 96
   },
   {
    "_defaultOrder": 47,
    "_isFastLaunch": false,
    "category": "Accelerated computing",
    "gpuNum": 1,
    "hideHardwareSpecs": false,
    "memoryGiB": 16,
    "name": "ml.g5.xlarge",
    "vcpuNum": 4
   },
   {
    "_defaultOrder": 48,
    "_isFastLaunch": false,
    "category": "Accelerated computing",
    "gpuNum": 1,
    "hideHardwareSpecs": false,
    "memoryGiB": 32,
    "name": "ml.g5.2xlarge",
    "vcpuNum": 8
   },
   {
    "_defaultOrder": 49,
    "_isFastLaunch": false,
    "category": "Accelerated computing",
    "gpuNum": 1,
    "hideHardwareSpecs": false,
    "memoryGiB": 64,
    "name": "ml.g5.4xlarge",
    "vcpuNum": 16
   },
   {
    "_defaultOrder": 50,
    "_isFastLaunch": false,
    "category": "Accelerated computing",
    "gpuNum": 1,
    "hideHardwareSpecs": false,
    "memoryGiB": 128,
    "name": "ml.g5.8xlarge",
    "vcpuNum": 32
   },
   {
    "_defaultOrder": 51,
    "_isFastLaunch": false,
    "category": "Accelerated computing",
    "gpuNum": 1,
    "hideHardwareSpecs": false,
    "memoryGiB": 256,
    "name": "ml.g5.16xlarge",
    "vcpuNum": 64
   },
   {
    "_defaultOrder": 52,
    "_isFastLaunch": false,
    "category": "Accelerated computing",
    "gpuNum": 4,
    "hideHardwareSpecs": false,
    "memoryGiB": 192,
    "name": "ml.g5.12xlarge",
    "vcpuNum": 48
   },
   {
    "_defaultOrder": 53,
    "_isFastLaunch": false,
    "category": "Accelerated computing",
    "gpuNum": 4,
    "hideHardwareSpecs": false,
    "memoryGiB": 384,
    "name": "ml.g5.24xlarge",
    "vcpuNum": 96
   },
   {
    "_defaultOrder": 54,
    "_isFastLaunch": false,
    "category": "Accelerated computing",
    "gpuNum": 8,
    "hideHardwareSpecs": false,
    "memoryGiB": 768,
    "name": "ml.g5.48xlarge",
    "vcpuNum": 192
   },
   {
    "_defaultOrder": 55,
    "_isFastLaunch": false,
    "category": "Accelerated computing",
    "gpuNum": 8,
    "hideHardwareSpecs": false,
    "memoryGiB": 1152,
    "name": "ml.p4d.24xlarge",
    "vcpuNum": 96
   },
   {
    "_defaultOrder": 56,
    "_isFastLaunch": false,
    "category": "Accelerated computing",
    "gpuNum": 8,
    "hideHardwareSpecs": false,
    "memoryGiB": 1152,
    "name": "ml.p4de.24xlarge",
    "vcpuNum": 96
   },
   {
    "_defaultOrder": 57,
    "_isFastLaunch": false,
    "category": "Accelerated computing",
    "gpuNum": 0,
    "hideHardwareSpecs": false,
    "memoryGiB": 32,
    "name": "ml.trn1.2xlarge",
    "vcpuNum": 8
   },
   {
    "_defaultOrder": 58,
    "_isFastLaunch": false,
    "category": "Accelerated computing",
    "gpuNum": 0,
    "hideHardwareSpecs": false,
    "memoryGiB": 512,
    "name": "ml.trn1.32xlarge",
    "vcpuNum": 128
   },
   {
    "_defaultOrder": 59,
    "_isFastLaunch": false,
    "category": "Accelerated computing",
    "gpuNum": 0,
    "hideHardwareSpecs": false,
    "memoryGiB": 512,
    "name": "ml.trn1n.32xlarge",
    "vcpuNum": 128
   }
  ],
  "forced_instance_type": "ml.t3.medium",
  "forced_lcc_arn": "",
  "instance_type": "ml.t3.medium",
  "kernelspec": {
   "display_name": "Python 3 (Data Science 3.0)",
   "language": "python",
   "name": "python3__SAGEMAKER_INTERNAL__arn:aws:sagemaker:us-east-1:081325390199:image/sagemaker-data-science-310-v1"
  },
  "language_info": {
   "codemirror_mode": {
    "name": "ipython",
    "version": 3
   },
   "file_extension": ".py",
   "mimetype": "text/x-python",
   "name": "python",
   "nbconvert_exporter": "python",
   "pygments_lexer": "ipython3",
   "version": "3.10.6"
  }
 },
 "nbformat": 4,
 "nbformat_minor": 5
}
